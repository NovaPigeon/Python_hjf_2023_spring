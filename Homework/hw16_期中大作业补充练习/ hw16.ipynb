{
 "cells": [
  {
   "attachments": {},
   "cell_type": "markdown",
   "id": "3c92c0e8",
   "metadata": {},
   "source": [
    "## MovieLens 电影数据分析"
   ]
  },
  {
   "attachments": {},
   "cell_type": "markdown",
   "id": "199f49be",
   "metadata": {},
   "source": [
    "指导教师：胡俊峰\n",
    "\n",
    "负责助教：苏亚鲁，李浩然\n",
    "\n",
    "致谢：孙睿涵，刘宇川，李砺涵\n",
    "\n",
    "注意：仅需要提交.ipynb文件，请**不要**将下发压缩包中的其他文件一并交上。\n",
    "\n",
    "截止日期：5月10日24点"
   ]
  },
  {
   "attachments": {},
   "cell_type": "markdown",
   "id": "53346529",
   "metadata": {},
   "source": [
    "### 第一部分：男女用户观影偏好分析（4分）"
   ]
  },
  {
   "attachments": {},
   "cell_type": "markdown",
   "id": "001432fb",
   "metadata": {},
   "source": [
    "#### 读取moivelens 1M 数据（data目录）"
   ]
  },
  {
   "cell_type": "code",
   "execution_count": null,
   "id": "e6fc3dc1",
   "metadata": {
    "scrolled": true
   },
   "outputs": [],
   "source": [
    "import numpy as np\n",
    "import pandas as pd\n",
    "import warnings\n",
    "warnings.filterwarnings('ignore')\n",
    "# Reading ratings file\n",
    "ratings = pd.read_csv('data/ratings2.csv',  encoding='latin-1', usecols=['user_id', 'movie_id', 'rating', 'timestamp'])\n",
    "\n",
    "# Reading users file\n",
    "users = pd.read_csv('data/users.csv', encoding='latin-1', usecols=['user_id', 'gender', 'zipcode', 'age_desc', 'occ_desc'])\n",
    "\n",
    "# Reading movies file\n",
    "movies = pd.read_csv('data/movies.csv',  encoding='latin-1', usecols=['movie_id', 'title', 'genres'])"
   ]
  },
  {
   "cell_type": "code",
   "execution_count": null,
   "id": "4b85f3f8",
   "metadata": {
    "scrolled": true
   },
   "outputs": [],
   "source": [
    "ratings[int(1e6):int(1e6+10)]"
   ]
  },
  {
   "cell_type": "code",
   "execution_count": null,
   "id": "fb0129db",
   "metadata": {
    "scrolled": true
   },
   "outputs": [],
   "source": [
    "# Reading movies info file\n",
    "movies_info = pd.read_csv('data/info.csv',  encoding='latin-1', usecols=['id', 'name', 'genre','intro','directors','starts', 'release_time'])\n",
    "movies_info.rename(columns ={ 'id':'movie_id', 'starts': 'stars'}, inplace = True)\n",
    "movies_info"
   ]
  },
  {
   "attachments": {},
   "cell_type": "markdown",
   "id": "35458540",
   "metadata": {},
   "source": [
    "#### 1.1 结合观影信息、评分信息，分别筛选出前20部比较流行的男性/女性偏好电影。"
   ]
  },
  {
   "cell_type": "code",
   "execution_count": null,
   "id": "eac701b4",
   "metadata": {},
   "outputs": [],
   "source": [
    "# 筛选出观影人次大于300的电影\n",
    "popular = ratings['movie_id'].value_counts()\n",
    "popular = popular[popular > 300]\n",
    "popular = popular.rename('count')\n",
    "popular = popular.rename_axis('movie_id')\n",
    "print(\"Popular:\")\n",
    "display(popular)"
   ]
  },
  {
   "cell_type": "code",
   "execution_count": null,
   "id": "53b403c7",
   "metadata": {},
   "outputs": [],
   "source": [
    "import matplotlib.pyplot as plt\n",
    "\n",
    "# 如何衡量偏好程度？看过某部电影的男性/女性观众对该部电影的平均打分显然是最重要的衡量依据，\n",
    "# 但我们需要注意到，受“偏好”程度用男性/女性观众对该部电影的平均打分之差来衡量要比用各自的绝对值来衡量更合理。\n",
    "# 但是同时，该电影的观影人次也应当有加权，比如总观影人次非常多的电影如果还呈现出明显的性别打分差异，\n",
    "# 那么更能说明这部电影是明显的性别偏好电影，因为打分随机性等可能导致非内在的男女打分差异的因素影响会较弱，性别差异结果的“信度”就更高。\n",
    "# 不过这一项只是辅助指标，不应成为影响最终评价函数的最主要因素。故最终我选择用 \" * ln(总观影人次) \" 的方式。\n",
    "# 因此，我最终定义的评价函数是 \" (男性观众平均打分 - 女性观众平均打分) * ln(总观影人次) \" 。\n",
    "\n",
    "# 我这里没有使用每部电影的“男性观影人次”和“女性观影人次”这两个指标，\n",
    "# 是因为这会涉及男/女性观众人数不一致等问题，会带来麻烦，纵然进行归一化等操作也很难不使评价结果失真。\n",
    "\n",
    "gender_users = pd.merge(users, ratings, on='user_id', how='outer')\n",
    "gender_users = gender_users[gender_users['movie_id'].isin(popular.index)] # 只保留popular的电影\n",
    "\n",
    "female_users = gender_users[gender_users['gender'] == 'F']\n",
    "male_users = gender_users[gender_users['gender'] == 'M']\n",
    "\n",
    "# 计算平均打分\n",
    "female_mean_rating = female_users.groupby('movie_id')['rating'].mean()\n",
    "male_mean_rating = male_users.groupby('movie_id')['rating'].mean()\n",
    "print(\"Female mean rating:\")\n",
    "display(female_mean_rating)\n",
    "print(\"\\nMale mean rating:\")\n",
    "display(male_mean_rating)\n",
    "\n",
    "# 计算评价函数\n",
    "score = male_mean_rating - female_mean_rating\n",
    "score = pd.merge(score, popular, on='movie_id', how='outer') # 加入总观影人次这一列\n",
    "score['score'] = score['rating'] * np.log(score['count']) # score['score']这一列为评价函数\n",
    "print(\"\\nScore:\")\n",
    "display(score)"
   ]
  },
  {
   "cell_type": "code",
   "execution_count": null,
   "id": "a9da737d",
   "metadata": {},
   "outputs": [],
   "source": [
    "# 筛出前20名和后20名的电影，分别作为男/女性偏好的电影\n",
    "male_preference = score.nlargest(20, 'score').reset_index()\n",
    "female_preference = score.nsmallest(20, 'score').reset_index()\n",
    "female_preference['score'] = - female_preference['score']"
   ]
  },
  {
   "cell_type": "code",
   "execution_count": null,
   "id": "b088b848",
   "metadata": {},
   "outputs": [],
   "source": [
    "# 详细展示这些选出的电影的信息\n",
    "print(\"男性最偏好的20部电影：\")\n",
    "male_preference_detail = pd.merge(male_preference, movies, on='movie_id', how='inner')\n",
    "male_preference_detail = male_preference_detail.drop(['rating', 'count', 'score', 'movie_id'], axis=1) # 去除无需展示的列\n",
    "male_preference_detail['ranking'] = male_preference_detail.index.to_series().apply(lambda x: x+1)\n",
    "male_preference_detail = male_preference_detail.set_index('ranking') # 增加“排名”这一列，并将其设为index\n",
    "display(male_preference_detail)\n",
    "\n",
    "print(\"\\n女性最偏好的20部电影：\")\n",
    "female_preference_detail = pd.merge(female_preference, movies, on='movie_id', how='inner')\n",
    "female_preference_detail = female_preference_detail.drop(['rating', 'count', 'score', 'movie_id'], axis=1) # 去除无需展示的列\n",
    "female_preference_detail['ranking'] = female_preference_detail.index.to_series().apply(lambda x: x+1)\n",
    "female_preference_detail = female_preference_detail.set_index('ranking') # 增加“排名”这一列，并将其设为index\n",
    "display(female_preference_detail)"
   ]
  },
  {
   "attachments": {},
   "cell_type": "markdown",
   "id": "f70b2506",
   "metadata": {},
   "source": [
    "#### 思考：你有没有更好的描述“流行”的统计量？请进行实现（选做）"
   ]
  },
  {
   "cell_type": "code",
   "execution_count": null,
   "id": "5b65ce7e",
   "metadata": {},
   "outputs": [],
   "source": [
    "# TODO"
   ]
  },
  {
   "attachments": {},
   "cell_type": "markdown",
   "id": "c4013579",
   "metadata": {},
   "source": [
    "#### 1.2 针对不同类型（genres）的电影，统计分析男女偏好程度，并进行图形化对比显示。\n",
    "\n",
    "具体包括以下步骤\n",
    "\n",
    "（1）数据预处理：读取、合并表格\n",
    "\n",
    "（2）将genres进行split操作，构建描述矩阵\n",
    "\n",
    "（3）分别统计男女对不同类别电影评价的均值、标准差等统计量，并进行可视化对比分析。"
   ]
  },
  {
   "attachments": {},
   "cell_type": "markdown",
   "id": "668b4b0e",
   "metadata": {},
   "source": [
    "#### 数据预处理"
   ]
  },
  {
   "cell_type": "code",
   "execution_count": null,
   "id": "5d68f5d9",
   "metadata": {},
   "outputs": [],
   "source": [
    "data = pd.merge(ratings, users, how='outer')\n",
    "data = pd.merge(data, movies, how='outer')\n",
    "data"
   ]
  },
  {
   "cell_type": "code",
   "execution_count": null,
   "id": "856c34e9",
   "metadata": {},
   "outputs": [],
   "source": [
    "data_male = data[data.gender=='M']\n",
    "data_female = data[data.gender=='F']\n",
    "female_count = data_female.shape[0]\n",
    "male_count = data_male.shape[0]\n",
    "data_male.shape, data_female.shape"
   ]
  },
  {
   "attachments": {},
   "cell_type": "markdown",
   "id": "a0e750b2",
   "metadata": {},
   "source": [
    "#### 将genres进行split操作，构建描述矩阵"
   ]
  },
  {
   "cell_type": "code",
   "execution_count": null,
   "id": "e15de578",
   "metadata": {},
   "outputs": [],
   "source": [
    "# 看看总共有多少个风格\n",
    "genre_list = []\n",
    "for i in movies.genres:\n",
    "    genre = i.split(sep='|')\n",
    "    genre_list += genre\n",
    "genre_list = list(set(genre_list))\n",
    "genre_list"
   ]
  },
  {
   "cell_type": "code",
   "execution_count": null,
   "id": "b64f3003",
   "metadata": {},
   "outputs": [],
   "source": [
    "# 统计每个电影的风格\n",
    "num_movies = movies.shape[0]\n",
    "for genre in genre_list:\n",
    "    movies[genre] = 0\n",
    "for i in movies.index:\n",
    "    genre = movies.loc[i].genres.split(sep='|')\n",
    "    for j in genre:\n",
    "        movies[j][i] = 1\n",
    "movies"
   ]
  },
  {
   "cell_type": "code",
   "execution_count": null,
   "id": "89c7012b",
   "metadata": {},
   "outputs": [],
   "source": [
    "data_2 = pd.merge(ratings, users, how='outer')\n",
    "data_2 = pd.merge(data, movies, how='outer')\n",
    "data_2.shape"
   ]
  },
  {
   "cell_type": "code",
   "execution_count": null,
   "id": "3864d538",
   "metadata": {},
   "outputs": [],
   "source": [
    "data_2_male = data_2[data_2.gender=='M']\n",
    "data_2_female = data_2[data_2.gender=='F']\n",
    "\n",
    "data_2_male.head()"
   ]
  },
  {
   "cell_type": "code",
   "execution_count": null,
   "id": "2fb1811b",
   "metadata": {},
   "outputs": [],
   "source": [
    "# 初始化一个用于对比男女不同风格差异的表格\n",
    "df_2 = pd.DataFrame(np.zeros((len(genre_list), 8)), index=genre_list, columns=[['Male', 'Male', 'Male', 'Male', 'Female', 'Female', 'Female', 'Female'], ['mean', 'std', 'count', 'portion', 'mean', 'std', 'count', 'portion']])\n",
    "df_2"
   ]
  },
  {
   "cell_type": "code",
   "execution_count": null,
   "id": "f11b388c",
   "metadata": {},
   "outputs": [],
   "source": [
    "# 收集每个风格的均值，分风格将数据归一化；同时收集每个genre中男性和女性评分数据\n",
    "genre_rating_male = []\n",
    "genre_rating_female = []\n",
    "for i in genre_list:\n",
    "    data_2_genre_m = data_2_male[data_2_male[i]==1]\n",
    "    m_mean = data_2_genre_m.rating.mean()\n",
    "    m_std = data_2_genre_m.rating.std()\n",
    "    data_2_genre_m.rating = (data_2_genre_m.rating - m_mean) / m_std\n",
    "    df_2.loc[i, ('Male', 'mean')] = m_mean\n",
    "    df_2.loc[i, ('Male', 'std')] = m_std\n",
    "    df_2.loc[i, ('Male', 'count')] = data_2_genre_m.shape[0]\n",
    "    df_2.loc[i, ('Male', 'portion')] = df_2.loc[i, ('Male', 'count')] / male_count\n",
    "    genre_rating_male.append(data_2_genre_m.rating.to_list())\n",
    "\n",
    "\n",
    "    # 收集女性评分数据(4分)\n",
    "    # TODO\n",
    "\n",
    "\n",
    "\n",
    "df_2"
   ]
  },
  {
   "attachments": {},
   "cell_type": "markdown",
   "id": "5e388064",
   "metadata": {},
   "source": [
    "#### 可视化展示结果"
   ]
  },
  {
   "cell_type": "code",
   "execution_count": null,
   "id": "acdbe687",
   "metadata": {},
   "outputs": [],
   "source": [
    "import matplotlib.pyplot as plt\n",
    "df_2.plot.barh(y=[('Male', 'mean'), ('Female', 'mean')], color=['cyan', 'tab:pink'])\n",
    "plt.title('Rating by Genres')\n",
    "plt.xlim(3, 4.5)\n",
    "plt.legend(['Male', 'Female'])\n",
    "plt.savefig('ratings by genres.png')"
   ]
  },
  {
   "cell_type": "code",
   "execution_count": null,
   "id": "3cc89a16",
   "metadata": {},
   "outputs": [],
   "source": [
    "df_2.sort_values(by=('Male', 'count'), inplace=True, ascending=False)\n",
    "df_2.plot.bar(y=('Male', 'count'), color=(0, 128/255, 128/255))\n",
    "plt.title('Watched by Genres: Male')\n",
    "plt.savefig('counts by genres: male.png')"
   ]
  },
  {
   "cell_type": "code",
   "execution_count": null,
   "id": "55d5bb17",
   "metadata": {},
   "outputs": [],
   "source": [
    "df_2.sort_values(by=('Female', 'count'), inplace=True, ascending=False)\n",
    "df_2.plot.bar(y=('Female', 'count'), color='orange')\n",
    "plt.title('Watched by Genres: Female')\n",
    "plt.savefig('counts by genres: female.png')"
   ]
  },
  {
   "cell_type": "code",
   "execution_count": null,
   "id": "818bcdbb",
   "metadata": {},
   "outputs": [],
   "source": [
    "df_2.plot.bar(y=[('Male', 'portion'), ('Female', 'portion')], color=[(0, 128/255, 128/255), 'orange'])\n",
    "plt.title('Watched by Genres')\n",
    "plt.legend(['Male', 'Female'])\n",
    "plt.savefig('counts by genres.png')"
   ]
  },
  {
   "attachments": {},
   "cell_type": "markdown",
   "id": "c1c9be27",
   "metadata": {},
   "source": [
    "### 第二部分：通过观影及评分信息，手动实现KNN（K-Nearest Neighbor）算法预测观众的年龄和性别（6分）"
   ]
  },
  {
   "cell_type": "code",
   "execution_count": null,
   "id": "69bd46d9",
   "metadata": {},
   "outputs": [],
   "source": [
    "from sklearn import model_selection\n",
    "from sklearn.decomposition import PCA\n",
    "\n",
    "ratings_user_stats2 = ratings.groupby('user_id').agg({'rating':'mean','movie_id':'count'})\n",
    "ratings_user_stats2.rename(columns={'rating':'rating_average','movie_id':'movie_count'}, inplace = True)\n",
    "# 筛选观影数超过100的用户\n",
    "ratings_user_stats2 = ratings_user_stats2[ratings_user_stats2['movie_count'] > 100] \n",
    "ratings_user_stats2.insert(ratings_user_stats2.shape[1], 'index', range(ratings_user_stats2.shape[0]))\n",
    "ratings_user_stats2 = ratings_user_stats2.set_index('index', append=True).reset_index(['user_id']).merge(users, left_on ='user_id', \n",
    "                                                                                                        right_on = 'user_id', how = 'left').loc[:, ['user_id', 'rating_average', 'gender', 'age_desc', 'movie_count']]\n",
    "ratings_user_stats2"
   ]
  },
  {
   "cell_type": "code",
   "execution_count": null,
   "id": "2f30e1e2",
   "metadata": {},
   "outputs": [],
   "source": [
    "from collections import Counter\n",
    "from sklearn.model_selection import train_test_split\n",
    "import numpy as np\n",
    "import random\n",
    "np.random.seed(0)\n",
    "X_gender = ratings_user_stats2.loc[:, ['rating_average', 'movie_count']].values\n",
    "X_age = ratings_user_stats2.loc[:, ['rating_average']].values\n",
    "y_age = ratings_user_stats2.loc[:, 'age_desc'].values\n",
    "y_gender = ratings_user_stats2.loc[:, 'gender'].values\n",
    "X_train_age, X_test_age, y_train_age, y_test_age = train_test_split(X_age, y_age, test_size = 0.2)\n",
    "X_train_gender, X_test_gender, y_train_gender, y_test_gender = train_test_split(X_gender, y_gender, test_size = 0.2)"
   ]
  },
  {
   "cell_type": "code",
   "execution_count": null,
   "id": "4259378b",
   "metadata": {},
   "outputs": [],
   "source": [
    "def knn_classify(X, y, testInstance, k):\n",
    "    # 手动实现KNN算法，注意使用向量化运算提高效率（6分）\n",
    "    # 可分为四步:计算元素两两之间的距离；找出最近的K个元素的idx; 找出KNN对应的n个y值; 返回投票结果\n",
    "    # TODO"
   ]
  },
  {
   "cell_type": "code",
   "execution_count": null,
   "id": "f80d0997",
   "metadata": {},
   "outputs": [],
   "source": [
    "# K值是试验出来的\n",
    "predictions_age = [knn_classify(X_train_age, y_train_age, data, 13) for data in X_test_age]\n",
    "predictions_gender = [knn_classify(X_train_gender, y_train_gender, data, 24) for data in X_test_gender] "
   ]
  },
  {
   "cell_type": "code",
   "execution_count": null,
   "id": "5127e5aa",
   "metadata": {},
   "outputs": [],
   "source": [
    "from sklearn.metrics import accuracy_score\n",
    "from sklearn.metrics import recall_score\n",
    "\n",
    "print(accuracy_score(y_test_age, predictions_age)) \n",
    "print(recall_score(y_test_age, predictions_age, average='micro')) \n",
    "print(accuracy_score(y_test_gender, predictions_gender)) \n",
    "print(recall_score(y_test_gender, predictions_gender, average='micro')) "
   ]
  },
  {
   "attachments": {},
   "cell_type": "markdown",
   "id": "591ba43b",
   "metadata": {},
   "source": [
    "#### 思考：该KNN实现的预测结果并不理想，你有没有改进策略？（选做）"
   ]
  },
  {
   "cell_type": "code",
   "execution_count": null,
   "id": "468eab1c",
   "metadata": {},
   "outputs": [],
   "source": [
    "# TODO"
   ]
  }
 ],
 "metadata": {
  "interpreter": {
   "hash": "c6d75faae7a79344aebebe590a99b59cf8a72b3d37d33c79a781146b601c035c"
  },
  "kernelspec": {
   "display_name": "Python 3.9.0 64-bit ('py39': conda)",
   "name": "python3"
  },
  "language_info": {
   "codemirror_mode": {
    "name": "ipython",
    "version": 3
   },
   "file_extension": ".py",
   "mimetype": "text/x-python",
   "name": "python",
   "nbconvert_exporter": "python",
   "pygments_lexer": "ipython3",
   "version": "3.9.13"
  }
 },
 "nbformat": 4,
 "nbformat_minor": 5
}
