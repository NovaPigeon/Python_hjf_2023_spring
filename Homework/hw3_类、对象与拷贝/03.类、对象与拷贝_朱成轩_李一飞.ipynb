{
 "cells": [
  {
   "attachments": {},
   "cell_type": "markdown",
   "metadata": {},
   "source": [
    "# Homework_2023_03_02\n",
    "\n",
    "指导老师：胡俊峰\n",
    "\n",
    "负责助教：朱成轩、李一飞\n",
    "\n",
    "已选课、教学网上无法看到这门课的同学可用邮件提交，邮箱仍为liyifei@stu.pku.edu.cn\n",
    "\n",
    "注意：仅需要提交.ipynb文件，请**不要**将下发压缩包中的random_ID_list.txt一并交上。"
   ]
  },
  {
   "cell_type": "markdown",
   "metadata": {},
   "source": [
    "## 第零部分：请认真阅读代码，理解代码的功能，并简要分析代码"
   ]
  },
  {
   "attachments": {},
   "cell_type": "markdown",
   "metadata": {},
   "source": [
    "### 0.1 python引用计数\n",
    "在一些代码中，如果存在一些变量但是没有用，会造成内存空间，因此叫做垃圾，所以要回收。\n",
    "\n",
    "引用计数增加的场景有：\n",
    "* 对象被创建并赋值给某个变量，比如：a = 'ABC'\n",
    "* 变量间的相互引用（相当于变量指向了同一个对象），比如：b=a\n",
    "* 变量作为参数传到函数中。比如：ref_method(a)，\n",
    "* 将对象放到某个容器对象中(列表、元组、字典)。比如：c = [1, a, 'abc']\n",
    "\n",
    "引用计数减少的场景有：\n",
    "* 当一个变量离开了作用域，比如：函数执行完成时，执行方法前后的引用计数保持不变，这就是因为方法执行完后，对象的引用计数也会减少，如果在方法内打印，则能看到引用计数增加的效果。\n",
    "* 对象的引用变量被销毁时，比如del a或者del b。注意如果del a，再去获取a的引用计数会直接报错。\n",
    "* 对象被从容器对象中移除，比如：c.remove(a)\n",
    "* 直接将整个容器销毁，比如：del c\n",
    "* 对象的引用被赋值给其他对象，相当于变量不指向之前的对象，而是指向了一个新的对象，这种情况，引用计数肯定会发生改变。(排除两个对象默认引用计一致的场景)\n"
   ]
  },
  {
   "cell_type": "code",
   "execution_count": 9,
   "metadata": {},
   "outputs": [
    {
     "name": "stdout",
     "output_type": "stream",
     "text": [
      "测试引用计数增加\n",
      "89\n",
      "90\n",
      "92\n",
      "我调用了A\n",
      "方法执行完了\n",
      "90\n",
      "91\n",
      "测试引用计数减少\n",
      "90\n",
      "89\n",
      "89\n",
      "4\n"
     ]
    }
   ],
   "source": [
    "import sys\n",
    "\n",
    "\n",
    "def ref_method(str):\n",
    "    print(sys.getrefcount(str))\n",
    "    print(\"我调用了{}\".format(str))\n",
    "    print('方法执行完了')\n",
    "\n",
    "\n",
    "def ref_count():\n",
    "    # 引用计数增加的场景\n",
    "    print('测试引用计数增加')\n",
    "    a = 'A' # 对象 'A' 引用数+1\n",
    "    print(sys.getrefcount(a))  \n",
    "    b = a # +1\n",
    "    print(sys.getrefcount(a))\n",
    "    ref_method(a) # 在函数中，由于传参引用数增加，但等函数返回后变量离开作用域，引用数减少到与函数调用前相同\n",
    "    print(sys.getrefcount(a))\n",
    "    c = [1, a, 'abc'] # +1，被放到容器中\n",
    "    print(sys.getrefcount(a))\n",
    "\n",
    "    # 引用计数减少的场景\n",
    "    print('测试引用计数减少')\n",
    "    del b # -1，显式地销毁\n",
    "    print(sys.getrefcount(a))\n",
    "    c.remove(a) # 从容器中移除引用，-1\n",
    "    print(sys.getrefcount(a))\n",
    "    del c # 无关\n",
    "    print(sys.getrefcount(a))\n",
    "    a = 783 # 变量被指向新的对象，-1\n",
    "    print(sys.getrefcount(a))\n",
    "\n",
    "if __name__ == '__main__':\n",
    "    ref_count()\n",
    "\n",
    "# \"\"\"\n",
    "# ########## 可能的输出 ##########\n",
    "# 测试引用计数增加\n",
    "# 78   #77+1 77在函数中是随机的\n",
    "# 79\n",
    "# 81\n",
    "# 我调用了A\n",
    "# 方法执行完了\n",
    "# 79\n",
    "# 80\n",
    "# 测试引用计数减少\n",
    "# 79\n",
    "# 78\n",
    "# 78\n",
    "# 4\n",
    "# \"\"\""
   ]
  },
  {
   "cell_type": "markdown",
   "metadata": {},
   "source": [
    "### 0.2 阅读下面三段关于迭代器的代码，思考应该有的运行效果。运行代码并观察思考与预想结果有区别的原因。"
   ]
  },
  {
   "cell_type": "code",
   "execution_count": 10,
   "metadata": {},
   "outputs": [
    {
     "name": "stdout",
     "output_type": "stream",
     "text": [
      "1\n",
      "2\n",
      "3\n"
     ]
    }
   ],
   "source": [
    "l = [1, 2, 3]  # define a list\n",
    "l_iter = iter(l)  # create list_iterator\n",
    "# 列表经 iter() 显式地转化为迭代器\n",
    "while True:\n",
    "    # item will be \"end\" if iteration is complete\n",
    "    item = next(l_iter, \"end\")\n",
    "    if item == \"end\":\n",
    "        break\n",
    "    print(item)"
   ]
  },
  {
   "cell_type": "code",
   "execution_count": 11,
   "metadata": {},
   "outputs": [
    {
     "data": {
      "text/plain": [
       "'\\nwhile True:\\n    item = next(li, \"end\")\\n    if item == \"end\":\\n        break\\n    print(item)\\n'"
      ]
     },
     "execution_count": 11,
     "metadata": {},
     "output_type": "execute_result"
    }
   ],
   "source": [
    "li = [1, 2, 3]  # define a list\n",
    "# 列表未经转化，不支持 next() 方法\n",
    "while True:\n",
    "    item = next(li, \"end\")\n",
    "    if item == \"end\":\n",
    "        break\n",
    "    print(item)"
   ]
  },
  {
   "cell_type": "code",
   "execution_count": 12,
   "metadata": {},
   "outputs": [
    {
     "name": "stdout",
     "output_type": "stream",
     "text": [
      "1\n",
      "2\n",
      "3\n"
     ]
    }
   ],
   "source": [
    "l = (i for i in [1, 2, 3])  # define a generater\n",
    "# 生成器总是迭代器\n",
    "while True:\n",
    "    item = next(l,'end')\n",
    "    if item == \"end\":\n",
    "        break\n",
    "    print(item)"
   ]
  },
  {
   "cell_type": "markdown",
   "metadata": {},
   "source": [
    "#### 0.3 阅读理解下面多继承关系的例子（from：geeksforgeeks）"
   ]
  },
  {
   "cell_type": "code",
   "execution_count": 13,
   "metadata": {},
   "outputs": [
    {
     "name": "stdout",
     "output_type": "stream",
     "text": [
      "Dog cannot fly\n",
      "Dog cannot swim\n",
      "Dog Is a mammal\n"
     ]
    }
   ],
   "source": [
    "class Mammal():\n",
    " \n",
    "    def __init__(self, name):\n",
    "        print(name, \"Is a mammal\")\n",
    " \n",
    "class canFly(Mammal):\n",
    " \n",
    "    def __init__(self, canFly_name):\n",
    "        print(canFly_name, \"cannot fly\")\n",
    " \n",
    "        # Calling Parent class\n",
    "        # Constructor\n",
    "        super().__init__(canFly_name)\n",
    " \n",
    "class canSwim(Mammal):\n",
    " \n",
    "    def __init__(self, canSwim_name):\n",
    " \n",
    "        print(canSwim_name, \"cannot swim\")\n",
    " \n",
    "        super().__init__(canSwim_name)\n",
    " \n",
    "class Animal(canFly, canSwim):\n",
    " \n",
    "    def __init__(self, name):\n",
    "        super().__init__(name)\n",
    " \n",
    "# Driver Code\n",
    "Carol = Animal(\"Dog\")"
   ]
  },
  {
   "attachments": {},
   "cell_type": "markdown",
   "metadata": {},
   "source": [
    "## 第一部分：基础练习（75 分）\n"
   ]
  },
  {
   "cell_type": "markdown",
   "metadata": {},
   "source": [
    "#### 1.1 创建一个名为PkuClass 的类，完成以下要求：\n",
    "1. 该类的\\_\\_init\\_\\_()方法需要两个参数，依次用于指定课程的学生人数与老师人数。（5分）\n",
    "2. 该类有一个名为describe_class()的方法，能够返回student_num和teacher_num。（5分）\n",
    "3. 该类有一个名为quit_class()的方法，需要一个参数，功能是减去传入参数相应的退课学生数。（5分）"
   ]
  },
  {
   "cell_type": "code",
   "execution_count": 14,
   "metadata": {},
   "outputs": [
    {
     "name": "stdout",
     "output_type": "stream",
     "text": [
      "Test passed!\n"
     ]
    }
   ],
   "source": [
    "class PkuClass:\n",
    "    def __init__(self, s_n, t_n):\n",
    "        # TODO\n",
    "        self.s_n=s_n\n",
    "        self.t_n=t_n\n",
    "    \n",
    "    def describe_class(self):\n",
    "        # TODO\n",
    "        return (self.s_n,self.t_n)\n",
    "    \n",
    "    def quit(self,s_n):\n",
    "        # TODO\n",
    "        self.s_n=self.s_n-s_n\n",
    "        \n",
    "pkuclass = PkuClass(100,1)\n",
    "pkuclass.quit(10)\n",
    "assert pkuclass.describe_class() == (90,1)\n",
    "print('Test passed!')"
   ]
  },
  {
   "cell_type": "markdown",
   "metadata": {},
   "source": [
    "#### 1.2 继承PkuClass类实现一个PythonClass，同时完成以下要求：\n",
    "1. 修改__init__()方法，传入参数为文件名与老师的数量，从而导入选课学生的ID到student_id属性（15分）\n",
    "2. 修改相应默认函数，使得可以用自然数index作为键，来获取对应的选课名单中的第index个学生的ID（若index超出选课人数，返回None）（10分）\n",
    "3. 修改相应默认函数，使得直接print该类的对象就能在屏幕中打出该课程的学生人数和教师人数 (输出格式为：该课共有学生x人,老师y人)（10分）"
   ]
  },
  {
   "cell_type": "code",
   "execution_count": 15,
   "metadata": {},
   "outputs": [
    {
     "name": "stdout",
     "output_type": "stream",
     "text": [
      "该课共有学生290人，老师9人\n",
      "Test passed!\n"
     ]
    }
   ],
   "source": [
    "class PythonClass(PkuClass):\n",
    "    def __init__(self,filename,t_n):\n",
    "        # TODO\n",
    "        self.student_id=[]\n",
    "        file=open(filename)\n",
    "        for id in file:\n",
    "            self.student_id.append(id[:-1]) #去除换行符\n",
    "        PkuClass.__init__(self,len(self.student_id),t_n)\n",
    "\n",
    "    # TODO\n",
    "    # obj[index]=obj.__getitem__(index)\n",
    "    def __getitem__(self,index):\n",
    "        if index>self.s_n:\n",
    "            return None\n",
    "        return self.student_id[index]\n",
    "    # print(obj) -> print(obj.__str__())   \n",
    "    def __str__(self):\n",
    "        return f\"该课共有学生{self.s_n}人，老师{self.t_n}人\"\n",
    "\n",
    "import os\n",
    "if 'random_ID_list.txt' not in os.listdir('.'):\n",
    "    raise IOError(\"请将压缩包中的random_ID_list.txt放到当前目录下!\")\n",
    "pythonclass = PythonClass('random_ID_list.txt',9)\n",
    "print(pythonclass)\n",
    "assert pythonclass[1000] is None\n",
    "assert pythonclass[0]=='21001078023'\n",
    "assert pythonclass[100]=='19101027694'\n",
    "pythonclass.quit(25)\n",
    "assert pythonclass[266] is None\n",
    "assert pythonclass.describe_class() == (265,9)\n",
    "print(\"Test passed!\")\n"
   ]
  },
  {
   "cell_type": "markdown",
   "metadata": {},
   "source": [
    "#### 1.3 请实现一个自定义队列类并完成模板中相应的函数（25分）\n",
    "注：队列的特点是“先进先出”，即入队列的元素会添加在队尾，出队列则是先弹出队首的元素。"
   ]
  },
  {
   "cell_type": "code",
   "execution_count": 16,
   "metadata": {},
   "outputs": [
    {
     "name": "stdout",
     "output_type": "stream",
     "text": [
      "Test passed!\n"
     ]
    }
   ],
   "source": [
    "class Queue():\n",
    "    # 用*arg来初始化队列\n",
    "    def __init__(self, *arg):\n",
    "        # TODO\n",
    "        self.queue=[]\n",
    "        for ele in arg:\n",
    "            self.queue.append(ele)\n",
    "        self.popcnt=0\n",
    "        self.pushcnt=0\n",
    "\n",
    "    # 队末增加一个元素\n",
    "    def push(self,item):\n",
    "        # TODO\n",
    "        self.pushcnt+=1\n",
    "        self.queue.append(item)\n",
    "\n",
    "    # 弹出队首的一个元素\n",
    "    def pop(self):\n",
    "        # TODO\n",
    "        self.popcnt+=1\n",
    "        self.queue.pop(0)\n",
    "        \n",
    "    # 输出队列中元素总数\n",
    "    def __len__(self):\n",
    "        # TODO\n",
    "        return len(self.queue)\n",
    "    \n",
    "    # 返回由2个元素构成的tuple，表示创建以来该队列的压入(push)次数和弹出(pop)次数\n",
    "    def count(self):\n",
    "        # TODO\n",
    "        return (self.pushcnt,self.popcnt)\n",
    "    \n",
    "    # 判断两个队列是否相等，这里的相等定义为队列内逐元素相等(相等时返回True，否则返回False)\n",
    "    def __eq__(self, y):\n",
    "        # TODO\n",
    "        if len(self)!=len(y):\n",
    "            return False\n",
    "        for index in range(0,len(self)):\n",
    "            if self.queue[index]!=y.queue[index]:\n",
    "                return False\n",
    "        return True\n",
    "\n",
    "queue = Queue(1, 2, 3, 4)\n",
    "assert len(queue) == 4\n",
    "queue.push(3)\n",
    "queue.pop()\n",
    "queue.push(4)\n",
    "assert queue.count() == (2, 1)\n",
    "testqueue = Queue(2, 3, 4, 3, 4)\n",
    "assert queue == testqueue\n",
    "q2 = Queue(*[i for i in range(1000)])\n",
    "q3 = Queue()\n",
    "assert len(q3)==0\n",
    "for i in range(-1,1000):\n",
    "    q3.push(i)\n",
    "q3.pop()\n",
    "assert q2 == q3\n",
    "q3.push(0)\n",
    "q3.pop()\n",
    "assert q3 != q2\n",
    "print('Test passed!')"
   ]
  },
  {
   "cell_type": "markdown",
   "metadata": {},
   "source": [
    "## 第二部分：进阶练习（25分）\n",
    "\n",
    "#### 2.1 根据给出的二叉树类的定义，补全代码（建树代码也已给出）：\n",
    "- (1) 实现BinaryTree类的height函数，返回二叉树的高度（5分）\n",
    "- (2) 实现BinayTree类的items函数，返回二叉树的中序遍历序列（用list表示）（10分）\n",
    "- (3) （选做）通过重写\\_\\_iter\\_\\_()等函数，编写一个可迭代的二叉树类，使得可以用for循环输出中序遍历序列（不计分）"
   ]
  },
  {
   "cell_type": "code",
   "execution_count": 17,
   "metadata": {},
   "outputs": [],
   "source": [
    "class BinaryTree():\n",
    "    def __init__(self, rootObj):\n",
    "        self.key = rootObj\n",
    "        self.leftChild = None\n",
    "        self.rightChild = None\n",
    "\n",
    "    def insertLeft(self, newNode):\n",
    "        if self.leftChild == None:\n",
    "            self.leftChild = BinaryTree(newNode)\n",
    "        else:\n",
    "            t = BinaryTree(newNode)\n",
    "            t.leftChild = self.leftChild\n",
    "            self.leftChild = t\n",
    "\n",
    "    def insertRight(self, newNode):\n",
    "        if self.rightChild == None:\n",
    "            self.rightChild = BinaryTree(newNode)\n",
    "        else:\n",
    "            t = BinaryTree(newNode)\n",
    "            t.rightChild = self.rightChild\n",
    "            self.rightChild = t\n",
    "\n",
    "    def getRightChild(self):\n",
    "        return self.rightChild\n",
    "\n",
    "    def getLeftChild(self):\n",
    "        return self.leftChild\n",
    "\n",
    "    def setRootVal(self, obj):\n",
    "        self.key = obj\n",
    "\n",
    "    def getRootVal(self):\n",
    "        return self.key\n",
    "    # 以上代码无需改动！\n",
    "    \n",
    "    def height(self): \n",
    "        # TODO\n",
    "        if self.leftChild==None and self.rightChild==None:\n",
    "            return 1\n",
    "        h1=0\n",
    "        h2=0\n",
    "        if self.leftChild!=None:\n",
    "            h1=self.leftChild.height()\n",
    "        if self.rightChild!=None:\n",
    "            h2=self.rightChild.height()\n",
    "        return max(h1,h2)+1\n",
    "\n",
    "\n",
    "    def items(self):\n",
    "        # TODO\n",
    "        leftlist=[]\n",
    "        rightlist=[]\n",
    "        if self.leftChild!=None:\n",
    "            leftlist=self.leftChild.items()\n",
    "        if self.rightChild!=None:\n",
    "            rightlist=self.rightChild.items()\n",
    "        return leftlist+[self.key]+rightlist\n",
    "    \n",
    "    def __iter__(self):\n",
    "        return iter(self.items())\n",
    "    "
   ]
  },
  {
   "cell_type": "code",
   "execution_count": 18,
   "metadata": {},
   "outputs": [
    {
     "name": "stdout",
     "output_type": "stream",
     "text": [
      "4\n",
      "Test passed!\n",
      "[1, 3, 4, 6, 7, 8, 10, 13, 14]\n",
      "1\n",
      "3\n",
      "4\n",
      "6\n",
      "7\n",
      "8\n",
      "10\n",
      "13\n",
      "14\n"
     ]
    }
   ],
   "source": [
    "# 建树\n",
    "rt = BinaryTree(8)\n",
    "rt.insertLeft(1)\n",
    "rt.insertLeft(3)\n",
    "rt.getLeftChild().insertRight(6)\n",
    "t = rt.getLeftChild().getRightChild()\n",
    "t.insertLeft(4)\n",
    "t.insertRight(7)\n",
    "rt.insertRight(14)\n",
    "rt.insertRight(10)\n",
    "t = rt.getRightChild().getRightChild()\n",
    "t.insertLeft(13)\n",
    "\n",
    "print(rt.height())\n",
    "assert rt.height() == 4\n",
    "assert rt.items() == [1,3,4,6,7,8,10,13,14]\n",
    "print(\"Test passed!\")\n",
    "print(rt.items())\n",
    "for item in rt:\n",
    "    print(item)"
   ]
  },
  {
   "attachments": {},
   "cell_type": "markdown",
   "metadata": {},
   "source": [
    "####  2.2 设计一个基于类实现的decorator，它可作用于任何函数上，并打印该函数的执行时间（10分）"
   ]
  },
  {
   "cell_type": "code",
   "execution_count": 19,
   "metadata": {},
   "outputs": [
    {
     "name": "stdout",
     "output_type": "stream",
     "text": [
      "test(10000000.0):[0.2861900329589844s]\n"
     ]
    },
    {
     "data": {
      "text/plain": [
       "49999995000000"
      ]
     },
     "execution_count": 19,
     "metadata": {},
     "output_type": "execute_result"
    }
   ],
   "source": [
    "import time\n",
    "\n",
    "# TODO\n",
    "class Decorator():\n",
    "    def __init__(self,func):\n",
    "        self.func=func\n",
    "    def __call__(self,*args):\n",
    "        st=time.time()\n",
    "        self.func(*args)\n",
    "        ed=time.time()\n",
    "        print(f\"{self.func.__name__}({args[0]}):[{ed-st}s]\")\n",
    "        return self.func(*args)\n",
    "\n",
    "@Decorator\n",
    "def test(steps):\n",
    "    sum=0\n",
    "    for i in range(int(steps)):\n",
    "        sum+=i\n",
    "    return sum\n",
    "\n",
    "test(1e7)"
   ]
  },
  {
   "attachments": {},
   "cell_type": "markdown",
   "metadata": {},
   "source": [
    "注意：仅需要提交.ipynb文件，请**不要**将下发压缩包中的random_ID_list.txt一并交上。"
   ]
  }
 ],
 "metadata": {
  "file_extension": ".py",
  "kernelspec": {
   "display_name": "Python 3",
   "language": "python",
   "name": "python3"
  },
  "language_info": {
   "codemirror_mode": {
    "name": "ipython",
    "version": 3
   },
   "file_extension": ".py",
   "mimetype": "text/x-python",
   "name": "python",
   "nbconvert_exporter": "python",
   "pygments_lexer": "ipython3",
   "version": "3.9.12"
  },
  "mimetype": "text/x-python",
  "name": "python",
  "npconvert_exporter": "python",
  "pygments_lexer": "ipython3",
  "version": 3,
  "vscode": {
   "interpreter": {
    "hash": "b0fa6594d8f4cbf19f97940f81e996739fb7646882a419484c72d19e05852a7e"
   }
  }
 },
 "nbformat": 4,
 "nbformat_minor": 2
}
