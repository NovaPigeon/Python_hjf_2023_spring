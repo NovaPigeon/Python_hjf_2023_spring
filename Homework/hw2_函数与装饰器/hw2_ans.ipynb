{
 "cells": [
  {
   "attachments": {},
   "cell_type": "markdown",
   "id": "9e5dea14",
   "metadata": {},
   "source": [
    "## Homework_2023_02_27 Python基础 之二   \n",
    "教师：胡俊峰\n",
    "\n",
    "助教：谷东润 陈福康\n",
    "\n",
    "对作业有疑问请及时在课程群中联系助教进行反馈。"
   ]
  },
  {
   "attachments": {},
   "cell_type": "markdown",
   "id": "a90a3d4c",
   "metadata": {},
   "source": [
    "## 第零部分：请认真阅读代码，理解代码的功能，按照要求进行改错或分析"
   ]
  },
  {
   "attachments": {},
   "cell_type": "markdown",
   "id": "3c606cf3",
   "metadata": {},
   "source": [
    "#### 1.此题代码阅读并理解即可，没有文字要求"
   ]
  },
  {
   "cell_type": "code",
   "execution_count": 100,
   "id": "6c04a4cc",
   "metadata": {},
   "outputs": [
    {
     "name": "stdout",
     "output_type": "stream",
     "text": [
      "Global\n",
      "1Test\n",
      "2Test\n",
      "3Nonlocal\n",
      "4Global\n"
     ]
    }
   ],
   "source": [
    "#函数变量的作用域\n",
    "#变量引用的顺序为：局部->闭包函数外的函数->全局作用域->内建作用域\n",
    "#关键词 nonlocal 说明变量为闭包函数外的变量而非局部变量\n",
    "#关键词 global 说明变量为全局变量而非局部变量\n",
    "def scope_test():\n",
    "    def test_local():\n",
    "        spam=\"Local\" \n",
    "    def test_nonlocal():\n",
    "        nonlocal spam\n",
    "        spam=\"Nonlocal\"\n",
    "    def test_global():\n",
    "        global spam\n",
    "        spam=\"Global\"\n",
    "    spam=\"Test\"\n",
    "    test_local()#改变的是闭包函数中的局部变量\n",
    "    print(\"1\"+spam)#引用的是函数中的局部变量\n",
    "    test_global()#改变的是全局变量\n",
    "    print(\"2\"+spam)#引用的是函数中的局部变量\n",
    "    test_nonlocal()#改变的是闭包函数外的局部变量，即函数中的变量\n",
    "    print(\"3\"+spam)#引用的是函数中的局部变量\n",
    "\n",
    "\n",
    "try:\n",
    "    print(spam)\n",
    "except:\n",
    "    print(\"not defined\")\n",
    "scope_test()\n",
    "print(\"4\"+spam)#引用的是全局变量\n"
   ]
  },
  {
   "attachments": {},
   "cell_type": "markdown",
   "id": "668d6760",
   "metadata": {},
   "source": [
    "#### 2.请思考该代码当识别到格式串中包含`%d`, `%c`, `%f`, `%s`时，需要提供什么类型的变量，也不做文字要求。"
   ]
  },
  {
   "cell_type": "code",
   "execution_count": 101,
   "id": "1df9886c",
   "metadata": {},
   "outputs": [
    {
     "name": "stdout",
     "output_type": "stream",
     "text": [
      "this is a c-style printf function,we use % to provide format control.\n",
      "I have 2 apples. \n",
      "Welcome to learn python.\n",
      "a is the first letter,and has value 97.\n",
      "1.5 is a floating point number\n"
     ]
    }
   ],
   "source": [
    "#可变参数的用法，这里是一个对C语言的printf的部分简单模拟，你可以自行思考其他的实现方式，但不做要求。\n",
    "# %d: int, %c: str, %f: float, %s: str\n",
    "def printf(fmt:str,*args):\n",
    "    length = len(fmt)\n",
    "    var_num, index = 0,0\n",
    "    output_str = ''\n",
    "    is_format = False\n",
    "    while(index < length):\n",
    "        if fmt[index] != '%' and not is_format: \n",
    "            output_str += fmt[index]\n",
    "        elif fmt[index] == '%':\n",
    "            if not is_format:   \n",
    "                is_format = True\n",
    "            else:\n",
    "                is_format = False\n",
    "                output_str += '%'\n",
    "        elif fmt[index] != '%':\n",
    "            if fmt[index] == 'd':\n",
    "                assert isinstance(args[var_num], (int, float)) or (isinstance(args[var_num],str) and len(args[var_num]) == 1)\n",
    "                output_str += str(int(args[var_num])) if isinstance(args[var_num], (int, float)) else str(ord(args[var_num]))\n",
    "            elif fmt[index] == 'f':\n",
    "                assert isinstance(args[var_num],(int, float))\n",
    "                output_str += str(float(args[var_num]))\n",
    "            elif fmt[index] == 'c':\n",
    "                assert (isinstance(args[var_num],str) and len(args[var_num]) == 1)\n",
    "                output_str += args[var_num]\n",
    "            elif fmt[index] == 's':\n",
    "                assert isinstance(args[var_num],str)\n",
    "                output_str += args[var_num]\n",
    "            else:\n",
    "                raise Exception(\"wrong format.\")\n",
    "            var_num += 1\n",
    "            is_format = False\n",
    "        index += 1\n",
    "    assert var_num == len(args)\n",
    "    print(output_str)\n",
    "\n",
    "v1,v2,v3,v4,v5 = 2,\"python\",'a','a',1.5\n",
    "printf(\"this is a c-style printf function,we use %% to provide format control.\\n\\\n",
    "I have %d apples. \\n\\\n",
    "Welcome to learn %s.\\n\\\n",
    "%c is the first letter,and has value %d.\\n\\\n",
    "%f is a floating point number\",\n",
    "v1,v2,v3,v4,v5)"
   ]
  },
  {
   "attachments": {},
   "cell_type": "markdown",
   "id": "6dfc7488",
   "metadata": {},
   "source": [
    "#### 3.需要修改下列程序使得对于浮点数和整数间的加法都正确运行\n",
    "在 Python3 中，reduce() 函数已经被从全局名字空间里移除了，它现在被放置在 functools 模块里，\n",
    "如果想要使用它，则需要通过引入 functools 模块来调用 reduce() 函数。阅读代码和错误信息，修改完成下面程序。"
   ]
  },
  {
   "cell_type": "code",
   "execution_count": 1,
   "id": "947ed3ae",
   "metadata": {},
   "outputs": [
    {
     "name": "stdout",
     "output_type": "stream",
     "text": [
      "100 + 200 + 345 = 645\n",
      "99 + 88 + 7.6 = 194.6\n"
     ]
    }
   ],
   "source": [
    "from functools import reduce\n",
    "\n",
    "def str2num(s):\n",
    "    if \".\" in s:\n",
    "        return float(s)\n",
    "    return int(s)\n",
    "\n",
    "def calc(exp):\n",
    "    ss = exp.split('+')\n",
    "    ns = map(str2num, ss)\n",
    "    return reduce(lambda acc, x: acc + x, ns)\n",
    "\n",
    "def main():\n",
    "    r = calc('100 + 200 + 345')\n",
    "    print('100 + 200 + 345 =', r)\n",
    "    r = calc('99 + 88 + 7.6')\n",
    "    print('99 + 88 + 7.6 =', r)\n",
    "main()"
   ]
  },
  {
   "attachments": {},
   "cell_type": "markdown",
   "id": "074e8440",
   "metadata": {},
   "source": [
    "#### 4.请补充完善代码："
   ]
  },
  {
   "cell_type": "code",
   "execution_count": 103,
   "id": "752d79b8",
   "metadata": {},
   "outputs": [
    {
     "name": "stdout",
     "output_type": "stream",
     "text": [
      "Test passed!\n"
     ]
    }
   ],
   "source": [
    "def do_sum(inp):\n",
    "    # 这些是从 Task 1.0 抄过来的，显然不能对多个数求和。请改正。\n",
    "    inpi=map(int,inp.split())\n",
    "    return sum(inpi)\n",
    "# 下面的语句用来检验 do_sum 的正确性\n",
    "assert do_sum('1 2')==3\n",
    "assert do_sum('1 2 3 4 5')==15\n",
    "assert do_sum('-123')==-123\n",
    "print('Test passed!')"
   ]
  },
  {
   "attachments": {},
   "cell_type": "markdown",
   "id": "a7177c2c",
   "metadata": {},
   "source": [
    "#### 5.试描述下列lis函数的作用\n",
    "形如：\n",
    "`sort(list)`的作用是对可迭代容器进行排序"
   ]
  },
  {
   "cell_type": "code",
   "execution_count": 104,
   "id": "a9589068",
   "metadata": {},
   "outputs": [
    {
     "data": {
      "text/plain": [
       "6"
      ]
     },
     "execution_count": 104,
     "metadata": {},
     "output_type": "execute_result"
    }
   ],
   "source": [
    "# 求最大上升子序列的长度\n",
    "def memoise(func):\n",
    "    memory = {}   \n",
    "    def inner(nums):\n",
    "        nums = tuple(nums)\n",
    "        if nums not in memory:\n",
    "            memory[nums] = func(nums)\n",
    "        return memory[nums]\n",
    "    return inner\n",
    "\n",
    "@memoise\n",
    "def lis(nums:list):\n",
    "    nums = tuple(nums)\n",
    "    if len(nums) == 0:\n",
    "        return 0\n",
    "    else:\n",
    "        return max(lis(nums[1:]), lis(list(filter(lambda x: x >= nums[0], nums[1:]))) + 1)\n",
    "lis([4,9,8,7,3,1,3,5,6,7,8])"
   ]
  },
  {
   "cell_type": "markdown",
   "id": "21989633",
   "metadata": {},
   "source": [
    "## 第一部分：基础练习\n",
    "\n",
    "#### 1.1 基础用法（35 分）\n"
   ]
  },
  {
   "cell_type": "code",
   "execution_count": 4,
   "id": "99837855",
   "metadata": {},
   "outputs": [],
   "source": [
    "#内卷导论课程出分了，同学们的成绩惨不忍睹，作为大善人的你决定大力调分，请你完成以下操作\n",
    "#学生的信息以三元组的形式储存，即(name,id,mark)\n",
    "student_data=[('Alice',111111,99),\n",
    "              ('Bob',111112,84),\n",
    "              ('Carol',111113,76),\n",
    "              ('Dave',111114,78),\n",
    "              ('Eve',111115,58),\n",
    "              ('Francis',111116,81),\n",
    "              ('Grace',111117,72),\n",
    "              ('Hans',111118,86),\n",
    "              ('Isabella',114514,53)]"
   ]
  },
  {
   "cell_type": "markdown",
   "id": "61256793",
   "metadata": {},
   "source": [
    "(1) 将这个list中成绩大于等于85的三元组数据输出（5分）"
   ]
  },
  {
   "cell_type": "code",
   "execution_count": 5,
   "id": "d4eed34b",
   "metadata": {},
   "outputs": [
    {
     "name": "stdout",
     "output_type": "stream",
     "text": [
      "('Alice', 111111, 99)\n",
      "('Hans', 111118, 86)\n"
     ]
    }
   ],
   "source": [
    "#TODO:\n",
    "for data in student_data:\n",
    "    name,id,mark=data\n",
    "    if mark>=85:\n",
    "        print(data)"
   ]
  },
  {
   "attachments": {},
   "cell_type": "markdown",
   "id": "c32fa005",
   "metadata": {},
   "source": [
    "(2) 将这个list按成绩降序排列并按该顺序打印姓名（10分）并求出成绩的平均值（5分）"
   ]
  },
  {
   "cell_type": "code",
   "execution_count": 6,
   "id": "7dd32638",
   "metadata": {},
   "outputs": [
    {
     "name": "stdout",
     "output_type": "stream",
     "text": [
      "Alice\n",
      "Hans\n",
      "Bob\n",
      "Francis\n",
      "Dave\n",
      "Carol\n",
      "Grace\n",
      "Eve\n",
      "Isabella\n",
      "76.33333333333333\n"
     ]
    }
   ],
   "source": [
    "avr_score = 0\n",
    "#TODO:\n",
    "student_data.sort(key=lambda x:x[2],reverse=True)\n",
    "for data in student_data:\n",
    "    print(data[0])\n",
    "    avr_score = avr_score + data[2]/student_data.__len__()\n",
    "print(avr_score)\n",
    "    "
   ]
  },
  {
   "attachments": {},
   "cell_type": "markdown",
   "id": "03e4ec5a",
   "metadata": {},
   "source": [
    "(3) 你采用了著名的对分数求平方根再×10倍的调分策略(向下取整)，并且为了取缔内卷，你只公布相应的评定等级。\n",
    "\n",
    "请实现上述调分函数，并且打印调分前、调分后的同学姓名和评定等级，格式要求如下：\n",
    "```text\n",
    "Alice:A->A\n",
    "Bob:B->A\n",
    "Carol:C->B\n",
    "...\n",
    "```\n",
    "(提示：使用map函数会十分简便) （15分）\n"
   ]
  },
  {
   "cell_type": "code",
   "execution_count": 7,
   "id": "b1c42e17",
   "metadata": {},
   "outputs": [
    {
     "name": "stdout",
     "output_type": "stream",
     "text": [
      "Alice:A->A\n",
      "Hans:A->A\n",
      "Bob:B->A\n",
      "Francis:B->A\n",
      "Dave:B->A\n",
      "Carol:B->A\n",
      "Grace:C->B\n",
      "Eve:F->B\n",
      "Isabella:F->C\n",
      "调分完成\n"
     ]
    }
   ],
   "source": [
    "def grade(score):\n",
    "    if score >= 85:\n",
    "        return 'A'\n",
    "    elif score >= 75:\n",
    "        return 'B'\n",
    "    elif score >= 60:\n",
    "        return 'C'\n",
    "    else:\n",
    "        return 'F'\n",
    "#调分程序\n",
    "def my_trans(score):\n",
    "    #TODO:\n",
    "    return (score**0.5)*10\n",
    "#TODO:\n",
    "for data in student_data:\n",
    "    print(f\"{data[0]}:{grade(data[2])}->{grade(my_trans(data[2]))}\")\n",
    "\n",
    "print(\"调分完成\")  "
   ]
  },
  {
   "cell_type": "markdown",
   "id": "ced88c3c",
   "metadata": {},
   "source": [
    "#### 1.2 列表生成式（30分）"
   ]
  },
  {
   "cell_type": "markdown",
   "id": "d36ee6b9",
   "metadata": {},
   "source": [
    "（1）输入数字范围的字符串，中间用-连接，以逗号隔开，将字符串表示的范围转化为数字的生成器（15分）\n",
    "\n",
    "应保证输入范围和生成数字的顺序保持一致，只需要考虑每个输入的范围递增的情况（不考虑如'4-1'这种情况）"
   ]
  },
  {
   "cell_type": "code",
   "execution_count": 109,
   "id": "950cff5e",
   "metadata": {},
   "outputs": [
    {
     "name": "stdout",
     "output_type": "stream",
     "text": [
      "<generator object parse_ranges at 0x10483d0b0>\n"
     ]
    }
   ],
   "source": [
    "\n",
    "def parse_ranges(ranges_string=\"\"):\n",
    "    #TODO:\n",
    "    ranges=ranges_string.split(',')\n",
    "    for rangei in ranges:\n",
    "        rangei=rangei.split('-')\n",
    "        lown=int(rangei[0])\n",
    "        upn=int(rangei[1])\n",
    "        for num in range(lown,upn+1):\n",
    "            yield num\n",
    "\n",
    "print(parse_ranges(\"1-2,4-5,8-10\"))\n",
    "assert list(parse_ranges(\"1-2,4-5,8-10\")) == [1, 2, 4, 5, 8, 9, 10]"
   ]
  },
  {
   "cell_type": "markdown",
   "id": "2d429741",
   "metadata": {},
   "source": [
    "（2）使用生成式，构建一个字典，其中key是形如a+bi的字符串，实部为[0,3]区间内的整数，虚部为[1,4]区间内的整数，value为0或1\n",
    "对于key对应复数的模长小于等于3的，value值为0，否则value值为1  （15分）"
   ]
  },
  {
   "cell_type": "code",
   "execution_count": 110,
   "id": "14dc4529",
   "metadata": {},
   "outputs": [
    {
     "name": "stdout",
     "output_type": "stream",
     "text": [
      "{'0+1i': 0, '0+2i': 0, '0+3i': 0, '0+4i': 1, '1+1i': 0, '1+2i': 0, '1+3i': 1, '1+4i': 1, '2+1i': 0, '2+2i': 0, '2+3i': 1, '2+4i': 1, '3+1i': 1, '3+2i': 1, '3+3i': 1, '3+4i': 1}\n"
     ]
    }
   ],
   "source": [
    "my_dict={}\n",
    "#TODO:\n",
    "my_dict={f\"{a}+{b}i\": int(a**2+b**2>9) for a in range(0,4) for b in range(1,5)}\n",
    "print(my_dict)"
   ]
  },
  {
   "attachments": {},
   "cell_type": "markdown",
   "id": "5c763473",
   "metadata": {},
   "source": [
    "#### 1.3 函数装饰器（35分）"
   ]
  },
  {
   "attachments": {},
   "cell_type": "markdown",
   "id": "2f0d5ea7",
   "metadata": {},
   "source": [
    "(1) 使用装饰器计算函数运行的时间并输出，格式如下；\n",
    "\n",
    "+ 如调用`func(1,2,3)`时，输出`func(1,2,3):[0.06199502944946289]s`;\n",
    "\n",
    " + 如调用`func(1,[1,2],{1:[1,2,3]})`时，输出`func(1,[1, 2],{1: [1, 2, 3]}):[0.06698012351989746]s`\n",
    "\n",
    "提示：参数的字符化只考虑简单数据类型和包含简单数据类型的容器，并且只考虑参数`*args`，不考虑`**kwargs`（虽然后者也只需要添加一行代码）\n",
    "\n",
    "打印函数的名字可以使用`func.__name__`，获取当前时间可以使用time包\n",
    "(15分)"
   ]
  },
  {
   "cell_type": "code",
   "execution_count": 111,
   "id": "eecec6df",
   "metadata": {},
   "outputs": [
    {
     "name": "stdout",
     "output_type": "stream",
     "text": [
      "time_cosume(1,2,3,4,[1, 2, 3, 4],{1: [1, 2]}):[0.010502099990844727]s\n"
     ]
    },
    {
     "data": {
      "text/plain": [
       "499999500000"
      ]
     },
     "execution_count": 111,
     "metadata": {},
     "output_type": "execute_result"
    }
   ],
   "source": [
    "import time\n",
    "def log_time(func):\n",
    "    def inner(*args):\n",
    "        #TODO:\n",
    "        start=time.time()\n",
    "        func(*args)\n",
    "        end=time.time()\n",
    "        argstrl=[str(arg) for arg in args]\n",
    "        print(f\"{func.__name__}({ ','.join(argstrl) }):[{end-start}]s\")\n",
    "        return func(*args)\n",
    "    return inner\n",
    "\n",
    "@log_time\n",
    "def time_cosume(*args):\n",
    "    return sum(range(1,1000000))\n",
    "time_cosume(1,2,3,4,[1,2,3,4],{1:[1,2]})"
   ]
  },
  {
   "attachments": {},
   "cell_type": "markdown",
   "id": "2d45300f",
   "metadata": {},
   "source": [
    "(2)已知Fibonacci序列前三项为1，1，2（20分）"
   ]
  },
  {
   "attachments": {},
   "cell_type": "markdown",
   "id": "3ead787f",
   "metadata": {},
   "source": [
    "①实现带记忆化存储的**递归**计算斐波那契数列第n项的函数（10分）"
   ]
  },
  {
   "cell_type": "code",
   "execution_count": 112,
   "id": "edcb1b4b",
   "metadata": {},
   "outputs": [
    {
     "name": "stdout",
     "output_type": "stream",
     "text": [
      "2 not in 1 not in 3 not in 4 not in 5 not in 6 not in 7 not in 8 not in 9 not in "
     ]
    }
   ],
   "source": [
    "def memorize(func):\n",
    "    memory={}\n",
    "    def inner(num):\n",
    "        if num not in memory:\n",
    "            memory[num]=func(num)\n",
    "            print('%d not in '%num,end='')\n",
    "        return memory[num]\n",
    "    \n",
    "    return inner\n",
    "\n",
    "@memorize\n",
    "def fibonacci(num):\n",
    "    assert num > 0\n",
    "    #TODO:\n",
    "    if num==1 or num==2:\n",
    "        return 1\n",
    "    return fibonacci(num-2)+fibonacci(num-1)\n",
    "\n",
    "assert fibonacci(2) == 1\n",
    "assert fibonacci(7) == 13\n",
    "assert fibonacci(5) == 5\n",
    "assert fibonacci(9) == 34     "
   ]
  },
  {
   "attachments": {},
   "cell_type": "markdown",
   "id": "98efaef6",
   "metadata": {},
   "source": [
    " ②使用生成器函数**递推**输出斐波那契数列的序列 （10分）"
   ]
  },
  {
   "cell_type": "code",
   "execution_count": 113,
   "id": "b27e3092",
   "metadata": {},
   "outputs": [
    {
     "name": "stdout",
     "output_type": "stream",
     "text": [
      "<generator object fibonacci_gen at 0x1047b7740>\n"
     ]
    }
   ],
   "source": [
    "def fibonacci_gen(num):\n",
    "    assert num > 0\n",
    "    #TODO:\n",
    "    n,a,b=0,0,1\n",
    "    while n<num:\n",
    "        yield b\n",
    "        a,b=b,a+b\n",
    "        n=n+1\n",
    "\n",
    "f=fibonacci_gen(10)\n",
    "print(f)\n",
    "assert [i for i in f] == [1, 1, 2, 3, 5, 8, 13, 21, 34, 55]"
   ]
  },
  {
   "cell_type": "markdown",
   "id": "7cb3e2d2",
   "metadata": {},
   "source": [
    "#### 附加题（不计分）"
   ]
  },
  {
   "cell_type": "code",
   "execution_count": 114,
   "id": "585301ca",
   "metadata": {},
   "outputs": [
    {
     "name": "stdout",
     "output_type": "stream",
     "text": [
      "[1, 1, 2, 3, 4, 5, 6, 7, 10]\n"
     ]
    }
   ],
   "source": [
    "#综合使用filter，lambda表达式等方法，只用一行实现快排算法\n",
    "def my_qsort(a):\n",
    "    #TODO:\n",
    "    return (lambda array: \n",
    "            array if len(array) <= 1 \n",
    "                    else \n",
    "                    my_qsort([item for item in array[1:] if item <= array[0]]) \n",
    "                    + [array[0]] \n",
    "                    + my_qsort([item for item in array[1:] if item > array[0]]))(a)\n",
    "\n",
    "print(my_qsort([3,2,1,1,7,6,5,10,4]))"
   ]
  }
 ],
 "metadata": {
  "kernelspec": {
   "display_name": "Python 3.9.15 ('base')",
   "language": "python",
   "name": "python3"
  },
  "language_info": {
   "codemirror_mode": {
    "name": "ipython",
    "version": 3
   },
   "file_extension": ".py",
   "mimetype": "text/x-python",
   "name": "python",
   "nbconvert_exporter": "python",
   "pygments_lexer": "ipython3",
   "version": "3.9.15"
  },
  "vscode": {
   "interpreter": {
    "hash": "e3088de3960acd46056fbdd3913a22297cbcceb7274202512f4b511f7eda05a2"
   }
  }
 },
 "nbformat": 4,
 "nbformat_minor": 5
}
