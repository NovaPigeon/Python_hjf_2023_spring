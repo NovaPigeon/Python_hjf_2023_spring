{
 "cells": [
  {
   "cell_type": "markdown",
   "metadata": {},
   "source": [
    "## Homework_2023_02_20 Python基础 之一\n",
    "指导教师：胡俊峰\n",
    "\n",
    "负责助教：李一飞 朱成轩"
   ]
  },
  {
   "cell_type": "markdown",
   "metadata": {},
   "source": [
    "\n",
    "### 第零部分：请认真阅读代码，理解代码的功能，先写出预想的结果。运行并检验结果是否如预期"
   ]
  },
  {
   "cell_type": "code",
   "execution_count": 13,
   "metadata": {},
   "outputs": [
    {
     "name": "stdout",
     "output_type": "stream",
     "text": [
      "[['a', 2], ['b', 2], ['a', 3]]\n",
      "9.0\n"
     ]
    }
   ],
   "source": [
    "i = 1.1\n",
    "j = 11\n",
    "print(list)\n",
    "print(j//i) # 9.0\n",
    "#print('a' + 1) # 预期：'b'; 实际报错"
   ]
  },
  {
   "cell_type": "code",
   "execution_count": 17,
   "metadata": {},
   "outputs": [
    {
     "data": {
      "text/plain": [
       "10"
      ]
     },
     "execution_count": 17,
     "metadata": {},
     "output_type": "execute_result"
    }
   ],
   "source": [
    "def rec_sum(n):\n",
    "    if n == 0:\n",
    "        return 0\n",
    "    else:\n",
    "        return n + rec_sum(n-1)\n",
    "    \n",
    "rec_sum(4)  # 如果输入参数为-4，观察运行结果如何？\n",
    "# 4: 10\n",
    "# -4: 死循环，溢出"
   ]
  },
  {
   "cell_type": "code",
   "execution_count": 18,
   "metadata": {},
   "outputs": [
    {
     "name": "stdout",
     "output_type": "stream",
     "text": [
      "['6', '1', '3']\n"
     ]
    }
   ],
   "source": [
    "s = '[2,6,1,3,7,2,7]'\n",
    "nums = s[1:-1].split(\",\") # ['2','6','1','3','7','2','7']\n",
    "# s[a:b]->s[a],...,s[b-1]\n",
    "# split(a,b),以 a 为分割符，割出 b 个 list\n",
    "result = [num for num in nums if nums.count(num) == 1]\n",
    "\n",
    "# ['6', '1', '3']\n",
    "print(result)"
   ]
  },
  {
   "cell_type": "code",
   "execution_count": 19,
   "metadata": {},
   "outputs": [
    {
     "name": "stdout",
     "output_type": "stream",
     "text": [
      "{'a.b': 1, 'a.c': 2, 'd.e': 3, 'd.f.g': 4}\n"
     ]
    }
   ],
   "source": [
    "src = {'a':{'b':1,'c':2},'d':{'e':3,'f':{'g':4}}}\n",
    "\n",
    "def flat_dict(dic):\n",
    "    res={}\n",
    "    def flat(prefix, dic):\n",
    "        for key, val in dic.items():\n",
    "            if type(val)==dict: # type 求对象的类型\n",
    "                flat(prefix+'.'+key,val)\n",
    "            else:\n",
    "                res[prefix+'.'+key]=val\n",
    "    for key,val in dic.items():\n",
    "        if type(val)==dict:\n",
    "            flat(key,val)\n",
    "        else:\n",
    "            res[key]=val\n",
    "    return res\n",
    "# flat('a',{'b':1,'c':2}) \n",
    "# -> a.b:1,a.c:2\n",
    "# ...\n",
    "# -> d.e:3,d.f.g:4\n",
    "\n",
    "# {'a.b':1,'a.c':2,'d.e':3,'d.f.g':4}\n",
    "print(flat_dict(src))"
   ]
  },
  {
   "cell_type": "code",
   "execution_count": 20,
   "metadata": {},
   "outputs": [
    {
     "name": "stdout",
     "output_type": "stream",
     "text": [
      "2*3*5*7\n"
     ]
    }
   ],
   "source": [
    "num = 210\n",
    "result = []\n",
    "\n",
    "for factor in range(2, int(num ** 0.5) + 1):\n",
    "    while num % factor == 0:\n",
    "        result.append(chr(factor + 48)) # chr(int)，返回相应的 ascii 字符\n",
    "        num = num // factor\n",
    "    factor += 1\n",
    "\n",
    "print(\"*\".join(result)) # str.join(sequence),将 str 插入列表的元素间用于连接，形成新的字符串\n",
    "# 2*3*5*7"
   ]
  },
  {
   "cell_type": "markdown",
   "metadata": {},
   "source": [
    "\n",
    "\n",
    "### 第一部分：基础练习\n",
    "\n",
    "#### 1.1 基本数据类型，表达式，简单输入输出\n",
    "    补充完善函数定义，实现对输入容器和可迭代对象中所有值相乘，并返回结果"
   ]
  },
  {
   "cell_type": "code",
   "execution_count": 21,
   "metadata": {},
   "outputs": [
    {
     "name": "stdout",
     "output_type": "stream",
     "text": [
      "all tests passed\n"
     ]
    }
   ],
   "source": [
    "def product(container_iterable):\n",
    "    res = 1\n",
    "    for i in container_iterable:\n",
    "        res = res * i\n",
    "    return res\n",
    "\n",
    "# answer代码\n",
    "\n",
    "assert product([1, 4, 21]) == 84\n",
    "assert product([-4, 2.3e12, 77.23, 982, 0b101]) == -3.48863356e+18\n",
    "assert product((-3, 11, 2)) == -66\n",
    "assert product({8, 300}) == 2400\n",
    "assert product([234, 121, 23, 945, 0]) == 0\n",
    "assert product(range(1, 6)) == 120\n",
    "\n",
    "print('all tests passed')"
   ]
  },
  {
   "cell_type": "markdown",
   "metadata": {},
   "source": [
    "#### 1.2 字符串基本操作\n",
    "    给定一个字符串，将其中原来是大写的字母转为小写，小写的字母转为大写；数字不做处理\n",
    "    例如：输入：'aAsmr3idd4bgs7Dlsf9eAF'    输出：'AaSMR3IDD4BGS7dLSF9Eaf'"
   ]
  },
  {
   "cell_type": "code",
   "execution_count": 22,
   "metadata": {},
   "outputs": [
    {
     "name": "stdout",
     "output_type": "stream",
     "text": [
      "aAsmr3idd4bgs7Dlsf9eAF\n"
     ]
    }
   ],
   "source": [
    "def swap_case(s):\n",
    "    ## 请补充完整代码\n",
    "    res=\"\"\n",
    "    for ch in s:\n",
    "        if ch.islower():\n",
    "            res=res+ch.upper()\n",
    "        elif ch.isupper():\n",
    "            res=res+ch.lower()\n",
    "        else:\n",
    "            res=res+ch\n",
    "    return res\n",
    "\n",
    "print(swap_case(\"AaSMR3IDD4BGS7dLSF9Eaf\"))\n",
    "assert(swap_case('AaSMR3IDD4BGS7dLSF9Eaf')=='aAsmr3idd4bgs7Dlsf9eAF')"
   ]
  },
  {
   "cell_type": "markdown",
   "metadata": {},
   "source": [
    "#### 1.3 条件表达式、分支流程\n",
    "    输出和成绩对应的等级：85分以上为A，75-84为B，60-74为C，60以下为F\n",
    "    例如：输入：84    输出：B"
   ]
  },
  {
   "cell_type": "code",
   "execution_count": 23,
   "metadata": {},
   "outputs": [
    {
     "name": "stdout",
     "output_type": "stream",
     "text": [
      "A\n"
     ]
    }
   ],
   "source": [
    "def grade(score):\n",
    "    ## 请补充完整代码\n",
    "    if score>=85:\n",
    "        return 'A'\n",
    "    if score>=75:\n",
    "        return 'B'\n",
    "    if score>=60:\n",
    "        return 'C'\n",
    "    return 'F'\n",
    "\n",
    "# 验证结果\n",
    "score = int(input())\n",
    "print(grade(score))\n",
    "assert(grade(85)=='A')\n",
    "assert(grade(77)=='B')\n",
    "assert(grade(60)=='C')\n",
    "assert(grade(50)=='F')"
   ]
  },
  {
   "cell_type": "markdown",
   "metadata": {},
   "source": [
    "#### 1.4 List、Tuple、Dict类型基本操作\n",
    "    新学期的选课抽签已经结束，可怜的小明只选上了这些课：['编译', '毛概', '操统']\n",
    "    （1）请在小明的课表中增加一门课程 'Python'，删除课程 '编译'，并输出选课列表`course`\n",
    "    （2）这是小明想补选的通选课清单：{'A': ['音数'], 'C': ['三宝'], 'E': ['西音', '西美']}\n",
    "        请用增删改操作修改清单中不正确的通选课分类，并输出通选课清单`elective`\n",
    "        注：音数(A,E),三宝(A),西音(E),西美(D,E)"
   ]
  },
  {
   "cell_type": "code",
   "execution_count": 1,
   "metadata": {},
   "outputs": [
    {
     "name": "stdout",
     "output_type": "stream",
     "text": [
      "['毛概', '操统', 'Python']\n",
      "{'A': ['音数', '三宝'], 'E': ['西音', '西美', '音数'], 'D': ['西美']}\n"
     ]
    }
   ],
   "source": [
    "course = ['编译', '毛概', '操统']\n",
    "elective = {'A':['音数'], 'C':['三宝'], 'E':['西音','西美']}\n",
    "\n",
    "##请将代码补充完整\n",
    "course.append('Python')\n",
    "course.remove('编译')\n",
    "elective['A'].append('三宝')\n",
    "del elective['C']\n",
    "elective['D']=['西美']\n",
    "elective['E'].append('音数')\n",
    "# 验证结果\n",
    "assert('Python' in course)\n",
    "assert('毛概' in course)\n",
    "assert('操统' in course)\n",
    "assert('D' in elective and 'C' not in elective and len(elective.keys())==3)\n",
    "assert('三宝' in elective['A'] and '西美' in elective['D'] and '西美' in elective['E'])\n",
    "print(course)\n",
    "print(elective)"
   ]
  },
  {
   "cell_type": "markdown",
   "metadata": {},
   "source": [
    "### 第二部分：进阶练习\n",
    "\n",
    "#### 2.1 循环语句、表达式\n",
    "    计算数列前10项和\n",
    "$$ a_n = 2*a_{n-1} + \\frac{1}{a_{n-1}}, a_1=1 $$"
   ]
  },
  {
   "cell_type": "code",
   "execution_count": 25,
   "metadata": {},
   "outputs": [],
   "source": [
    "a = 1  #  a1 = 1\n",
    "s = 0  # 加和的结果\n",
    "\n",
    "# 以下为待补全部分\n",
    "for cnt in range(1,11):\n",
    "    s=s+a\n",
    "    a_=2*a+1/a\n",
    "    a=a_\n",
    "# 验证结果\n",
    "assert s > 1645 and s < 1646"
   ]
  },
  {
   "cell_type": "markdown",
   "metadata": {},
   "source": [
    "#### 2.2 循环表达式与列表\n",
    "    找出列表中只出现过一次的数字，并将这些数字按原次序保存进另一个列表unique_nums中\n",
    "    例如： 输入：2,6,1,3,7,2,7    输出：6,1,3"
   ]
  },
  {
   "cell_type": "code",
   "execution_count": 26,
   "metadata": {},
   "outputs": [],
   "source": [
    "s = '2,6,1,3,7,2,7'\n",
    "nums = s.split(',')\n",
    "unique_nums = []\n",
    "\n",
    "def make_unique(s):\n",
    "    nums = [int(x) for x in s.split(',')]\n",
    "    unique_nums = []\n",
    "\n",
    "    # 以下为待补全部分\n",
    "    for num in nums:\n",
    "        if nums.count(num)==1:\n",
    "            unique_nums.append(num)\n",
    "    return unique_nums\n",
    "\n",
    "# 验证结果\n",
    "assert(make_unique('2,6,1,3,7,2,7')==[6,1,3])\n",
    "assert(make_unique('1,2,3,5,8,1,1,8,6,7,8,0')==[2,3,5,6,7,0])"
   ]
  },
  {
   "cell_type": "markdown",
   "metadata": {},
   "source": [
    "#### 2.3 将以 ':' 和 '|' 为分隔符的字符串处理成 python 字典\n",
    "    例如： 输入：'k:1|k1:2|k2:3|k3:4'    输出：{'k': '1', 'k1': '2', 'k2': '3', 'k3': '4'}"
   ]
  },
  {
   "cell_type": "code",
   "execution_count": 27,
   "metadata": {},
   "outputs": [],
   "source": [
    "s = 'k:1|k1:2|k2:3|k3:4'\n",
    "result = dict()\n",
    "\n",
    "# 以下为待补全部分\n",
    "dic_items=s.split('|')\n",
    "for item in dic_items:\n",
    "    key_map=item.split(':')\n",
    "    result[key_map[0]]=key_map[1]\n",
    "# 验证结果\n",
    "assert 'k1' in result\n",
    "assert result[\"k1\"] == '2'"
   ]
  },
  {
   "cell_type": "markdown",
   "metadata": {},
   "source": [
    "#### 2.4. 利用filter函数，找出1~200之间的所有素数"
   ]
  },
  {
   "cell_type": "code",
   "execution_count": 28,
   "metadata": {},
   "outputs": [],
   "source": [
    "##请将代码补充完整\n",
    "\n",
    "# 判断一个数x是否为素数\n",
    "def is_prime(x):\n",
    "    for i in range(2,int(x**0.5)+2):\n",
    "        if x%i==0:\n",
    "            return False\n",
    "    return True\n",
    "\n",
    "\n",
    "# 利用filter机制生成1-200的素数列表\n",
    "prime_list = list(filter(is_prime,range(1,201)))\n",
    "# 验证结果\n",
    "assert len(prime_list) == 46\n",
    "assert 101 in prime_list"
   ]
  },
  {
   "cell_type": "markdown",
   "metadata": {},
   "source": [
    "#### 2.5. 英文词频统计\n",
    "    输入为以下一段英文，不区分大小写，不计标点符号。\n",
    "    'There is no doubt that happiness is the most precious thing in the world. Without it, life will be empty and meaningless. If you wish to know how to get happiness, you must pay attention to the following two points.'\n",
    "    输出是一个字典，其中字典的key是每个不同的英文单词，value是该单词的出现次数。"
   ]
  },
  {
   "cell_type": "code",
   "execution_count": null,
   "metadata": {},
   "outputs": [],
   "source": [
    "s = 'There is no doubt that happiness is the most precious thing in the world. Without it, life will be empty and meaningless. If you wish to know how to get happiness, you must pay attention to the following two points.'\n",
    "##请将代码补充完整\n",
    "word_freq = {}\n",
    "words=s.split(' ')\n",
    "for word in words:\n",
    "    if word != '.' and word !=',':\n",
    "        word_freq[word]=words.count(word)\n",
    "\n",
    "assert 'is' in word_freq\n",
    "assert word_freq['is'] == 2\n",
    "assert ',' not in word_freq and '.' not in word_freq"
   ]
  }
 ],
 "metadata": {
  "kernelspec": {
   "display_name": "Python 3.9.13 ('base')",
   "language": "python",
   "name": "python3"
  },
  "language_info": {
   "codemirror_mode": {
    "name": "ipython",
    "version": 3
   },
   "file_extension": ".py",
   "mimetype": "text/x-python",
   "name": "python",
   "nbconvert_exporter": "python",
   "pygments_lexer": "ipython3",
   "version": "3.9.15"
  },
  "vscode": {
   "interpreter": {
    "hash": "e3088de3960acd46056fbdd3913a22297cbcceb7274202512f4b511f7eda05a2"
   }
  }
 },
 "nbformat": 4,
 "nbformat_minor": 4
}
