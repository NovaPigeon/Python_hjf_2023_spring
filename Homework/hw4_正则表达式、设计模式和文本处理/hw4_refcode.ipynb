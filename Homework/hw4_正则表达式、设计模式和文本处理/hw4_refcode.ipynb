{
 "cells": [
  {
   "cell_type": "markdown",
   "metadata": {},
   "source": [
    "# Homework 4\n",
    "任课老师：胡俊峰\n",
    "\n",
    "负责助教：苏亚鲁、李浩然\n",
    "\n",
    "注意：仅需要提交.ipynb文件，请**不要**将下发压缩包中的其他文件一并交上。\n",
    "\n",
    "截止日期：3月9日24点"
   ]
  },
  {
   "cell_type": "markdown",
   "metadata": {},
   "source": [
    "## 第零部分 代码理解\n",
    "### 0.1 阅读代码预测结果，分析结果是否如预期"
   ]
  },
  {
   "cell_type": "code",
   "execution_count": 50,
   "metadata": {},
   "outputs": [
    {
     "name": "stdout",
     "output_type": "stream",
     "text": [
      "The entry is a\n",
      "Value Error\n",
      "97\n",
      "The entry is 0\n",
      "test the midle type 0\n",
      "ZeroDivision Error\n",
      "The entry is 2\n",
      "test the midle type 2\n",
      "The reciprocal of 2 is 0.5\n"
     ]
    }
   ],
   "source": [
    "testList = ['a', 0, 2]\n",
    "for entry in testList:\n",
    "    try:\n",
    "        print(\"The entry is\", entry)\n",
    "        c = int(entry)\n",
    "        print('test the midle type',c)\n",
    "        r = 1/int(entry)\n",
    "        print(\"The reciprocal of\",entry,\"is\",r)\n",
    "        break\n",
    "    except ValueError:\n",
    "        print(\"Value Error\")\n",
    "        print(ord(entry))\n",
    "    except (ZeroDivisionError):\n",
    "        print(\"ZeroDivision Error\")"
   ]
  },
  {
   "cell_type": "code",
   "execution_count": 53,
   "metadata": {},
   "outputs": [
    {
     "name": "stdout",
     "output_type": "stream",
     "text": [
      "180\n",
      "88\n",
      "63\n"
     ]
    }
   ],
   "source": [
    "class Student(object):\n",
    "    def __init__(self, math_score, english_score):\n",
    "        self.math_score = math_score\n",
    "        self.english_score = english_score\n",
    "    \n",
    "    def get_total_scores(self):\n",
    "        return self.math_score + self.english_score\n",
    "\n",
    "if __name__=='__main__':\n",
    "    XiaoMing = Student(88,92)\n",
    "    print(XiaoMing.get_total_scores())\n",
    "    print(XiaoMing.math_score)\n",
    "    XiaoMing.english_score = 63\n",
    "    print(XiaoMing.english_score)\n",
    "    XiaoMing.math_score = 120"
   ]
  },
  {
   "cell_type": "code",
   "execution_count": 54,
   "metadata": {},
   "outputs": [
    {
     "name": "stdout",
     "output_type": "stream",
     "text": [
      "180\n",
      "88\n",
      "63\n"
     ]
    }
   ],
   "source": [
    "class Student(object):\n",
    "    def __init__(self, math_score, english_score):\n",
    "        self.math_score = math_score\n",
    "        self.english_score = english_score\n",
    "    \n",
    "    @property\n",
    "    def total_scores(self):\n",
    "        return self.math_score + self.english_score\n",
    "\n",
    "if __name__=='__main__':\n",
    "    XiaoMing = Student(88,92)\n",
    "    print(XiaoMing.total_scores)\n",
    "    print(XiaoMing.math_score)\n",
    "    XiaoMing.english_score = 63\n",
    "    print(XiaoMing.english_score)\n",
    "    XiaoMing.math_score = 120"
   ]
  },
  {
   "cell_type": "code",
   "execution_count": 56,
   "metadata": {},
   "outputs": [
    {
     "name": "stdout",
     "output_type": "stream",
     "text": [
      "180\n",
      "88\n",
      "63\n",
      "Error: can't set attribute 'total_scores'\n"
     ]
    },
    {
     "ename": "ValueError",
     "evalue": "score must between 0~100!",
     "output_type": "error",
     "traceback": [
      "\u001b[1;31m---------------------------------------------------------------------------\u001b[0m",
      "\u001b[1;31mValueError\u001b[0m                                Traceback (most recent call last)",
      "\u001b[1;32md:\\研究生生涯——基础篇\\助教任务\\作业\\HW4(3)\\HW4\\HW4.ipynb Cell 6\u001b[0m in \u001b[0;36m<cell line: 35>\u001b[1;34m()\u001b[0m\n\u001b[0;32m     <a href='vscode-notebook-cell:/d%3A/%E7%A0%94%E7%A9%B6%E7%94%9F%E7%94%9F%E6%B6%AF%E2%80%94%E2%80%94%E5%9F%BA%E7%A1%80%E7%AF%87/%E5%8A%A9%E6%95%99%E4%BB%BB%E5%8A%A1/%E4%BD%9C%E4%B8%9A/HW4%283%29/HW4/HW4.ipynb#X53sZmlsZQ%3D%3D?line=42'>43</a>\u001b[0m \u001b[39mexcept\u001b[39;00m \u001b[39mException\u001b[39;00m \u001b[39mas\u001b[39;00m e:\n\u001b[0;32m     <a href='vscode-notebook-cell:/d%3A/%E7%A0%94%E7%A9%B6%E7%94%9F%E7%94%9F%E6%B6%AF%E2%80%94%E2%80%94%E5%9F%BA%E7%A1%80%E7%AF%87/%E5%8A%A9%E6%95%99%E4%BB%BB%E5%8A%A1/%E4%BD%9C%E4%B8%9A/HW4%283%29/HW4/HW4.ipynb#X53sZmlsZQ%3D%3D?line=43'>44</a>\u001b[0m     \u001b[39mprint\u001b[39m(\u001b[39m'\u001b[39m\u001b[39mError:\u001b[39m\u001b[39m'\u001b[39m,e)\n\u001b[1;32m---> <a href='vscode-notebook-cell:/d%3A/%E7%A0%94%E7%A9%B6%E7%94%9F%E7%94%9F%E6%B6%AF%E2%80%94%E2%80%94%E5%9F%BA%E7%A1%80%E7%AF%87/%E5%8A%A9%E6%95%99%E4%BB%BB%E5%8A%A1/%E4%BD%9C%E4%B8%9A/HW4%283%29/HW4/HW4.ipynb#X53sZmlsZQ%3D%3D?line=44'>45</a>\u001b[0m XiaoMing\u001b[39m.\u001b[39;49mmath_score \u001b[39m=\u001b[39m \u001b[39m120\u001b[39m\n",
      "\u001b[1;32md:\\研究生生涯——基础篇\\助教任务\\作业\\HW4(3)\\HW4\\HW4.ipynb Cell 6\u001b[0m in \u001b[0;36mStudent.math_score\u001b[1;34m(self, value)\u001b[0m\n\u001b[0;32m     <a href='vscode-notebook-cell:/d%3A/%E7%A0%94%E7%A9%B6%E7%94%9F%E7%94%9F%E6%B6%AF%E2%80%94%E2%80%94%E5%9F%BA%E7%A1%80%E7%AF%87/%E5%8A%A9%E6%95%99%E4%BB%BB%E5%8A%A1/%E4%BD%9C%E4%B8%9A/HW4%283%29/HW4/HW4.ipynb#X53sZmlsZQ%3D%3D?line=23'>24</a>\u001b[0m \u001b[39m@math_score\u001b[39m\u001b[39m.\u001b[39msetter\n\u001b[0;32m     <a href='vscode-notebook-cell:/d%3A/%E7%A0%94%E7%A9%B6%E7%94%9F%E7%94%9F%E6%B6%AF%E2%80%94%E2%80%94%E5%9F%BA%E7%A1%80%E7%AF%87/%E5%8A%A9%E6%95%99%E4%BB%BB%E5%8A%A1/%E4%BD%9C%E4%B8%9A/HW4%283%29/HW4/HW4.ipynb#X53sZmlsZQ%3D%3D?line=24'>25</a>\u001b[0m \u001b[39mdef\u001b[39;00m \u001b[39mmath_score\u001b[39m(\u001b[39mself\u001b[39m,value):\n\u001b[1;32m---> <a href='vscode-notebook-cell:/d%3A/%E7%A0%94%E7%A9%B6%E7%94%9F%E7%94%9F%E6%B6%AF%E2%80%94%E2%80%94%E5%9F%BA%E7%A1%80%E7%AF%87/%E5%8A%A9%E6%95%99%E4%BB%BB%E5%8A%A1/%E4%BD%9C%E4%B8%9A/HW4%283%29/HW4/HW4.ipynb#X53sZmlsZQ%3D%3D?line=25'>26</a>\u001b[0m     \u001b[39mself\u001b[39;49m\u001b[39m.\u001b[39;49mvalidate_score(value)\n\u001b[0;32m     <a href='vscode-notebook-cell:/d%3A/%E7%A0%94%E7%A9%B6%E7%94%9F%E7%94%9F%E6%B6%AF%E2%80%94%E2%80%94%E5%9F%BA%E7%A1%80%E7%AF%87/%E5%8A%A9%E6%95%99%E4%BB%BB%E5%8A%A1/%E4%BD%9C%E4%B8%9A/HW4%283%29/HW4/HW4.ipynb#X53sZmlsZQ%3D%3D?line=26'>27</a>\u001b[0m     \u001b[39mself\u001b[39m\u001b[39m.\u001b[39m__math_score \u001b[39m=\u001b[39m value\n",
      "\u001b[1;32md:\\研究生生涯——基础篇\\助教任务\\作业\\HW4(3)\\HW4\\HW4.ipynb Cell 6\u001b[0m in \u001b[0;36mStudent.validate_score\u001b[1;34m(self, value)\u001b[0m\n\u001b[0;32m     <a href='vscode-notebook-cell:/d%3A/%E7%A0%94%E7%A9%B6%E7%94%9F%E7%94%9F%E6%B6%AF%E2%80%94%E2%80%94%E5%9F%BA%E7%A1%80%E7%AF%87/%E5%8A%A9%E6%95%99%E4%BB%BB%E5%8A%A1/%E4%BD%9C%E4%B8%9A/HW4%283%29/HW4/HW4.ipynb#X53sZmlsZQ%3D%3D?line=19'>20</a>\u001b[0m     \u001b[39mraise\u001b[39;00m \u001b[39mValueError\u001b[39;00m(\u001b[39m'\u001b[39m\u001b[39mscore must be an integer!\u001b[39m\u001b[39m'\u001b[39m)\n\u001b[0;32m     <a href='vscode-notebook-cell:/d%3A/%E7%A0%94%E7%A9%B6%E7%94%9F%E7%94%9F%E6%B6%AF%E2%80%94%E2%80%94%E5%9F%BA%E7%A1%80%E7%AF%87/%E5%8A%A9%E6%95%99%E4%BB%BB%E5%8A%A1/%E4%BD%9C%E4%B8%9A/HW4%283%29/HW4/HW4.ipynb#X53sZmlsZQ%3D%3D?line=20'>21</a>\u001b[0m \u001b[39mif\u001b[39;00m value \u001b[39m<\u001b[39m \u001b[39m0\u001b[39m \u001b[39mor\u001b[39;00m value \u001b[39m>\u001b[39m \u001b[39m100\u001b[39m:\n\u001b[1;32m---> <a href='vscode-notebook-cell:/d%3A/%E7%A0%94%E7%A9%B6%E7%94%9F%E7%94%9F%E6%B6%AF%E2%80%94%E2%80%94%E5%9F%BA%E7%A1%80%E7%AF%87/%E5%8A%A9%E6%95%99%E4%BB%BB%E5%8A%A1/%E4%BD%9C%E4%B8%9A/HW4%283%29/HW4/HW4.ipynb#X53sZmlsZQ%3D%3D?line=21'>22</a>\u001b[0m     \u001b[39mraise\u001b[39;00m \u001b[39mValueError\u001b[39;00m(\u001b[39m'\u001b[39m\u001b[39mscore must between 0~100!\u001b[39m\u001b[39m'\u001b[39m)\n",
      "\u001b[1;31mValueError\u001b[0m: score must between 0~100!"
     ]
    }
   ],
   "source": [
    "class Student(object):\n",
    "    def __init__(self, math_score, english_score):\n",
    "        self.__math_score = math_score\n",
    "        self.__english_score = english_score\n",
    "\n",
    "    @property\n",
    "    def math_score(self):\n",
    "        return self.__math_score\n",
    "\n",
    "    @property\n",
    "    def english_score(self):\n",
    "        return self.__english_score\n",
    "    \n",
    "    @property\n",
    "    def total_scores(self):\n",
    "        return self.__math_score + self.__english_score\n",
    "\n",
    "    def validate_score(self, value):\n",
    "        if not isinstance(value, int):\n",
    "            raise ValueError('score must be an integer!')\n",
    "        if value < 0 or value > 100:\n",
    "            raise ValueError('score must between 0~100!')\n",
    "\n",
    "    @math_score.setter\n",
    "    def math_score(self,value):\n",
    "        self.validate_score(value)\n",
    "        self.__math_score = value\n",
    "\n",
    "    @english_score.setter\n",
    "    def english_score(self,value):\n",
    "        self.validate_score(value)\n",
    "        self.__english_score = value\n",
    "\n",
    "    \n",
    "if __name__=='__main__':\n",
    "    XiaoMing = Student(88,92)\n",
    "    print(XiaoMing.total_scores)\n",
    "    print(XiaoMing.math_score)\n",
    "    XiaoMing.english_score = 63\n",
    "    print(XiaoMing.english_score)\n",
    "    try:\n",
    "        XiaoMing.total_scores = 200\n",
    "    except Exception as e:\n",
    "        print('Error:',e)\n",
    "    XiaoMing.math_score = 120\n"
   ]
  },
  {
   "cell_type": "code",
   "execution_count": 59,
   "metadata": {},
   "outputs": [
    {
     "name": "stdout",
     "output_type": "stream",
     "text": [
      "['one', 'two', 'three', 'four', '']\n",
      "['1', '22', '3', '4']\n",
      "--------------\n",
      "['one', 'two', '', 'three', 'four', '']\n",
      "['1', '2', '2', '3', '4']\n"
     ]
    }
   ],
   "source": [
    "import re   \n",
    "\n",
    "p = re.compile(r'\\d+')             # 匹配1-n个数字\n",
    "print (p.split('one1two22three3four4'))\n",
    "print (p.findall('one1two22three3four4'))\n",
    "print('--------------')\n",
    "p = re.compile(r'\\d+?')             # 匹配1-n个数字\n",
    "print (p.split('one1two22three3four4'))\n",
    "print (p.findall('one1two22three3four4'))"
   ]
  },
  {
   "cell_type": "code",
   "execution_count": 19,
   "metadata": {},
   "outputs": [
    {
     "name": "stdout",
     "output_type": "stream",
     "text": [
      "<re.Match object; span=(0, 3), match='one'>\n",
      "<re.Match object; span=(5, 8), match='two'>\n",
      "<re.Match object; span=(11, 16), match='three'>\n",
      "<re.Match object; span=(18, 22), match='four'>\n"
     ]
    }
   ],
   "source": [
    "m = re.finditer(r'([a-z]+)','one1;two32 three3,four4') \n",
    "print(next(m))\n",
    "print(next(m))\n",
    "print(next(m))\n",
    "print(next(m))"
   ]
  },
  {
   "cell_type": "code",
   "execution_count": 20,
   "metadata": {
    "scrolled": true
   },
   "outputs": [
    {
     "name": "stdout",
     "output_type": "stream",
     "text": [
      "<re.Match object; span=(0, 4), match='one1'>\n",
      "two32\n",
      "three\n",
      "4\n"
     ]
    }
   ],
   "source": [
    "m = re.finditer(r'([a-z]+)([0-9]+)','one1;two32 three3,four4') \n",
    "print(next(m))\n",
    "print(next(m).group())  # 整个模式\n",
    "print(next(m).group(1)) # 子模式1\n",
    "print(next(m).group(2)) # 子模式2"
   ]
  },
  {
   "cell_type": "code",
   "execution_count": 60,
   "metadata": {},
   "outputs": [
    {
     "name": "stdout",
     "output_type": "stream",
     "text": [
      "Malcolm_Reynolds\n",
      "Malcolm\n",
      "Reynolds\n"
     ]
    }
   ],
   "source": [
    "m = re.match(r\"(?P<first_name>\\w+)_(?P<last_name>\\w+)\", \"Malcolm_Reynolds\")\n",
    "print(m.group())\n",
    "print(m.group('first_name'))\n",
    "print(m.group('last_name'))"
   ]
  },
  {
   "cell_type": "markdown",
   "metadata": {},
   "source": [
    "### 0.2 Python的私有属性和“受保护的”属性\n",
    "Python 不能像 Java 那样使用 private 修饰符创建私有属性，但是Python 有个简单的机制，能避免子类意外覆盖“私有”属性。\\\n",
    "举个例子。有人编写了一个名为 Dog 的类，这个类的内部用到了 mood实例属性，但是没有将其开放。现在，你创建了 Dog 类的子类：Beagle。\\\n",
    "如果你在毫不知情的情况下又创建了名为 mood 的实例属性，那么在继承的方法中就会把 Dog 类的 mood 属性覆盖掉。这是个难以调试的问题。\\\n",
    "为了避免这种情况，如果以 __mood 的形式（两个前导下划线，尾部没有或最多有一个下划线）命名实例属性，Python 会把属性名存入实例的__dict__ 属性中，而且会在前面加上一个下划线和类名。因此，对Dog 类来说，__mood 会变成 _Dog__mood；对 Beagle 类来说，会变成_Beagle__mood。这个语言特性叫名称改写（name mangling）。"
   ]
  },
  {
   "cell_type": "code",
   "execution_count": 40,
   "metadata": {},
   "outputs": [
    {
     "name": "stdout",
     "output_type": "stream",
     "text": [
      "{'_Vector2d__x': 3.0, '_Vector2d__y': 4.0, '_z': 5.0}\n"
     ]
    }
   ],
   "source": [
    "class Vector2d:\n",
    "    typecode = 'd'\n",
    "    def __init__(self, x, y, z):\n",
    "        self.__x = float(x)\n",
    "        self.__y = float(y)\n",
    "        self._z = float(z)\n",
    "    @property\n",
    "    def x(self): \n",
    "        return self.__x\n",
    "    @property\n",
    "    def y(self):\n",
    "        return self.__y\n",
    "    @property\n",
    "    def z(self):\n",
    "        return self._z\n",
    "\n",
    "if __name__=='__main__':\n",
    "    v1 = Vector2d(3, 4, 5)\n",
    "    print(v1.__dict__)"
   ]
  },
  {
   "cell_type": "markdown",
   "metadata": {},
   "source": [
    "不是所有 Python 程序员都喜欢名称改写功能，也不是所有人都喜欢self.__x 这种不对称的名称。有些人不喜欢这种句法，他们约定使用一个下划线前缀编写“受保护”的属性（如 self._x）。批评使用两个下划线这种改写机制的人认为，应该使用命名约定来避免意外覆盖属性。\n",
    "> \"绝对不要使用两个前导下划线，这是很烦人的自私行为。如果担心名称冲突，应该明确使用一种名称改写方式（如_MyThing_blahblah）。这其实与使用双下划线一样，不过自己定的规则比双下划线易于理解。\" —— Ian Bicking\n",
    "\n",
    "Python 解释器不会对使用单个下划线的属性名做特殊处理，不过这是很多 Python 程序员严格遵守的约定，他们不会在类外部访问这种属性。\n",
    "遵守使用一个下划线标记对象的私有属性很容易，就像遵守使用全大写字母编写常量那样容易。\n",
    "> 不过在**模块**中，顶层名称使用一个前导下划线的话，的确会有影响：对 from mymod import * 来说，mymod 中前缀为下划线的名称不会被导入。然而，依旧可以使用 from mymod import _privatefunc 将其导入。"
   ]
  },
  {
   "cell_type": "code",
   "execution_count": null,
   "metadata": {},
   "outputs": [],
   "source": [
    "\n",
    "#单个下划线修饰的“_”的变量、函数、类在使用from xxx import *时都不会被导入\n",
    "class _Bug(object):  #单个下划线修饰的私有类。\n",
    "    @staticmethod\n",
    "    def showbug():\n",
    "        print(\"showbug\")"
   ]
  },
  {
   "cell_type": "markdown",
   "metadata": {},
   "source": [
    "Python 文档的某些角落把使用一个下划线前缀标记的属性称为“受保护的”属性。 使用 self._x 这种形式保护属性的做法很常见，但是很少有人把这种属性叫作“受保护的”属性。有些人甚至将其称为“私有”属性。\\\n",
    "总之，python并**不能真正实现**私有和不可变，只有通过**双下滑线内在机制**规避子类对父类属性的覆盖，或者通过遵守**单下划线的人为规定**来实现类的分量的“私有”和类的示例的“不可变”。"
   ]
  },
  {
   "cell_type": "markdown",
   "metadata": {},
   "source": [
    "## 第一部分 正则表达式(3分)\n",
    "### 1.1 用正则表达式进行账号、密码、电话、生日判断(2分)\n",
    "具体格式要求如下：\n",
    "<br>账号：由英文字母组成，不限大小写。\n",
    "<br>密码：由英文字母与数字组成且以英文字母开头，最少八位。\n",
    "<br>电话：11位数字，且以1开头。\n",
    "<br>生日：年-月-日(YYYY-MM-DD)。"
   ]
  },
  {
   "cell_type": "code",
   "execution_count": null,
   "metadata": {},
   "outputs": [],
   "source": [
    "import re\n",
    "account=\"^[A-Za-z]+$\"\n",
    "password=\"^[A-Za-z][A-Za-z0-9]{7,}$\"\n",
    "telephone=\"^1\\d{10}$\"\n",
    "birthday=\"^\\d{4}-\\d{2}-\\d{2}$\"\n",
    "\n",
    "assert re.match(account,\"PyThoN\")\n",
    "assert re.match(password,\"Python2022\")\n",
    "assert re.match(telephone,\"12345678910\")\n",
    "assert re.match(birthday,\"2022-03-14\")"
   ]
  },
  {
   "cell_type": "markdown",
   "metadata": {},
   "source": [
    "### 1.2 邮箱的正则表达式匹配(1分)\n",
    "要求：邮箱中间须有@，@之前由英文字母、数字、下划线(_)、短横(-)组成，之后由英文字母、数字、下划线(_)、短横(-)、英文句号(.)组成，且必须有至少一个英文句号(.)。"
   ]
  },
  {
   "cell_type": "code",
   "execution_count": 46,
   "metadata": {},
   "outputs": [],
   "source": [
    "import re\n",
    "\n",
    "email=\"^[\\w-]+@[\\w-]+(.[\\w-]+)+\"\n",
    "email2=r'[\\w_\\-]+@(?=.*\\.)[\\w_\\-\\.]*'\n",
    "\n",
    "assert re.match(email2,\"2-102@pku.edu.cn\")"
   ]
  },
  {
   "cell_type": "markdown",
   "metadata": {},
   "source": [
    "## 第二部分：发布-订阅模式实现（5分）"
   ]
  },
  {
   "cell_type": "markdown",
   "metadata": {},
   "source": [
    "### 2.1 读取并解析tang300.xml文件，打印前2首诗的内容（即前12行）。编写函数各保存20首李白、杜甫、白居易、王維（維是繁体）的诗，要求为每首诗歌生成独立的数据对象，包括标题、作者、诗内容（按行）的元组（tuple）。(1.5分)\n",
    "关于xml解析的相关代码，可以参看https://www.runoob.com/python/python-xml.html"
   ]
  },
  {
   "cell_type": "code",
   "execution_count": null,
   "metadata": {},
   "outputs": [],
   "source": [
    "'''\n",
    "可使用xml.dom.minidom来解析xml文件\n",
    "'''\n",
    "import xml.dom.minidom\n",
    "domTree = xml.dom.minidom.parse(\"tang300.xml\")\n",
    "\n",
    "\n",
    "# get_poems()函数保存20首李白、杜甫、白居易、王維（維是繁体）的诗\n",
    "def get_poems():\n",
    "    DOMTree = xml.dom.minidom.parse(\"tang300.xml\")\n",
    "    collection = DOMTree.documentElement\n",
    "    # 在集合中获取所有诗句\n",
    "    poems = collection.getElementsByTagName(\"作业用唐诗\")\n",
    "    \n",
    "    authors = ['李白', '杜甫', '白居易', '王維']\n",
    "    saved_poems = {'李白':[], '杜甫':[], '白居易':[], '王維':[]}\n",
    "    \n",
    "    for i, poem in enumerate(poems):#枚举每一行\n",
    "        for author in authors:#匹配四个作者\n",
    "            if poem.getElementsByTagName(\"contance\")[0].childNodes[0].data == '$$' + author:#如果作者对应上了\n",
    "                if len(saved_poems[author]) < 20:#限制每个作者20首诗\n",
    "                    poem_tuple = []\n",
    "                    Poem_id = poem.getElementsByTagName(\"Poem_id\")[0].childNodes[0].data\n",
    "                    j = i - 1   #作者上一行是标题\n",
    "                    while poems[j].getElementsByTagName(\"Poem_id\")[0].childNodes[0].data == Poem_id:#把整首诗存在poem_tuple中\n",
    "                        start = 0\n",
    "                        if j <= i:\n",
    "                            start = 2    #去除标题和作者名字的前缀\n",
    "                        poem_tuple.append(poems[j].getElementsByTagName(\"contance\")[0].childNodes[0].data[start:])\n",
    "                        j += 1\n",
    "                    saved_poems[author].append(tuple(poem_tuple))\n",
    "\n",
    "    return saved_poems"
   ]
  },
  {
   "cell_type": "markdown",
   "metadata": {},
   "source": [
    "### 2.2 实现设计模式中的观察者模式，本部分将以2.1中提取的诗歌信息作为主题。(3.5分)\n",
    "\n",
    "观察者模式也被称为发布-订阅（Publish/Subscribe）模式。当主题对象状态变化时，会通知所有观察者对象并作出相应处理逻辑。\n",
    "\n",
    "在本问题中，可以形象地理解成，Publisher为诗歌发布中心，Reader为订阅相应诗人的诗歌的人。需要实现订阅，退订，Publisher可以发布新增、删除诗歌的消息以及当前各位诗人的诗歌的总数。当Publisher发布消息时，它需要把需要推送给所有订阅的Reader。\n",
    "\n",
    "\n",
    "**Publisher（发布者）**\n",
    "\n",
    "    - 保存订阅的读者\n",
    "    - 记录四位诗人各自诗歌的总数\n",
    "    - 发布四位诗人新诗的消息，每次只需要发布一首\n",
    "    - 发布新消息时，发布给所有已订阅的读者   \n",
    "   只有一位发布者Publisher\n",
    "   \n",
    "**Reader（订阅者）**\n",
    "\n",
    "    - 订阅/取消订阅 发布者（注意同一个发布者不要重复订阅）\n",
    "    - 保存发布者发来的诗歌\n",
    "关于保存消息，读者分为**两种类型**：\n",
    "- Type1：保存所有消息，这意味着这类读者需要将四位诗人的诗歌分类。\n",
    "- Type2：只保存最新的消息（也就是说只需要保存一首诗）。 \n",
    "\n",
    "要求实例化三个Reader: Alice, Bob, Carol，其中Alice为Type1，Bob&Carol为Type2.\n",
    "\n",
    "要求Reader实现printStatistics方法来打印保存的诗歌。\n",
    "\n",
    "要求实现Publisher的__str__方法，输出自己现有的Reader和发出的诗歌数目。\n",
    "\n",
    "下面给出的代码作为参考，可以不按照下面的参考实现。\n",
    "\n",
    "#### 参考资料\n",
    "\n",
    "[1. Observer pattern Wiki](https://en.wikipedia.org/wiki/Observer_pattern)   \n",
    "[2. 设计模式之观察者模式（c++）](https://www.cnblogs.com/carsonzhu/p/5770253.html)"
   ]
  },
  {
   "cell_type": "markdown",
   "metadata": {},
   "source": [
    "### 请完成上述Publisher & Reader的代码"
   ]
  },
  {
   "cell_type": "code",
   "execution_count": 62,
   "metadata": {},
   "outputs": [
    {
     "ename": "TypeError",
     "evalue": "Can't instantiate abstract class _Publisher with abstract method __str__",
     "output_type": "error",
     "traceback": [
      "\u001b[1;31m---------------------------------------------------------------------------\u001b[0m",
      "\u001b[1;31mTypeError\u001b[0m                                 Traceback (most recent call last)",
      "\u001b[1;32md:\\研究生生涯——基础篇\\助教任务\\作业\\HW4(3)\\HW4\\HW4.ipynb Cell 26\u001b[0m in \u001b[0;36m<cell line: 41>\u001b[1;34m()\u001b[0m\n\u001b[0;32m     <a href='vscode-notebook-cell:/d%3A/%E7%A0%94%E7%A9%B6%E7%94%9F%E7%94%9F%E6%B6%AF%E2%80%94%E2%80%94%E5%9F%BA%E7%A1%80%E7%AF%87/%E5%8A%A9%E6%95%99%E4%BB%BB%E5%8A%A1/%E4%BD%9C%E4%B8%9A/HW4%283%29/HW4/HW4.ipynb#X30sZmlsZQ%3D%3D?line=37'>38</a>\u001b[0m         \u001b[39mself\u001b[39m\u001b[39m.\u001b[39mcount[author]\u001b[39m=\u001b[39m\u001b[39mself\u001b[39m\u001b[39m.\u001b[39mcount\u001b[39m.\u001b[39mget(author,\u001b[39m0\u001b[39m)\u001b[39m+\u001b[39m\u001b[39m1\u001b[39m\n\u001b[0;32m     <a href='vscode-notebook-cell:/d%3A/%E7%A0%94%E7%A9%B6%E7%94%9F%E7%94%9F%E6%B6%AF%E2%80%94%E2%80%94%E5%9F%BA%E7%A1%80%E7%AF%87/%E5%8A%A9%E6%95%99%E4%BB%BB%E5%8A%A1/%E4%BD%9C%E4%B8%9A/HW4%283%29/HW4/HW4.ipynb#X30sZmlsZQ%3D%3D?line=38'>39</a>\u001b[0m         \u001b[39mself\u001b[39m\u001b[39m.\u001b[39msumcount\u001b[39m+\u001b[39m\u001b[39m=\u001b[39m\u001b[39m1\u001b[39m\n\u001b[1;32m---> <a href='vscode-notebook-cell:/d%3A/%E7%A0%94%E7%A9%B6%E7%94%9F%E7%94%9F%E6%B6%AF%E2%80%94%E2%80%94%E5%9F%BA%E7%A1%80%E7%AF%87/%E5%8A%A9%E6%95%99%E4%BB%BB%E5%8A%A1/%E4%BD%9C%E4%B8%9A/HW4%283%29/HW4/HW4.ipynb#X30sZmlsZQ%3D%3D?line=40'>41</a>\u001b[0m a \u001b[39m=\u001b[39m _Publisher(\u001b[39m'\u001b[39;49m\u001b[39mPublisher\u001b[39;49m\u001b[39m'\u001b[39;49m)\n",
      "\u001b[1;31mTypeError\u001b[0m: Can't instantiate abstract class _Publisher with abstract method __str__"
     ]
    }
   ],
   "source": [
    "from abc import ABC, abstractmethod\n",
    "\n",
    "class BasePublisher(ABC):\n",
    "    \n",
    "    @abstractmethod\n",
    "    def subscribeReader(self, reader):\n",
    "        pass\n",
    "    @abstractmethod\n",
    "    def unsubscribeReader(self, reader):\n",
    "        pass\n",
    "    @abstractmethod\n",
    "    def notifyReader(self,author, poem):\n",
    "        pass\n",
    "    @abstractmethod\n",
    "    def __str__(self):\n",
    "        pass\n",
    "\n",
    "class _Publisher(BasePublisher):\n",
    "\n",
    "    def __init__(self,name):\n",
    "        self.readers=[]\n",
    "        self.name=name\n",
    "        self.count={}\n",
    "        self.sumcount=0\n",
    "    def subscribeReader(self,reader):\n",
    "        if reader in self.readers:\n",
    "            print(\"您已经订阅过了\")\n",
    "        else:\n",
    "            self.readers.append(reader)\n",
    "    def unsubscribeReader(self, reader):\n",
    "        if reader not in self.readers:\n",
    "            print(\"您还没有订阅\")\n",
    "        else:\n",
    "            self.readers.remove(reader)\n",
    "    def notifyReader(self,author,poem):\n",
    "        for reader in self.readers:\n",
    "            reader.receivePoem(self.name,poem,author)\n",
    "        self.count[author]=self.count.get(author,0)+1\n",
    "        self.sumcount+=1\n",
    "\n",
    "a = _Publisher('Publisher')\n",
    "# 报错是因为接口中的方法要求必须全部实现。"
   ]
  },
  {
   "cell_type": "markdown",
   "metadata": {},
   "source": [
    "## 第三部分：文本处理（2分）\n",
    "文件results.xls是从ChinaDaily娱乐板块的若干子页面上爬取并保存到excel中的内容。请同学们从excel文件中读出爬取的内容，调用jieba进行分词，统计词频并生成词云图。"
   ]
  },
  {
   "cell_type": "markdown",
   "metadata": {},
   "source": [
    "### 3.1 读取results.xls文件内容，按照注释中函数说明的要求实现文件读取函数。(2分)"
   ]
  },
  {
   "cell_type": "code",
   "execution_count": 63,
   "metadata": {},
   "outputs": [],
   "source": [
    "import xlrd\n",
    "\n",
    "# 读取文件\n",
    "def read_from_excel(filename):\n",
    "    \"\"\"\n",
    "    函数说明：将excel文件中的数据读取到list中，相当于write_to_excel()的逆过程\n",
    "    注：读取excel的每行内容后，先把第一行的字段名提取出来，后面再按这些字段构建字典索引\n",
    "\n",
    "    Parameters:\n",
    "        filename: 待读取的excel文件路径\n",
    "\n",
    "    Returns:\n",
    "        result_list: 一个包含网页数据对象的list\n",
    "    \"\"\"\n",
    "    data=xlrd.open_workbook(filename).sheets()[0]\n",
    "    keys=data.row_values(0)\n",
    "    result_list=[dict(zip(keys,data.row_values(i))) for i in range(1,data.nrows)]\n",
    "    return result_list\n",
    "\n",
    "# 测试\n",
    "if __name__ =='__main__':\n",
    "    filename = \"./results.xls\"\n",
    "    loaded_data = read_from_excel(filename)\n",
    "\n",
    "    assert loaded_data[0]['标题'] == '《明星大侦探4》白敬亭自称“不加糖也很甜”\\n'\n",
    "    assert loaded_data[1]['来源'] == '环球网综合'\n"
   ]
  },
  {
   "cell_type": "markdown",
   "metadata": {},
   "source": [
    "### 3.2 根据3.1中读取的数据，过滤特殊符号并统计数据中的高频词，最终生成词云图（选做+2分）"
   ]
  },
  {
   "cell_type": "code",
   "execution_count": null,
   "metadata": {},
   "outputs": [],
   "source": [
    "import requests  # 发送网络请求\n",
    "from bs4 import BeautifulSoup  # 解析html\n",
    "from datetime import datetime  # 格式化显示时间\n",
    "from tqdm import tqdm  # 可视化显示进度条\n",
    "import xlrd  # 读取excel\n",
    "import xlwt  # 写入excel\n",
    "import os  # 显示文件路径\n",
    "\n",
    "import jieba  # 分词\n",
    "import numpy as np  # 用于生成词云时处理图像\n",
    "from PIL import Image, ImageSequence  # 用于生成词云时处理图像\n",
    "import matplotlib.pyplot as plt  # 用于画图\n",
    "from wordcloud import WordCloud, ImageColorGenerator  # 生成词云\n",
    "import pdb  # 用于打断点调试\n",
    "import logging  # 打印日志信息\n",
    "\n",
    "\n",
    "# 设置日志级别\n",
    "logging.basicConfig(level=logging.INFO,\n",
    "format='%(asctime)s - %(filename)s[line:%(lineno)d] - %(levelname)s: %(message)s')\n",
    "\n",
    "\n",
    "\"\"\"\n",
    "    进阶任务目标：从excel文件中读出爬取的内容，调用jieba进行分词，统计词频并生成词云图。\n",
    "    进阶任务目标的执行流程已经被封装到work_optional()函数中。其中调用的部分函数功能需要大家自行实现。\n",
    "\"\"\"\n",
    "\n",
    "def merge_dict(dict1, dict2):\n",
    "    \"\"\"\n",
    "    函数说明：将dict2中的内容合并到dict1中，key不存在则新建，key存在则value相加\n",
    "\n",
    "    Parameters:\n",
    "        dict1: 字典1\n",
    "        dict2: 字典2\n",
    "\n",
    "    Returns:\n",
    "        dict1: 将字典2中的内容合并到字典1中\n",
    "    \"\"\"\n",
    "    for k in dict2:\n",
    "        if k in dict1:\n",
    "            dict1[k] += dict2[k]\n",
    "        else:\n",
    "            dict1[k] = dict2[k]\n",
    "    return dict1\n",
    "\n",
    "\n",
    "# (选做部分)\n",
    "def get_word_freq_dict_from_text(text):\n",
    "    \"\"\"\n",
    "    函数说明：输入一段文本，输出这段文本中长度>=2的词的词频统计字典（去掉了特殊符号，以及长度为1的单个字）\n",
    "\n",
    "    Parameters:\n",
    "        text: 一个字符串，代表输入文本\n",
    "\n",
    "    Returns:\n",
    "        word_freq_dict: 统计了主要词出现次数的词频字典\n",
    "    \"\"\"\n",
    "    useless_str = '''一！“”，。？、；’\"',.、·《》()#\\t：\\n'''\n",
    "    word_freq_dict = {}\n",
    "    text = re.sub(r'[{}]+'.format(useless_str), '', text)\n",
    "    word_list = jieba.lcut(text)\n",
    "    # TODO：下面统计长度大于等于2的词的频率即可\n",
    "    return word_freq_dict\n",
    "\n",
    "\n",
    "def get_word_frequency_dict(result_list):\n",
    "    \"\"\"\n",
    "    函数说明：给定一个数据列表（可以是全部或切片），统计其中所有“正文内容”字段汇总后的词频分布\n",
    "            相当于对get_word_freq_dict_from_text()函数的封装\n",
    "\n",
    "    Parameters:\n",
    "        result_list: 爬取并解析后的网页内容数据\n",
    "\n",
    "    Returns:\n",
    "        word_frequency_dict: 统计了主要词出现次数的词频字典\n",
    "    \"\"\"\n",
    "    word_frequency_dict = {}\n",
    "    for data in result_list:\n",
    "        current_freq_dict = get_word_freq_dict_from_text(data[\"正文内容\"])\n",
    "        word_frequency_dict = merge_dict(word_frequency_dict, current_freq_dict)\n",
    "    return word_frequency_dict\n",
    "\n",
    "\n",
    "# (选做部分)\n",
    "def generate_word_cloud(result_list):\n",
    "    \"\"\"\n",
    "    函数说明：根据过滤不常用词后的词频统计字典，调用wordcloud包生成词云图\n",
    "\n",
    "    Parameters:\n",
    "        dict_list: 词频字典\n",
    "\n",
    "    Returns:\n",
    "        无\n",
    "    \"\"\"\n",
    "    word_frequency_dict = get_word_frequency_dict(result_list)\n",
    "    x,y = np.ogrid[:600,:600]\n",
    "    mask = (x-300) ** 2 + (y-300) ** 2 > 290 ** 2\n",
    "    mask = 255 * mask.astype(int)\n",
    "    word_cloud = WordCloud(background_color=\"white\", mask=mask).generate_from_frequencies(word_frequency_dict)\n",
    "    plt.imshow(word_cloud)\n",
    "    plt.axis(\"off\")\n",
    "    plt.show()\n",
    "    word_cloud.to_file(\"wordcloud.png\")\n",
    "\n",
    "def work_optional():\n",
    "    \"\"\"\n",
    "    函数说明：\n",
    "        执行 生成词云 流程\n",
    "\n",
    "    Parameters:\n",
    "        无\n",
    "\n",
    "    Returns:\n",
    "        无\n",
    "    \"\"\"\n",
    "    filename = \"./results.xls\"\n",
    "    loaded_data = read_from_excel(filename)\n",
    "    \n",
    "    logging.info(f\"开始统计词频并生成词云分布...\")\n",
    "    generate_word_cloud(loaded_data)\n",
    "    logging.info(f\"词云图生成并保存成功!\")\n",
    "    logging.info(f\"\")\n",
    "    logging.info(f\"选做部分执行完成! Congratulations!\")\n",
    "    return\n",
    "    \n",
    "if __name__ == '__main__':\n",
    "    work_optional()  # 运行进阶要求部分代码"
   ]
  }
 ],
 "metadata": {
  "kernelspec": {
   "display_name": "Python 3 (ipykernel)",
   "language": "python",
   "name": "python3"
  },
  "language_info": {
   "codemirror_mode": {
    "name": "ipython",
    "version": 3
   },
   "file_extension": ".py",
   "mimetype": "text/x-python",
   "name": "python",
   "nbconvert_exporter": "python",
   "pygments_lexer": "ipython3",
   "version": "3.10.6"
  },
  "vscode": {
   "interpreter": {
    "hash": "6891761e72bd517fc75ef79bbfbd44fa55381d267274edf38a396be6b565a3c5"
   }
  }
 },
 "nbformat": 4,
 "nbformat_minor": 2
}
