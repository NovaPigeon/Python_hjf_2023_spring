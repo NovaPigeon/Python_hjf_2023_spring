{
 "cells": [
  {
   "cell_type": "markdown",
   "metadata": {},
   "source": [
    "# Homework 4\n",
    "任课老师：胡俊峰\n",
    "\n",
    "负责助教：苏亚鲁、李浩然\n",
    "\n",
    "注意：仅需要提交.ipynb文件，请**不要**将下发压缩包中的其他文件一并交上。\n",
    "\n",
    "截止日期：3月9日24点"
   ]
  },
  {
   "cell_type": "markdown",
   "metadata": {},
   "source": [
    "## 第零部分 代码理解\n",
    "### 0.1 阅读代码预测结果，分析结果是否如预期"
   ]
  },
  {
   "cell_type": "code",
   "execution_count": 1,
   "metadata": {},
   "outputs": [
    {
     "name": "stdout",
     "output_type": "stream",
     "text": [
      "The entry is a\n",
      "Value Error\n",
      "The entry is 0\n",
      "ZeroDivision Error\n",
      "The entry is 2\n",
      "The reciprocal of 2 is 0.5\n"
     ]
    }
   ],
   "source": [
    "testList = ['a', 0, 2]\n",
    "\n",
    "for entry in testList:\n",
    "    try:\n",
    "        print(\"The entry is\", entry)\n",
    "        r = 1/int(entry)\n",
    "        print(\"The reciprocal of\",entry,\"is\",r)\n",
    "        break\n",
    "    except ValueError:# 'a'\n",
    "        print(\"Value Error\")\n",
    "    except (ZeroDivisionError):# 0\n",
    "        print(\"ZeroDivision Error\")"
   ]
  },
  {
   "cell_type": "code",
   "execution_count": 2,
   "metadata": {},
   "outputs": [
    {
     "name": "stdout",
     "output_type": "stream",
     "text": [
      " Wangchai is eating\n"
     ]
    }
   ],
   "source": [
    "class Dog(object):\n",
    "\n",
    "    def __init__(self,name):\n",
    "        self.name = name\n",
    "\n",
    "    @property\n",
    "    def eat(self):\n",
    "        print(\" %s is eating\" %self.name)\n",
    "        return \n",
    "    # eat=property(eat,setter=None),返回一个变量而非函数，读取变量时，先调用eat()\n",
    "d = Dog(\"Wangchai\")\n",
    "\n",
    "d.eat\n",
    "# d.eat()"
   ]
  },
  {
   "cell_type": "code",
   "execution_count": 3,
   "metadata": {},
   "outputs": [
    {
     "name": "stdout",
     "output_type": "stream",
     "text": [
      "['one', 'two', 'three', 'four', '']\n",
      "['1', '22', '3', '4']\n"
     ]
    }
   ],
   "source": [
    "import re   \n",
    "\n",
    "p = re.compile(r'\\d+')             # 匹配1-n个数字\n",
    "\n",
    "print (p.split('one1two22three3four4'))# re.compile(...).split(str)\n",
    "print (p.findall('one1two22three3four4'))# findall: 找出所有匹配的字符串"
   ]
  },
  {
   "cell_type": "code",
   "execution_count": 4,
   "metadata": {},
   "outputs": [
    {
     "name": "stdout",
     "output_type": "stream",
     "text": [
      "<re.Match object; span=(0, 3), match='one'>\n",
      "<re.Match object; span=(5, 8), match='two'>\n",
      "<re.Match object; span=(11, 16), match='three'>\n",
      "<re.Match object; span=(18, 22), match='four'>\n"
     ]
    }
   ],
   "source": [
    "m = re.finditer(r'([a-z]+)','one1;two32 three3,four4') # 在字符串中找到正则表达式所匹配的所有子串，并作为一个迭代器返回\n",
    "print(next(m))\n",
    "print(next(m))\n",
    "print(next(m))\n",
    "print(next(m))"
   ]
  },
  {
   "cell_type": "code",
   "execution_count": 5,
   "metadata": {
    "scrolled": true
   },
   "outputs": [
    {
     "name": "stdout",
     "output_type": "stream",
     "text": [
      "<re.Match object; span=(0, 4), match='one1'>\n",
      "two32\n",
      "three\n",
      "4\n"
     ]
    }
   ],
   "source": [
    "m = re.finditer(r'([a-z]+)([0-9]+)','one1;two32 three3,four4') \n",
    "print(next(m))# 将每一个匹配到的字符串分组\n",
    "print(next(m).group())  # 整个模式\n",
    "print(next(m).group(1)) # 子模式1\n",
    "print(next(m).group(2)) # 子模式2"
   ]
  },
  {
   "cell_type": "markdown",
   "metadata": {},
   "source": [
    "### 0.2 Python的私有属性和“受保护的”属性\n",
    "Python 不能像 Java 那样使用 private 修饰符创建私有属性，但是Python 有个简单的机制，能避免子类意外覆盖“私有”属性。\\\n",
    "举个例子。有人编写了一个名为 Dog 的类，这个类的内部用到了 mood实例属性，但是没有将其开放。现在，你创建了 Dog 类的子类：Beagle。\\\n",
    "如果你在毫不知情的情况下又创建了名为 mood 的实例属性，那么在继承的方法中就会把 Dog 类的 mood 属性覆盖掉。这是个难以调试的问题。\\\n",
    "为了避免这种情况，如果以 __mood 的形式（两个前导下划线，尾部没有或最多有一个下划线）命名实例属性，Python 会把属性名存入实例的__dict__ 属性中，而且会在前面加上一个下划线和类名。因此，对Dog 类来说，__mood 会变成 _Dog__mood；对 Beagle 类来说，会变成_Beagle__mood。这个语言特性叫名称改写（name mangling）。"
   ]
  },
  {
   "cell_type": "code",
   "execution_count": 6,
   "metadata": {},
   "outputs": [
    {
     "name": "stdout",
     "output_type": "stream",
     "text": [
      "{'_Vector2d__x': 3.0, '_Vector2d__y': 4.0}\n",
      "3.0\n"
     ]
    }
   ],
   "source": [
    "class Vector2d:\n",
    "    typecode = 'd'\n",
    "    def __init__(self, x, y):\n",
    "        self.__x = float(x)\n",
    "        self.__y = float(y)\n",
    "    @property\n",
    "    def x(self): \n",
    "        return self.__x\n",
    "    @property\n",
    "    def y(self):\n",
    "        return self.__y\n",
    "    def __iter__(self):\n",
    "        return (i for i in (self.x, self.y))\n",
    "\n",
    "if __name__=='__main__':\n",
    "    v1 = Vector2d(3, 4)\n",
    "    print(v1.__dict__)\n",
    "    print(v1._Vector2d__x)"
   ]
  },
  {
   "cell_type": "markdown",
   "metadata": {},
   "source": [
    "不是所有 Python 程序员都喜欢名称改写功能，也不是所有人都喜欢self.__x 这种不对称的名称。有些人不喜欢这种句法，他们约定使用一个下划线前缀编写“受保护”的属性（如 self._x）。批评使用两个下划线这种改写机制的人认为，应该使用命名约定来避免意外覆盖属性。\n",
    "> \"绝对不要使用两个前导下划线，这是很烦人的自私行为。如果担心名称冲突，应该明确使用一种名称改写方式（如_MyThing_blahblah）。这其实与使用双下划线一样，不过自己定的规则比双下划线易于理解。\" —— Ian Bicking\n",
    "\n",
    "Python 解释器不会对使用单个下划线的属性名做特殊处理，不过这是很多 Python 程序员严格遵守的约定，他们不会在类外部访问这种属性。\n",
    "遵守使用一个下划线标记对象的私有属性很容易，就像遵守使用全大写字母编写常量那样容易。\n",
    "> 不过在**模块**中，顶层名称使用一个前导下划线的话，的确会有影响：对 from mymod import * 来说，mymod 中前缀为下划线的名称不会被导入。然而，依旧可以使用 from mymod import _privatefunc 将其导入。"
   ]
  },
  {
   "cell_type": "code",
   "execution_count": 7,
   "metadata": {},
   "outputs": [],
   "source": [
    "\n",
    "#单个下划线修饰的“_”的变量、函数、类在使用from xxx import *时都不会被导入\n",
    "class _Bug(object):  #单个下划线修饰的私有类。\n",
    "    @staticmethod\n",
    "    def showbug():\n",
    "        print(\"showbug\")"
   ]
  },
  {
   "cell_type": "markdown",
   "metadata": {},
   "source": [
    "Python 文档的某些角落把使用一个下划线前缀标记的属性称为“受保护的”属性。 使用 self._x 这种形式保护属性的做法很常见，但是很少有人把这种属性叫作“受保护的”属性。有些人甚至将其称为“私有”属性。\\\n",
    "总之，python并**不能真正实现**私有和不可变，只有通过**双下滑线内在机制**规避子类对父类属性的覆盖，或者通过遵守**单下划线的人为规定**来实现类的分量的“私有”和类的示例的“不可变”。"
   ]
  },
  {
   "cell_type": "markdown",
   "metadata": {},
   "source": [
    "## 第一部分 正则表达式(3分)\n",
    "### 1.1 用正则表达式进行账号、密码、电话、生日判断(2分)\n",
    "具体格式要求如下：\n",
    "<br>账号：由英文字母组成，不限大小写。\n",
    "<br>密码：由英文字母与数字组成且以英文字母开头，最少八位。\n",
    "<br>电话：11位数字，且以1开头。\n",
    "<br>生日：年-月-日(YYYY-MM-DD)。"
   ]
  },
  {
   "cell_type": "code",
   "execution_count": 8,
   "metadata": {},
   "outputs": [],
   "source": [
    "import re\n",
    "account=\"[a-zA-Z]+\"\n",
    "password=\"\\A[a-zA-Z]\\w{7}[\\w]*\"\n",
    "telephone=\"\\A1[0-9]{10}\"\n",
    "birthday=\"[0-9]{4}-(0[1-9])|(1[0-2])-([0-2][0-9])|(30)\"\n",
    "#TODO\n",
    "\n",
    "assert re.match(account,\"PyThoN\")\n",
    "assert re.match(password,\"Python2022\")\n",
    "assert re.match(telephone,\"12345678910\")\n",
    "assert re.match(birthday,\"2022-03-14\")"
   ]
  },
  {
   "cell_type": "markdown",
   "metadata": {},
   "source": [
    "### 1.2 邮箱的正则表达式匹配(1分)\n",
    "要求：邮箱中间须有@，@之前由英文字母、数字、下划线(_)、短横(-)组成，之后由英文字母、数字、下划线(_)、短横(-)、英文句号(.)组成，且必须有至少一个英文句号(.)。"
   ]
  },
  {
   "cell_type": "code",
   "execution_count": 9,
   "metadata": {},
   "outputs": [],
   "source": [
    "import re\n",
    "\n",
    "email=\"[\\w_-]+@[\\w_-]+(\\.[\\w_-]+)+\"\n",
    "\n",
    "assert re.match(email,\"2-102@pku.edu.cn\")"
   ]
  },
  {
   "cell_type": "markdown",
   "metadata": {},
   "source": [
    "## 第二部分：发布-订阅模式实现（5分）"
   ]
  },
  {
   "cell_type": "markdown",
   "metadata": {},
   "source": [
    "### 2.1 读取并解析tang300.xml文件，打印前2首诗的内容（即前12行）。编写函数各保存20首李白、杜甫、白居易、王維（維是繁体）的诗，要求为每首诗歌生成独立的数据对象，包括标题、作者、诗内容（按行）的元组（tuple）。(1.5分)\n",
    "关于xml解析的相关代码，可以参看https://www.runoob.com/python/python-xml.html"
   ]
  },
  {
   "cell_type": "code",
   "execution_count": 10,
   "metadata": {},
   "outputs": [
    {
     "name": "stdout",
     "output_type": "stream",
     "text": [
      "前两首诗内容：\n",
      "餞唐永昌( 一作餞唐郎中洛陽令)\n",
      "沈佺期\n",
      "洛陽舊有( 一作出) 神明宰\n",
      "輦轂由來天地中\n",
      "餘邑政成何足貴\n",
      "因君取則四方同\n",
      "邙山\n",
      "沈佺期\n",
      "北邙山上列墳塋\n",
      "萬古千秋對洛城\n",
      "城中日夕歌鐘起\n",
      "山上唯聞松柏聲\n",
      "('李白', '送朱大入秦', ['峴首風湍急', '雲帆若鳥飛', '憑軒試一問', '張翰欲來歸']) \n",
      "\n",
      "20\n"
     ]
    }
   ],
   "source": [
    "'''\n",
    "可使用xml.dom.minidom来解析xml文件\n",
    "'''\n",
    "import xml.dom.minidom\n",
    "domTree = xml.dom.minidom.parse(\"tang300.xml\")\n",
    "collection=domTree.documentElement\n",
    "lines=collection.getElementsByTagName(\"作业用唐诗\")\n",
    "# 打印前12行内容\n",
    "def getText(ele,name):\n",
    "    return ele.getElementsByTagName(name)[0].childNodes[0].data\n",
    "# print(lines[0].getElementsByTagName('contance')[0].childNodes[0].data)\n",
    "# print(getText(lines[0],'contance'))\n",
    "print(\"前两首诗内容：\")\n",
    "cnt=0\n",
    "for line in lines:\n",
    "    if getText(line,'line_number')=='-100':\n",
    "        cnt+=1\n",
    "    if cnt==3:\n",
    "        break\n",
    "    if int(getText(line,'line_number'))<0:\n",
    "        print(getText(line,'contance')[2:])\n",
    "    else:\n",
    "        print(getText(line,'contance'))\n",
    "'''\n",
    "class Poem(object):\n",
    "    def __init__(self,author_,name_,content_):\n",
    "        self.author=author_\n",
    "        self.name=name_\n",
    "        self.content=tuple(content_)\n",
    "    def __str__(self):\n",
    "        poem_str=f\"题目：{self.name}\\n作者：{self.author}\\n\"\n",
    "        for sentence in self.content:\n",
    "            poem_str+=sentence+'\\n'\n",
    "        return poem_str\n",
    "'''\n",
    "\n",
    "# get_poems()函数保存20首李白、杜甫、白居易、王維（維是繁体）的诗\n",
    "\n",
    "def get_poems():\n",
    "    #TODO\n",
    "    poems_libai=[]\n",
    "    poems_dufu=[]\n",
    "    poems_baijuyi=[]\n",
    "    poems_wangwei=[]\n",
    "    cnt_libai,cnt_dufu,cnt_baijuyi,cnt_wangwei=0,0,0,0\n",
    "    author=''\n",
    "    content=[]\n",
    "    name=''\n",
    "    for line in lines:\n",
    "        if getText(line,'line_number')=='-100':\n",
    "            name=getText(line,'contance')[2:]\n",
    "            if author=='李白' and cnt_libai<20:\n",
    "                cnt_libai+=1\n",
    "                poems_libai.append((author,name,content))\n",
    "            if author=='杜甫' and cnt_dufu<20:\n",
    "                cnt_dufu+=1\n",
    "                poems_dufu.append((author,name,content))\n",
    "            if author=='白居易' and cnt_baijuyi<20:\n",
    "                cnt_baijuyi+=1\n",
    "                poems_baijuyi.append((author,name,content))\n",
    "            if author=='王維' and cnt_wangwei<20:\n",
    "                cnt_wangwei+=1\n",
    "                poems_wangwei.append((author,name,content))\n",
    "            if cnt_baijuyi==20 and cnt_wangwei==20 and cnt_dufu==20 and cnt_libai==20:\n",
    "                return {\"李白\":poems_libai,\"杜甫\":poems_dufu,\"白居易\":poems_baijuyi,\"王維\":poems_wangwei}\n",
    "            author=''\n",
    "            content=[]\n",
    "        elif getText(line,'line_number')=='-1':\n",
    "            author=getText(line,'contance')[2:]\n",
    "        else:\n",
    "            sentence=getText(line,'contance')\n",
    "            content.append(sentence)\n",
    "\n",
    "# 测试           \n",
    "poems_dic=get_poems()\n",
    "print(poems_dic[\"李白\"][0],'\\n')\n",
    "print(len(poems_dic[\"李白\"]))\n",
    "\n",
    "\n"
   ]
  },
  {
   "cell_type": "markdown",
   "metadata": {},
   "source": [
    "### 2.2 实现设计模式中的观察者模式，本部分将以2.1中提取的诗歌信息作为主题。(3.5分)\n",
    "\n",
    "观察者模式也被称为发布-订阅（Publish/Subscribe）模式。当主题对象状态变化时，会通知所有观察者对象并作出相应处理逻辑。\n",
    "\n",
    "在本问题中，可以形象地理解成，Publisher为诗歌发布中心，Reader为订阅相应诗人的诗歌的人。需要实现订阅，退订，Publisher可以发布新增、删除诗歌的消息以及当前各位诗人的诗歌的总数。当Publisher发布消息时，它需要把需要推送给所有订阅的Reader。\n",
    "\n",
    "\n",
    "**Publisher（发布者）**\n",
    "\n",
    "    - 保存订阅的读者\n",
    "    - 记录四位诗人各自诗歌的总数\n",
    "    - 发布四位诗人新诗的消息，每次只需要发布一首\n",
    "    - 发布新消息时，发布给所有已订阅的读者   \n",
    "   只有一位发布者Publisher\n",
    "   \n",
    "**Reader（订阅者）**\n",
    "\n",
    "    - 订阅/取消订阅 发布者（注意同一个发布者不要重复订阅）\n",
    "    - 保存发布者发来的诗歌\n",
    "关于保存消息，读者分为**两种类型**：\n",
    "- Type1：保存所有消息，这意味着这类读者需要将四位诗人的诗歌分类。\n",
    "- Type2：只保存最新的消息（也就是说只需要保存一首诗）。 \n",
    "\n",
    "要求实例化三个Reader: Alice, Bob, Carol，其中Alice为Type1，Bob&Carol为Type2.\n",
    "\n",
    "要求Reader实现printStatistics方法来打印保存的诗歌。\n",
    "\n",
    "要求实现Publisher的__str__方法，输出自己现有的Reader和发出的诗歌数目。\n",
    "\n",
    "下面给出的代码作为参考，可以不按照下面的参考实现。\n",
    "\n",
    "#### 参考资料\n",
    "\n",
    "[1. Observer pattern Wiki](https://en.wikipedia.org/wiki/Observer_pattern)   \n",
    "[2. 设计模式之观察者模式（c++）](https://www.cnblogs.com/carsonzhu/p/5770253.html)"
   ]
  },
  {
   "cell_type": "markdown",
   "metadata": {},
   "source": [
    "### 请完成上述Publisher & Reader的代码"
   ]
  },
  {
   "cell_type": "code",
   "execution_count": 11,
   "metadata": {},
   "outputs": [],
   "source": [
    "class BasePublisher(object):\n",
    "    def __init__(self,name):\n",
    "        self.readers=[]\n",
    "        self.sentcnt=0\n",
    "    def subscribeReader(self, reader):\n",
    "        self.readers.append(reader)\n",
    "\n",
    "    def unsubscribeReader(self, reader):\n",
    "        self.readers.remove(reader)\n",
    "\n",
    "    def notifyReader(self,author,poem):\n",
    "        self.sentcnt+=1\n",
    "        for reader in self.readers:\n",
    "            reader.receivePoem(self,poem,author)\n",
    "    \n",
    "    def __str__(self):\n",
    "        info='Readers:\\n'\n",
    "        for reader in self.readers:\n",
    "            info+=reader.name+'\\n'\n",
    "        info+=str(self.sentcnt)+' Poems have been published\\n'\n",
    "        return info\n",
    "\n",
    "\n",
    "class _Publisher(BasePublisher):\n",
    "    def __init__(self,name):\n",
    "        self.name=name\n",
    "        super().__init__(self)\n",
    "        self.poems=get_poems()\n",
    "    def notifyReader(self,author,poem):\n",
    "        super().notifyReader(author,poem)"
   ]
  },
  {
   "cell_type": "code",
   "execution_count": 12,
   "metadata": {},
   "outputs": [],
   "source": [
    "import threading\n",
    "class BaseReader(object):\n",
    "\n",
    "    def __init__(self):\n",
    "        self.publishers=[]\n",
    "    def subscribeToPublisher(self, publisher):\n",
    "        if publisher not in self.publishers:\n",
    "            publisher.subscribeReader(self)\n",
    "            self.publishers.append(publisher)\n",
    "    def unsubscribeToPublisher(self, publisher):\n",
    "        if publisher in self.publishers:\n",
    "            publisher.unsubscribeReader(self)\n",
    "            self.publishers.remove(publisher)\n",
    "    def __str__(self):\n",
    "        info=\"Publishers:\\n\"\n",
    "        for publisher in self.publishers:\n",
    "            info+=publisher.name+'\\n'\n",
    "        return info\n",
    "    def receivePoem(self, publisher, poem , author):\n",
    "        print('thread id :{}'.format(threading.current_thread().name)) #如果3.2你使用多线程的话请保留此句，\n",
    "                                                                       #如果使用多进程的话请类似地输出进程id\n",
    "    def printStatistics(self):\n",
    "        pass"
   ]
  },
  {
   "cell_type": "code",
   "execution_count": 13,
   "metadata": {},
   "outputs": [],
   "source": [
    "class ReaderType1(BaseReader):\n",
    "\n",
    "    def __init__(self, _name):\n",
    "        super().__init__()\n",
    "        self.name=_name\n",
    "        self.save_poems={'李白':[],'杜甫':[],'白居易':[],'王維':[]}\n",
    "    def receivePoem(self, publisher, poem, author):\n",
    "        super().receivePoem(publisher,poem,author)\n",
    "        self.save_poems[author].append(poem)\n",
    "    def printStatistics(self):\n",
    "        print(f\"{self.name} : \\n\")\n",
    "        for key in self.save_poems:\n",
    "            print(key,\": 共计\",len(self.save_poems[key]),\"首\")\n",
    "            for poem in self.save_poems[key]:\n",
    "                print(\"\\t\",poem[1])\n",
    "                for setence in poem[2]:\n",
    "                    print('\\t',setence)\n",
    "                print(\"\\n\")\n",
    "        \n",
    "\n",
    "# 第二种读者\n",
    "class ReaderType2(BaseReader):\n",
    "\n",
    "    def __init__(self, _name):\n",
    "        super().__init__()\n",
    "        self.name=_name\n",
    "        self.save_poem=()\n",
    "\n",
    "    def receivePoem(self, publisher, poem , author):\n",
    "        super().receivePoem(publisher,poem, author)\n",
    "        self.save_poem=poem\n",
    "\n",
    "    def printStatistics(self):\n",
    "        print(f\"{self.name} : \\n\")\n",
    "        if self.save_poem!=(): \n",
    "            print(self.save_poem[0])\n",
    "            print(self.save_poem[1])\n",
    "            for setence in self.save_poem[2]:\n",
    "                print(setence)\n",
    "            print(\"\\n\")\n",
    "        else: \n",
    "            print(\"No poem has been received.\\n\")\n",
    "        "
   ]
  },
  {
   "cell_type": "code",
   "execution_count": 14,
   "metadata": {},
   "outputs": [],
   "source": [
    "Publisher = _Publisher(\"Publisher\")\n",
    "Alice=ReaderType1('Alice')\n",
    "Bob=ReaderType2('Bob')\n",
    "Carol=ReaderType2('Carol')"
   ]
  },
  {
   "cell_type": "code",
   "execution_count": 15,
   "metadata": {},
   "outputs": [
    {
     "name": "stdout",
     "output_type": "stream",
     "text": [
      "thread id :MainThread\n",
      "thread id :MainThread\n",
      "thread id :MainThread\n",
      "thread id :MainThread\n",
      "thread id :MainThread\n",
      "thread id :MainThread\n"
     ]
    }
   ],
   "source": [
    "Alice.subscribeToPublisher(Publisher)\n",
    "Bob.subscribeToPublisher(Publisher)\n",
    "## 请在这里利用Publisher任意发出几首诗来测试你的代码\n",
    "Publisher.notifyReader(\"李白\",Publisher.poems['李白'][0])\n",
    "Publisher.notifyReader(\"杜甫\",Publisher.poems['杜甫'][1])\n",
    "Publisher.notifyReader(\"白居易\",Publisher.poems['白居易'][3])"
   ]
  },
  {
   "cell_type": "code",
   "execution_count": 16,
   "metadata": {},
   "outputs": [
    {
     "name": "stdout",
     "output_type": "stream",
     "text": [
      "Alice : \n",
      "\n",
      "李白 : 共计 1 首\n",
      "\t 送朱大入秦\n",
      "\t 峴首風湍急\n",
      "\t 雲帆若鳥飛\n",
      "\t 憑軒試一問\n",
      "\t 張翰欲來歸\n",
      "\n",
      "\n",
      "杜甫 : 共计 1 首\n",
      "\t 李司馬橋了( 一作成) 承( 一本無承字) 高使君自成都回\n",
      "\t 百年已過半\n",
      "\t 秋至轉饑寒\n",
      "\t 為問彭州牧\n",
      "\t 何時救急難\n",
      "\n",
      "\n",
      "白居易 : 共计 1 首\n",
      "\t 友人夜訪\n",
      "\t 南窗輩燈坐\n",
      "\t 風霰暗紛紛\n",
      "\t 寂寞深村夜\n",
      "\t 殘雁雪中聞\n",
      "\n",
      "\n",
      "王維 : 共计 0 首\n",
      "Bob : \n",
      "\n",
      "白居易\n",
      "友人夜訪\n",
      "南窗輩燈坐\n",
      "風霰暗紛紛\n",
      "寂寞深村夜\n",
      "殘雁雪中聞\n",
      "\n",
      "\n",
      "Carol : \n",
      "\n",
      "No poem has been received.\n",
      "\n",
      "Readers:\n",
      "Alice\n",
      "Bob\n",
      "3 Poems have been published\n",
      "\n"
     ]
    }
   ],
   "source": [
    "Alice.printStatistics()\n",
    "Bob.printStatistics()\n",
    "Carol.printStatistics()\n",
    "print(Publisher)"
   ]
  },
  {
   "cell_type": "code",
   "execution_count": 17,
   "metadata": {},
   "outputs": [
    {
     "name": "stdout",
     "output_type": "stream",
     "text": [
      "thread id :MainThread\n",
      "thread id :MainThread\n",
      "thread id :MainThread\n",
      "thread id :MainThread\n",
      "thread id :MainThread\n",
      "thread id :MainThread\n"
     ]
    }
   ],
   "source": [
    "\n",
    "Carol.subscribeToPublisher(Publisher)\n",
    "Bob.unsubscribeToPublisher(Publisher)\n",
    "##再任意发出几首诗进行测试\n",
    "Publisher.notifyReader(\"李白\",Publisher.poems['李白'][3])\n",
    "Publisher.notifyReader(\"杜甫\",Publisher.poems['杜甫'][9])\n",
    "Publisher.notifyReader(\"白居易\",Publisher.poems['白居易'][19])"
   ]
  },
  {
   "cell_type": "code",
   "execution_count": 18,
   "metadata": {},
   "outputs": [
    {
     "name": "stdout",
     "output_type": "stream",
     "text": [
      "Alice : \n",
      "\n",
      "李白 : 共计 2 首\n",
      "\t 送朱大入秦\n",
      "\t 峴首風湍急\n",
      "\t 雲帆若鳥飛\n",
      "\t 憑軒試一問\n",
      "\t 張翰欲來歸\n",
      "\n",
      "\n",
      "\t 洛陽陌\n",
      "\t 玉階生白露\n",
      "\t 夜久侵羅襪\n",
      "\t 卻下水晶簾\n",
      "\t 玲瓏望秋月\n",
      "\n",
      "\n",
      "杜甫 : 共计 2 首\n",
      "\t 李司馬橋了( 一作成) 承( 一本無承字) 高使君自成都回\n",
      "\t 百年已過半\n",
      "\t 秋至轉饑寒\n",
      "\t 為問彭州牧\n",
      "\t 何時救急難\n",
      "\n",
      "\n",
      "\t 重贈鄭鏈\n",
      "\t 大邑燒瓷輕且堅\n",
      "\t 扣如哀( 一作寒) 玉錦城傳\n",
      "\t 君家白碗勝霜雪\n",
      "\t 急送茅齋也可憐\n",
      "\n",
      "\n",
      "白居易 : 共计 2 首\n",
      "\t 友人夜訪\n",
      "\t 南窗輩燈坐\n",
      "\t 風霰暗紛紛\n",
      "\t 寂寞深村夜\n",
      "\t 殘雁雪中聞\n",
      "\n",
      "\n",
      "\t 秋雨中贈元九\n",
      "\t 帝子吹簫逐鳳皇\n",
      "\t 空留仙洞號華陽\n",
      "\t 落花何處堪惆悵\n",
      "\t 頭白宮人掃影堂\n",
      "\n",
      "\n",
      "王維 : 共计 0 首\n",
      "Bob : \n",
      "\n",
      "白居易\n",
      "友人夜訪\n",
      "南窗輩燈坐\n",
      "風霰暗紛紛\n",
      "寂寞深村夜\n",
      "殘雁雪中聞\n",
      "\n",
      "\n",
      "Carol : \n",
      "\n",
      "白居易\n",
      "秋雨中贈元九\n",
      "帝子吹簫逐鳳皇\n",
      "空留仙洞號華陽\n",
      "落花何處堪惆悵\n",
      "頭白宮人掃影堂\n",
      "\n",
      "\n",
      "Readers:\n",
      "Alice\n",
      "Carol\n",
      "6 Poems have been published\n",
      "\n"
     ]
    }
   ],
   "source": [
    "Alice.printStatistics()\n",
    "Bob.printStatistics()\n",
    "Carol.printStatistics()\n",
    "print(Publisher)"
   ]
  },
  {
   "cell_type": "markdown",
   "metadata": {},
   "source": [
    "## 第三部分：文本处理（2分）\n",
    "文件results.xls是从ChinaDaily娱乐板块的若干子页面上爬取并保存到excel中的内容。请同学们从excel文件中读出爬取的内容，调用jieba进行分词，统计词频并生成词云图。"
   ]
  },
  {
   "cell_type": "markdown",
   "metadata": {},
   "source": [
    "### 3.1 读取results.xls文件内容，按照注释中函数说明的要求实现文件读取函数。(2分)"
   ]
  },
  {
   "cell_type": "code",
   "execution_count": 19,
   "metadata": {},
   "outputs": [],
   "source": [
    "import xlrd\n",
    "\n",
    "# 读取文件\n",
    "def read_from_excel(filename):\n",
    "    \"\"\"\n",
    "    函数说明：将excel文件中的数据读取到list中，相当于write_to_excel()的逆过程\n",
    "    注：读取excel的每行内容后，先把第一行的字段名提取出来，后面再按这些字段构建字典索引\n",
    "\n",
    "    Parameters:\n",
    "        filename: 待读取的excel文件路径\n",
    "\n",
    "    Returns:\n",
    "        result_list: 一个包含网页数据对象的list\n",
    "    \"\"\"\n",
    "    # TODO\n",
    "    result_list=[]\n",
    "    data=xlrd.open_workbook(filename)\n",
    "    table=data.sheet_by_index(0)\n",
    "    nrows=table.nrows\n",
    "    # print(nrows)\n",
    "    head_info=table.row_values(0)\n",
    "    # print(head_info,'\\n')\n",
    "    for i in range(1,nrows):\n",
    "        row_info=table.row_values(i)\n",
    "        row_dic={}\n",
    "        for j in range(0,len(row_info)):\n",
    "            row_dic[head_info[j]]=row_info[j]\n",
    "        result_list.append(row_dic)\n",
    "    return result_list\n",
    "\n",
    "\n",
    "\n",
    "# 测试\n",
    "if __name__ =='__main__':\n",
    "    filename = \"./results.xls\"\n",
    "    loaded_data = read_from_excel(filename)\n",
    "    # print(loaded_data[0])\n",
    "    assert loaded_data[0]['标题'] == '《明星大侦探4》白敬亭自称“不加糖也很甜”\\n'\n",
    "    assert loaded_data[1]['来源'] == '环球网综合'\n"
   ]
  },
  {
   "cell_type": "markdown",
   "metadata": {},
   "source": [
    "### 3.2 根据3.1中读取的数据，过滤特殊符号并统计数据中的高频词，最终生成词云图（选做+2分）"
   ]
  },
  {
   "cell_type": "code",
   "execution_count": 20,
   "metadata": {},
   "outputs": [
    {
     "name": "stderr",
     "output_type": "stream",
     "text": [
      "2023-03-09 23:02:52,180 - 1147805235.py[line:130] - INFO: 开始统计词频并生成词云分布...\n",
      "Building prefix dict from the default dictionary ...\n",
      "2023-03-09 23:02:52,180 - __init__.py[line:113] - DEBUG: Building prefix dict from the default dictionary ...\n",
      "Loading model from cache /var/folders/yy/dhpnrkdj07j_mvzvjnh9lvdr0000gn/T/jieba.cache\n",
      "2023-03-09 23:02:52,181 - __init__.py[line:132] - DEBUG: Loading model from cache /var/folders/yy/dhpnrkdj07j_mvzvjnh9lvdr0000gn/T/jieba.cache\n",
      "Loading model cost 0.334 seconds.\n",
      "2023-03-09 23:02:52,514 - __init__.py[line:164] - DEBUG: Loading model cost 0.334 seconds.\n",
      "Prefix dict has been built successfully.\n",
      "2023-03-09 23:02:52,515 - __init__.py[line:166] - DEBUG: Prefix dict has been built successfully.\n",
      "2023-03-09 23:02:54,373 - 1147805235.py[line:132] - INFO: 词云图生成并保存成功!\n",
      "2023-03-09 23:02:54,374 - 1147805235.py[line:133] - INFO: \n",
      "2023-03-09 23:02:54,374 - 1147805235.py[line:134] - INFO: 选做部分执行完成! Congratulations!\n"
     ]
    }
   ],
   "source": [
    "\n",
    "import requests  # 发送网络请求\n",
    "from bs4 import BeautifulSoup  # 解析html\n",
    "from datetime import datetime  # 格式化显示时间\n",
    "from tqdm import tqdm  # 可视化显示进度条\n",
    "import xlrd  # 读取excel\n",
    "import xlwt  # 写入excel\n",
    "import os  # 显示文件路径\n",
    "\n",
    "import jieba  # 分词\n",
    "import numpy as np  # 用于生成词云时处理图像\n",
    "from PIL import Image, ImageSequence  # 用于生成词云时处理图像\n",
    "import matplotlib.pyplot as plt  # 用于画图\n",
    "from wordcloud import WordCloud, ImageColorGenerator  # 生成词云\n",
    "import pdb  # 用于打断点调试\n",
    "import logging  # 打印日志信息\n",
    "\n",
    "\n",
    "# 设置日志级别\n",
    "logging.basicConfig(level=logging.INFO,\n",
    "format='%(asctime)s - %(filename)s[line:%(lineno)d] - %(levelname)s: %(message)s')\n",
    "\n",
    "\n",
    "\"\"\"\n",
    "    进阶任务目标：从excel文件中读出爬取的内容，调用jieba进行分词，统计词频并生成词云图。\n",
    "    进阶任务目标的执行流程已经被封装到work_optional()函数中。其中调用的部分函数功能需要大家自行实现。\n",
    "\"\"\"\n",
    "\n",
    "def merge_dict(dict1, dict2):\n",
    "    \"\"\"\n",
    "    函数说明：将dict2中的内容合并到dict1中，key不存在则新建，key存在则value相加\n",
    "\n",
    "    Parameters:\n",
    "        dict1: 字典1\n",
    "        dict2: 字典2\n",
    "\n",
    "    Returns:\n",
    "        dict1: 将字典2中的内容合并到字典1中\n",
    "    \"\"\"\n",
    "    for k in dict2:\n",
    "        if k in dict1:\n",
    "            dict1[k] += dict2[k]\n",
    "        else:\n",
    "            dict1[k] = dict2[k]\n",
    "    return dict1\n",
    "\n",
    "\n",
    "# (选做部分)\n",
    "def get_word_freq_dict_from_text(text):\n",
    "    \"\"\"\n",
    "    函数说明：输入一段文本，输出这段文本中长度>=2的词的词频统计字典（去掉了特殊符号，以及长度为1的单个字）\n",
    "\n",
    "    Parameters:\n",
    "        text: 一个字符串，代表输入文本\n",
    "\n",
    "    Returns:\n",
    "        word_freq_dict: 统计了主要词出现次数的词频字典\n",
    "    \"\"\"\n",
    "    useless_str = '''一！“”，。？、；’\"',.、·《》()#\\t：\\n'''\n",
    "    word_freq_dict = {}\n",
    "    # TODO\n",
    "    words=jieba.lcut(text)\n",
    "    for word in words:\n",
    "        if len(word)==1:\n",
    "            continue\n",
    "        word_freq_dict[word]=word_freq_dict.get(word,0)+1\n",
    "    for word in useless_str:\n",
    "        if word in word_freq_dict:\n",
    "            del word_freq_dict[word]\n",
    "    \n",
    "    return word_freq_dict\n",
    "# print(get_word_freq_dict_from_text(\"阳明先生,于500年前开创心学,这是对程朱理学的跨越-对儒家精神的继承和发扬\"))\n",
    "\n",
    "\n",
    "def get_word_frequency_dict(result_list):\n",
    "    \"\"\"\n",
    "    函数说明：给定一个数据列表（可以是全部或切片），统计其中所有“正文内容”字段汇总后的词频分布\n",
    "            相当于对get_word_freq_dict_from_text()函数的封装\n",
    "\n",
    "    Parameters:\n",
    "        result_list: 爬取并解析后的网页内容数据\n",
    "\n",
    "    Returns:\n",
    "        word_frequency_dict: 统计了主要词出现次数的词频字典\n",
    "    \"\"\"\n",
    "    word_frequency_dict = {}\n",
    "    for data in result_list:\n",
    "        current_freq_dict = get_word_freq_dict_from_text(data[\"正文内容\"])\n",
    "        word_frequency_dict = merge_dict(word_frequency_dict, current_freq_dict)\n",
    "    return word_frequency_dict\n",
    "\n",
    "\n",
    "# (选做部分)\n",
    "def generate_word_cloud(result_list):\n",
    "    \"\"\"\n",
    "    函数说明：根据过滤不常用词后的词频统计字典，调用wordcloud包生成词云图\n",
    "\n",
    "    Parameters:\n",
    "        dict_list: 词频字典\n",
    "\n",
    "    Returns:\n",
    "        无\n",
    "    \"\"\"\n",
    "    # TODO\n",
    "    savename='t'\n",
    "    word_frequency_dict=get_word_frequency_dict(result_list)\n",
    "    result = WordCloud(\n",
    "                   font_path=\"/Users/shouchenchen/Library/Fonts/SourceHanSansSC-Normal.otf\",\n",
    "                   background_color='red', # 背景颜色\n",
    "                   max_font_size=300,\n",
    "                   min_font_size=5,\n",
    "                   random_state=42,\n",
    "                   width=1000,\n",
    "                   height=600,).generate_from_frequencies(word_frequency_dict)#创建词云\n",
    "    result.to_file('%s.png'%savename)  #将词云保存为图片\n",
    "\n",
    "def work_optional():\n",
    "    \"\"\"\n",
    "    函数说明：\n",
    "        执行 生成词云 流程\n",
    "\n",
    "    Parameters:\n",
    "        无\n",
    "\n",
    "    Returns:\n",
    "        无\n",
    "    \"\"\"\n",
    "    filename = \"./results.xls\"\n",
    "    loaded_data = read_from_excel(filename)\n",
    "    \n",
    "    logging.info(f\"开始统计词频并生成词云分布...\")\n",
    "    generate_word_cloud(loaded_data)\n",
    "    logging.info(f\"词云图生成并保存成功!\")\n",
    "    logging.info(f\"\")\n",
    "    logging.info(f\"选做部分执行完成! Congratulations!\")\n",
    "    return\n",
    "    \n",
    "if __name__ == '__main__':\n",
    "    work_optional()  # 运行进阶要求部分代码"
   ]
  },
  {
   "cell_type": "code",
   "execution_count": null,
   "metadata": {},
   "outputs": [],
   "source": [
    "from IPython.display import Image\n",
    "Image(filename=\"./t.png\")"
   ]
  }
 ],
 "metadata": {
  "kernelspec": {
   "display_name": "Python 3.9.15 ('base')",
   "language": "python",
   "name": "python3"
  },
  "language_info": {
   "codemirror_mode": {
    "name": "ipython",
    "version": 3
   },
   "file_extension": ".py",
   "mimetype": "text/x-python",
   "name": "python",
   "nbconvert_exporter": "python",
   "pygments_lexer": "ipython3",
   "version": "3.9.15"
  },
  "vscode": {
   "interpreter": {
    "hash": "e3088de3960acd46056fbdd3913a22297cbcceb7274202512f4b511f7eda05a2"
   }
  }
 },
 "nbformat": 4,
 "nbformat_minor": 2
}
