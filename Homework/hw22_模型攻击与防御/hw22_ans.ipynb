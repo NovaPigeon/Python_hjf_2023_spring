{
 "cells": [
  {
   "cell_type": "markdown",
   "metadata": {},
   "source": [
    "# 第二十二次作业 模型攻击与防御\n",
    "\n",
    "指导教师：胡俊峰\n",
    "\n",
    "负责助教：陈滨琪、杨礼铭\n",
    "\n",
    "注意：仅需要提交.ipynb文件。\n",
    "\n",
    "截止日期：6月7日24点"
   ]
  },
  {
   "attachments": {},
   "cell_type": "markdown",
   "metadata": {},
   "source": [
    "# 第零题：Transformer\n",
    "# Transformer工作原理演示\n",
    "\n",
    "本notebook演示了Transformer模型的工作原理。Transformer模型是由Vaswani等人在\"Attention is All You Need\"一文中提出的，用于处理序列到序列（seq2seq）任务，如机器翻译。\n",
    "\n",
    "这个模型主要有两个组成部分：Encoder和Decoder，每个部分都由多层的self-attention和feed forward neural network组成。\n",
    "\n",
    "我们将创建一个简化的Transformer模型，并使用一个固定的句子和词汇表，通过可视化attention来演示其工作原理。\n",
    "\n"
   ]
  },
  {
   "cell_type": "code",
   "execution_count": 2,
   "metadata": {},
   "outputs": [],
   "source": [
    "import torch\n",
    "import torch.nn as nn\n",
    "import numpy as np\n",
    "import matplotlib.pyplot as plt\n",
    "import seaborn\n",
    "\n",
    "# 定义一个简化的Transformer模型\n",
    "class Transformer(nn.Module):\n",
    "    def __init__(self, k, heads):\n",
    "        super().__init__()\n",
    "\n",
    "        self.attention = nn.MultiheadAttention(embed_dim=k, num_heads=heads)\n",
    "\n",
    "    def forward(self, x, mask=None):\n",
    "        x = x.permute(1, 0, 2) # (batch_size, seq_len, embedding_dim) -> (seq_len, batch_size, embedding_dim)\n",
    "        attn_output, attn_output_weights = self.attention(x, x, x, attn_mask=mask)\n",
    "        return attn_output.permute(1, 0, 2), attn_output_weights\n",
    "\n",
    "# 创建一个简化版的位置编码函数\n",
    "def position_encoding(seq_len, d_model):\n",
    "    PE = torch.zeros((1, seq_len, d_model))\n",
    "    for pos in range(seq_len):\n",
    "        for i in range(d_model):\n",
    "            PE[:,pos,i] = pos / np.power(10000, (2 * (i // 2)) / np.float32(d_model))\n",
    "    return PE\n"
   ]
  },
  {
   "attachments": {},
   "cell_type": "markdown",
   "metadata": {},
   "source": [
    "# 创建一个固定的句子和词汇表\n",
    "\n",
    "我们将使用一个固定的句子：\"The cat sat on the mat\"。然后我们创建一个词汇表并将句子编码为一个整数序列。然后我们使用一个词嵌入层将这些整数转化为嵌入向量。最后，我们添加位置编码并将结果输入到我们的Transformer模型中。\n"
   ]
  },
  {
   "cell_type": "code",
   "execution_count": 3,
   "metadata": {},
   "outputs": [],
   "source": [
    "# 创建一个有限的词汇表和一个固定的句子\n",
    "vocab = [\"<PAD>\", \"<UNK>\", \"the\", \"cat\", \"sat\", \"on\", \"mat\"]\n",
    "sentence = \"the cat sat on the mat\"\n",
    "inputs = [vocab.index(word) if word in vocab else vocab.index(\"<UNK>\") for word in sentence.split()]\n",
    "\n",
    "# 对输入进行编码\n",
    "inputs = torch.tensor(inputs).unsqueeze(0)  # 增加batch维度\n",
    "word_embedding = nn.Embedding(len(vocab), 512)\n",
    "inputs = word_embedding(inputs)\n",
    "inputs += position_encoding(inputs.shape[1], 512)\n",
    "\n",
    "# 创建并运行模型\n",
    "model = Transformer(k=512, heads=8)\n",
    "outputs, attention = model(inputs)\n"
   ]
  },
  {
   "attachments": {},
   "cell_type": "markdown",
   "metadata": {},
   "source": [
    "# 可视化Attention\n",
    "\n",
    "现在我们将注意力权重可视化。在下面的热力图中，行代表输入的每个单词，列代表这个单词对其他单词的注意力权重。\n"
   ]
  },
  {
   "cell_type": "code",
   "execution_count": 4,
   "metadata": {},
   "outputs": [
    {
     "data": {
      "image/png": "[encoded data removed]",
      "text/plain": [
       "<Figure size 1000x1000 with 2 Axes>"
      ]
     },
     "metadata": {},
     "output_type": "display_data"
    }
   ],
   "source": [
    "# 画出注意力权重的热图\n",
    "plt.figure(figsize=(10,10))\n",
    "seaborn.heatmap(attention[0].detach().numpy(), cmap=\"YlGnBu\", xticklabels=sentence.split(), yticklabels=sentence.split())\n",
    "plt.show()\n"
   ]
  },
  {
   "attachments": {},
   "cell_type": "markdown",
   "metadata": {},
   "source": [
    "## 概述\n",
    "本次作业主要内容为：在CIFAR10图像分类数据集上训练卷积神经网络，使用PGD对网络进行对抗攻击。\n",
    "\n",
    "**注:本次作业中若没有GPU环境，将代码中的‘cuda’全部替换为‘cpu’，可以减小训练的epoch**\n",
    "\n",
    "### 对抗攻击\n",
    "神经网络在图片分类任务上取得了很高的准确率，但研究表明它们的鲁棒性往往很差。通过对输入图片进行一个微小的扰动，可以在不影响图片视觉效果的前提下，让神经网络的分类准确率大幅下降。这种对模型进行攻击的方式称为**对抗攻击**，对应的扰动后的图片称为**对抗样本**。\n",
    "\n",
    "根据模型是否可见，对抗攻击可以分为\n",
    "- 白盒攻击（white-box attack）：攻击者知道模型的内部结构与参数，可以对输入数据求梯度来寻找对抗样本。\n",
    "- 黑盒攻击（black-box attack）：攻击者不知道模型的内部结构与参数，仅可以调用模型获取对于给定输入的输出结果。\n",
    "\n",
    "根据是否指定攻击后的分类类别，对抗攻击又可以分为\n",
    "- 指向性攻击（labeled attack）：使模型将扰动后的输入分类为指定的错误类别。\n",
    "- 非指向性攻击（unlabeled attack）：使模型将扰动后的输入分类为任一错误类别。\n",
    "\n",
    "本次作业，我们主要研究白盒非指向性攻击。\n",
    "\n",
    "大多数白盒攻击算法基于模型关于输入的梯度对输入进行扰动。这些算法将对抗攻击转化为求解这样一个优化问题：给定扰动量的限制$\\epsilon$，最大化扰动后的损失函数$\\mathcal{L}(x,y;\\theta)$。例如，Fast Gradient Sign Method (FGSM) 沿着梯度的$l_{\\infty}$范数方向进行一步扰动\n",
    "$$x' = x + \\epsilon \\cdot \\mathrm{sign}(\\nabla_x \\mathcal{L}(x,y;\\theta))$$\n",
    "Projected Gradient Descent (PGD) 可以看作是FGSM的多步迭代版本，其攻击方法为\n",
    "$$x'_{t+1} = \\mathrm{Clip}_{x,\\epsilon}(x'_t + \\alpha \\cdot \\mathrm{sign}(\\nabla_x \\mathcal{L}(x'_t,y;\\theta))$$\n",
    "其中$\\mathrm{Clip}$操作限制扰动的无穷范数不超过$\\epsilon$。"
   ]
  },
  {
   "cell_type": "code",
   "execution_count": 8,
   "metadata": {},
   "outputs": [],
   "source": [
    "# 导入需要的包\n",
    "import numpy as np\n",
    "import random\n",
    "from tqdm import tqdm\n",
    "\n",
    "\n",
    "import torch\n",
    "import torch.nn as nn\n",
    "import torch.nn.functional as F\n",
    "import torch.optim as optim\n",
    "from torch.utils.data import DataLoader\n",
    "from torch.utils.data import Dataset\n",
    "\n",
    "import torchvision\n",
    "import torchvision.transforms as transforms"
   ]
  },
  {
   "attachments": {},
   "cell_type": "markdown",
   "metadata": {},
   "source": [
    "导入CIFAR10数据集"
   ]
  },
  {
   "cell_type": "code",
   "execution_count": 9,
   "metadata": {},
   "outputs": [],
   "source": [
    "class CIFAR10():\n",
    "    NUM_CLASSES = 10\n",
    "    IMAGE_SIZE = [32, 32]\n",
    "    IMAGE_CHANNELS = 3\n",
    "    \n",
    "    def __init__(self):\n",
    "        transform = transforms.Compose([transforms.ToTensor()])\n",
    "        self.load_dataset(transform)\n",
    "    \n",
    "    def load_dataset(self, transform):\n",
    "        self.trainset = torchvision.datasets.CIFAR10(root=\"./data\", transform=transform, download=True)\n",
    "        self.testset = torchvision.datasets.CIFAR10(root=\"./data\", train=False, transform=transform, download=True)"
   ]
  },
  {
   "attachments": {},
   "cell_type": "markdown",
   "metadata": {},
   "source": [
    "## 1.1 实现卷积神经网络(2分)\n",
    "注：实现一个简单的卷积神经网络，有基本的分类能力即可，不要求很高的准确率，本次作业的重点在对抗攻击上。"
   ]
  },
  {
   "cell_type": "code",
   "execution_count": 64,
   "metadata": {},
   "outputs": [],
   "source": [
    "# TODO: 搭建卷积神经网络\n",
    "class ConvNet(nn.Module):\n",
    "    def __init__(self, **kwargs):\n",
    "        super(ConvNet, self).__init__()\n",
    "        self.conv1=nn.Conv2d(3,16,kernel_size=3,padding=1)\n",
    "        self.relu=nn.ReLU()\n",
    "        self.pool=nn.MaxPool2d(kernel_size=2,stride=2)\n",
    "        self.conv2=nn.Conv2d(16,32,kernel_size=3,padding=1)\n",
    "        self.fc1 = nn.Linear(in_features=32*8*8, out_features=128)\n",
    "        self.fc2 = nn.Linear(in_features=128, out_features=10)\n",
    "        \n",
    "    def forward(self, x):\n",
    "        \"\"\"\n",
    "            x: 输入图片\n",
    "        \"\"\"\n",
    "        out=self.conv1(x)\n",
    "        out=self.relu(out)\n",
    "        out=self.pool(out)\n",
    "        out=self.conv2(out)\n",
    "        out = self.relu(out)\n",
    "        out = self.pool(out)\n",
    "        out = out.view(out.size(0), -1)\n",
    "        out = self.fc1(out)\n",
    "        out=self.relu(out)\n",
    "        out=self.fc2(out)\n",
    "        return out\n",
    "        "
   ]
  },
  {
   "attachments": {},
   "cell_type": "markdown",
   "metadata": {},
   "source": [
    "## 1.2 补全训练函数(2分)"
   ]
  },
  {
   "cell_type": "code",
   "execution_count": 65,
   "metadata": {},
   "outputs": [],
   "source": [
    "def train_step(model, train_loader, optimizer, criterion, device='cpu'):\n",
    "    model.train()\n",
    "    train_loss = 0\n",
    "    for (data, label) in tqdm(train_loader):\n",
    "        data, label = data.to(device), label.to(device)\n",
    "        # TODO: 补全train_step函数\n",
    "        optimizer.zero_grad()\n",
    "        output=model(data)\n",
    "        loss=criterion(output,label)\n",
    "        loss.backward()\n",
    "        optimizer.step()\n",
    "        train_loss+=loss.item()\n",
    "        \n",
    "    return train_loss / len(train_loader)\n",
    "\n",
    "def test_step(model, test_loader, criterion, device='cpu'):\n",
    "    model.eval()\n",
    "    test_loss = 0\n",
    "    correct = 0\n",
    "    with torch.no_grad():\n",
    "        for data, label in test_loader:\n",
    "            data, label = data.to(device), label.to(device)\n",
    "            # TODO: 补全test_step函数\n",
    "            output = model(data)\n",
    "            loss = criterion(output, label)\n",
    "            \n",
    "            test_loss += loss.item()\n",
    "            _, predicted = torch.max(output.data, 1)\n",
    "            correct += (predicted == label).sum().item()\n",
    "            \n",
    "    test_loss /= len(test_loader.dataset)\n",
    "    print(\"Test Loss: {}, Accuracy: {}\".format(test_loss, correct / len(test_loader.dataset)))\n",
    "\n",
    "def train(model, train_loader, test_loader, optimizer, criterion, device='cpu', epochs=10):\n",
    "    for epoch in range(epochs):\n",
    "        train_loss = train_step(model, train_loader, optimizer, criterion, device)\n",
    "        print(\"Epoch: {}, Train Loss: {}\".format(epoch+1, train_loss))\n",
    "        test_step(model, test_loader, criterion, device)"
   ]
  },
  {
   "attachments": {},
   "cell_type": "markdown",
   "metadata": {},
   "source": [
    "## 模型训练\n",
    "可以自行调整学习率或者更换optimizer（不要消耗太多时间用来调参）"
   ]
  },
  {
   "cell_type": "code",
   "execution_count": 66,
   "metadata": {},
   "outputs": [
    {
     "name": "stdout",
     "output_type": "stream",
     "text": [
      "Files already downloaded and verified\n",
      "Files already downloaded and verified\n"
     ]
    },
    {
     "name": "stderr",
     "output_type": "stream",
     "text": [
      "100%|██████████| 782/782 [00:17<00:00, 45.02it/s]\n"
     ]
    },
    {
     "name": "stdout",
     "output_type": "stream",
     "text": [
      "Epoch: 1, Train Loss: 1.7954734887003594\n",
      "Test Loss: 0.024705721783638, Accuracy: 0.4376\n"
     ]
    },
    {
     "name": "stderr",
     "output_type": "stream",
     "text": [
      "100%|██████████| 782/782 [00:17<00:00, 45.19it/s]\n"
     ]
    },
    {
     "name": "stdout",
     "output_type": "stream",
     "text": [
      "Epoch: 2, Train Loss: 1.5057959205964033\n",
      "Test Loss: 0.022456039929389954, Accuracy: 0.4871\n"
     ]
    },
    {
     "name": "stderr",
     "output_type": "stream",
     "text": [
      "100%|██████████| 782/782 [00:17<00:00, 45.03it/s]\n"
     ]
    },
    {
     "name": "stdout",
     "output_type": "stream",
     "text": [
      "Epoch: 3, Train Loss: 1.397433113564006\n",
      "Test Loss: 0.021281460809707643, Accuracy: 0.5145\n"
     ]
    },
    {
     "name": "stderr",
     "output_type": "stream",
     "text": [
      "100%|██████████| 782/782 [00:17<00:00, 45.10it/s]\n"
     ]
    },
    {
     "name": "stdout",
     "output_type": "stream",
     "text": [
      "Epoch: 4, Train Loss: 1.3222672669478999\n",
      "Test Loss: 0.020214631354808808, Accuracy: 0.5359\n"
     ]
    },
    {
     "name": "stderr",
     "output_type": "stream",
     "text": [
      "100%|██████████| 782/782 [00:17<00:00, 45.07it/s]\n"
     ]
    },
    {
     "name": "stdout",
     "output_type": "stream",
     "text": [
      "Epoch: 5, Train Loss: 1.2644963780479967\n",
      "Test Loss: 0.019626046228408814, Accuracy: 0.5658\n"
     ]
    }
   ],
   "source": [
    "dataset = CIFAR10()\n",
    "train_dataloader = DataLoader(dataset.trainset, batch_size=64, shuffle=True)\n",
    "test_dataloader = DataLoader(dataset.testset, batch_size=64, shuffle=False)\n",
    "\n",
    "model = ConvNet().to('cpu')\n",
    "lr = 0.0002\n",
    "optimizer = optim.Adam(model.parameters(), lr=lr)\n",
    "criterion = nn.CrossEntropyLoss()\n",
    "train(model, train_dataloader, test_dataloader, optimizer, criterion, device='cpu', epochs=5)"
   ]
  },
  {
   "attachments": {},
   "cell_type": "markdown",
   "metadata": {},
   "source": [
    "## 1.3 PGD对抗攻击(4分)\n",
    "按照介绍中的公式，补全PGD攻击的函数\n",
    "\n",
    "`实在写不出来可以参考`[链接](https://muyuuuu.github.io/2021/04/26/DNN-safe-basic/)"
   ]
  },
  {
   "cell_type": "code",
   "execution_count": 93,
   "metadata": {},
   "outputs": [],
   "source": [
    "class PGD():\n",
    "    \"\"\"The PGD attack class\n",
    "    \"\"\"\n",
    "    def __init__(self, model, eps=8 / 255, alpha=2 / 255, steps=4):\n",
    "        \"\"\"The init function of the PGD attack class\n",
    "\n",
    "        Args:\n",
    "            model (nn.Model): The model.\n",
    "            eps (float, optional): The limit of the disturbance. Defaults to 8/255.\n",
    "            alpha (float, optional): The magnitude of the disturbance. Defaults to 2/255.\n",
    "            steps (int, optional): Number of iterations of the disturbance. Defaults to 4.\n",
    "        \"\"\"\n",
    "        self.model = model\n",
    "        self.eps = eps\n",
    "        self.alpha = alpha\n",
    "        self.steps = steps\n",
    "\n",
    "    def forward(self, images, labels, loss_fn, device='cpu'):\n",
    "        \"\"\"The forward function of the PGD attack class\n",
    "\n",
    "        Args:\n",
    "            images (Tensor): The images.\n",
    "            labels (Tensor): The labels.\n",
    "            loss_fn (nn.function): The loss function.\n",
    "            device (str, optional): The device to use. Defaults to 'cpu'.\n",
    "\n",
    "        Returns:\n",
    "            Tensor: Images that are used as attacks after adding scrambling.\n",
    "        \"\"\"\n",
    "        self.images = images.to(device)\n",
    "        self.labels = labels.to(device)\n",
    "        # TODO: 补全对抗攻击的函数，返回添加扰动后的图片\n",
    "    \n",
    "        original_images = images.clone().detach()\n",
    "\n",
    "        for _ in range(self.steps):\n",
    "            self.images.requires_grad = True\n",
    "\n",
    "            outputs = self.model(self.images)\n",
    "            loss = loss_fn(outputs, self.labels)\n",
    "\n",
    "            self.model.zero_grad()\n",
    "            loss.backward()\n",
    "\n",
    "            with torch.no_grad():\n",
    "                # 图像 + 梯度得到对抗样本\n",
    "                adv_images = self.images + self.alpha*self.images.grad.sign()\n",
    "                # 限制扰动范围\n",
    "                eta = torch.clamp(adv_images - original_images, min=-self.eps, max=self.eps)\n",
    "                # 进行下一轮对抗样本的生成。破坏之前的计算图\n",
    "                self.images = torch.clamp(original_images + eta, min=0, max=1).detach_()\n",
    "\n",
    "\n",
    "        return self.images\n",
    "    "
   ]
  },
  {
   "attachments": {},
   "cell_type": "markdown",
   "metadata": {},
   "source": [
    "## 生成对抗样本\n",
    "使用PGD生成对抗样本，调用Adversarial_example类生成对抗样本，注意指定dataloader，model，loss_fn参数"
   ]
  },
  {
   "cell_type": "code",
   "execution_count": 71,
   "metadata": {},
   "outputs": [],
   "source": [
    "class Adversarial_examples(Dataset):\n",
    "    \"\"\"The Adversarial_examples Dataset.\n",
    "    \"\"\"\n",
    "    def __init__(self, dataloader, model, loss_fn, eps=8 / 255, alpha=2 / 255, steps=4, device='cpu'):\n",
    "        \"\"\"The __init__ function of the Adversarial_examples Dataset.\n",
    "\n",
    "        Args:\n",
    "            test_dataloader (DataLoader): The dataloader of test dataset.\n",
    "            model (nn.Module): The model to attack.\n",
    "            loss_fn (_type_): The loss function.\n",
    "            eps (float, optional): The limit of the disturbance. Defaults to 8/255.\n",
    "            alpha (float, optional): The magnitude of the disturbance. Defaults to 2/255.\n",
    "            steps (int, optional): Number of iterations of the disturbance. Defaults to 4.\n",
    "            device (str, optional): The device to use. Defaults to 'cpu'.\n",
    "        \"\"\"\n",
    "        self.adversarial_data = None\n",
    "        self.lables = None\n",
    "        pgd = PGD(model, eps=eps, alpha=alpha, steps=steps)\n",
    "        for image, lable in tqdm(dataloader):\n",
    "            data = pgd.forward(images=image, labels=lable,\n",
    "                               loss_fn=loss_fn, device=device)\n",
    "            if self.adversarial_data is None:\n",
    "                self.adversarial_data = data.cpu()\n",
    "            else:\n",
    "                self.adversarial_data = torch.concat(\n",
    "                    (self.adversarial_data, data.cpu()), dim=0)\n",
    "            if self.lables is None:\n",
    "                self.lables = lable.cpu()\n",
    "            else:\n",
    "                self.lables = torch.concat((self.lables, lable.cpu()), dim=0)\n",
    "\n",
    "    def __len__(self):\n",
    "        return len(self.adversarial_data)\n",
    "\n",
    "    def __getitem__(self, index):\n",
    "        return self.adversarial_data[index], self.lables[index]"
   ]
  },
  {
   "attachments": {},
   "cell_type": "markdown",
   "metadata": {},
   "source": [
    "使用test_data生成对抗样本，并创建对应的dataloader"
   ]
  },
  {
   "cell_type": "code",
   "execution_count": 95,
   "metadata": {},
   "outputs": [
    {
     "name": "stderr",
     "output_type": "stream",
     "text": [
      "100%|██████████| 157/157 [00:15<00:00,  9.82it/s]\n"
     ]
    }
   ],
   "source": [
    "Adversarial_examples_test_dataset = Adversarial_examples(test_dataloader, model, criterion, device='cpu')\n",
    "Adversarial_examples_test_dataloader = DataLoader(Adversarial_examples_test_dataset, batch_size=64, shuffle=False)"
   ]
  },
  {
   "attachments": {},
   "cell_type": "markdown",
   "metadata": {},
   "source": [
    "查看生成的对抗样本和原始图片，可以看出对抗样本的视觉效果基本没有变化，但是模型的分类结果却发生了改变"
   ]
  },
  {
   "cell_type": "code",
   "execution_count": 96,
   "metadata": {},
   "outputs": [
    {
     "data": {
      "image/png": "[encoded data removed]",
      "text/plain": [
       "<Figure size 3000x1000 with 10 Axes>"
      ]
     },
     "metadata": {},
     "output_type": "display_data"
    }
   ],
   "source": [
    "import matplotlib.pyplot as plt\n",
    "import numpy as np\n",
    "text_labels = ['airplane', 'automobile', 'bird', 'cat', 'deer', 'dog', 'frog', 'horse', 'ship', 'truck']\n",
    "adv_images, adv_labels = next(iter(Adversarial_examples_test_dataloader))\n",
    "pred_labels = model(adv_images.to('cpu')).argmax(dim=1)\n",
    "adv_images = adv_images.numpy()\n",
    "adv_labels = adv_labels.numpy()\n",
    "adv_images = np.transpose(adv_images, (0, 2, 3, 1))\n",
    "adv_labels = np.squeeze(adv_labels)\n",
    "img, labels = next(iter(test_dataloader))\n",
    "img = img.numpy()\n",
    "img = np.clip(img, 0, 1)\n",
    "labels = labels.numpy()\n",
    "img = np.transpose(img, (0, 2, 3, 1))\n",
    "labels = np.squeeze(labels)\n",
    "plt.figure(figsize=(30, 10))\n",
    "for i in range(5):\n",
    "    plt.subplot(2, 5, i+1)\n",
    "    plt.xticks([])\n",
    "    plt.yticks([])\n",
    "    plt.grid(False)\n",
    "    plt.imshow(img[i])\n",
    "    plt.xlabel(text_labels[labels[i]], fontsize=20)\n",
    "for i in range(5):\n",
    "    plt.subplot(2, 5, 5+i+1)\n",
    "    plt.xticks([])\n",
    "    plt.yticks([])\n",
    "    plt.grid(False)\n",
    "    plt.imshow(adv_images[i])\n",
    "    plt.xlabel(text_labels[pred_labels[i]], fontsize=20)\n",
    "plt.show()"
   ]
  },
  {
   "attachments": {},
   "cell_type": "markdown",
   "metadata": {},
   "source": [
    "## 测试\n",
    "使用对抗样本测试模型的准确率，可以看到准确率大幅下降"
   ]
  },
  {
   "cell_type": "code",
   "execution_count": 97,
   "metadata": {},
   "outputs": [
    {
     "name": "stdout",
     "output_type": "stream",
     "text": [
      "Test Loss: 0.019626046228408814, Accuracy: 0.5658\n",
      "Test Loss: 0.057200008654594424, Accuracy: 0.0391\n"
     ]
    }
   ],
   "source": [
    "test_step(model, test_dataloader, criterion, device='cpu')\n",
    "test_step(model, Adversarial_examples_test_dataloader, criterion, device='cpu')"
   ]
  },
  {
   "attachments": {},
   "cell_type": "markdown",
   "metadata": {},
   "source": [
    "## 1.4 计算attack成功率(2分)\n",
    "补全evaluate函数，计算攻击成功率"
   ]
  },
  {
   "cell_type": "code",
   "execution_count": 105,
   "metadata": {},
   "outputs": [
    {
     "name": "stdout",
     "output_type": "stream",
     "text": [
      "Attack Accuracy: 93 %\n"
     ]
    }
   ],
   "source": [
    "# 计算attack成功率\n",
    "def evaluate(model, test_loader, adv_loader, device='cpu'):\n",
    "    model.eval()\n",
    "    correct = 0\n",
    "    attack_success = 0\n",
    "\n",
    "    for (images, labels), (adv_images, adv_labels) in zip(test_loader, adv_loader):\n",
    "        images = images.to(device)\n",
    "        labels = labels.to(device)\n",
    "        adv_images = adv_images.to(device)\n",
    "        adv_labels = adv_labels.to(device)\n",
    "        # TODO: 分别计算预测正确的数量和原来预测正确，攻击后预测错误的数量\n",
    "        outputs=model(images)\n",
    "        _,predicted=torch.max(outputs.data,1)\n",
    "    \n",
    "        correct+=(predicted==labels).sum().item()\n",
    "        adv_outputs=model(adv_images)\n",
    "        _,adv_predicted=torch.max(adv_outputs.data,1)\n",
    "        attack_success+=((predicted==labels) & (adv_predicted!=labels)).sum().item()\n",
    "    \n",
    "\n",
    "    print('Attack Accuracy: %d %%' % (100 * attack_success/ correct))\n",
    "\n",
    "evaluate(model, test_dataloader, Adversarial_examples_test_dataloader, device='cpu')"
   ]
  },
  {
   "attachments": {},
   "cell_type": "markdown",
   "metadata": {},
   "source": [
    "## 1.5 附加题: 防御措施(2分)\n",
    "选择课件上的一种防御措施，或者自己认为有效的防御措施，实现防御措施并测试攻击成功率"
   ]
  },
  {
   "cell_type": "markdown",
   "metadata": {},
   "source": [
    "\n",
    "预训练防御: 通过在对抗攻击之前，将模型预训练在干净的数据上，使其学习到更鲁棒的特征表示，从而提高其对对抗样本的抵抗能力。\n",
    "\n",
    "1. 在干净的训练数据上训练模型，并保存训练好的参数。\n",
    "2. 使用预训练好的参数初始化模型。\n",
    "3. 对测试数据进行PGD对抗攻击，生成对抗样本。\n",
    "4. 使用预训练的模型对干净测试数据和对抗样本进行预测，计算攻击成功率。\n",
    "\n"
   ]
  },
  {
   "cell_type": "code",
   "execution_count": 108,
   "metadata": {},
   "outputs": [
    {
     "name": "stderr",
     "output_type": "stream",
     "text": [
      "100%|██████████| 782/782 [00:18<00:00, 43.21it/s]\n"
     ]
    },
    {
     "name": "stdout",
     "output_type": "stream",
     "text": [
      "Epoch: 1, Train Loss: 1.603653862653181\n",
      "Test Loss: 0.021618104612827302, Accuracy: 0.5013\n"
     ]
    },
    {
     "name": "stderr",
     "output_type": "stream",
     "text": [
      "100%|██████████| 782/782 [00:18<00:00, 43.39it/s]\n"
     ]
    },
    {
     "name": "stdout",
     "output_type": "stream",
     "text": [
      "Epoch: 2, Train Loss: 1.2479544258331094\n",
      "Test Loss: 0.018577970498800278, Accuracy: 0.5806\n"
     ]
    },
    {
     "name": "stderr",
     "output_type": "stream",
     "text": [
      "100%|██████████| 782/782 [00:18<00:00, 43.08it/s]\n"
     ]
    },
    {
     "name": "stdout",
     "output_type": "stream",
     "text": [
      "Epoch: 3, Train Loss: 1.1116113546101942\n",
      "Test Loss: 0.017781432002782822, Accuracy: 0.602\n"
     ]
    },
    {
     "name": "stderr",
     "output_type": "stream",
     "text": [
      "100%|██████████| 782/782 [00:18<00:00, 42.73it/s]\n"
     ]
    },
    {
     "name": "stdout",
     "output_type": "stream",
     "text": [
      "Epoch: 4, Train Loss: 1.020966130449339\n",
      "Test Loss: 0.016220977401733398, Accuracy: 0.6334\n"
     ]
    },
    {
     "name": "stderr",
     "output_type": "stream",
     "text": [
      "100%|██████████| 782/782 [00:17<00:00, 43.96it/s]\n"
     ]
    },
    {
     "name": "stdout",
     "output_type": "stream",
     "text": [
      "Epoch: 5, Train Loss: 0.9510583453775977\n",
      "Test Loss: 0.01568183366060257, Accuracy: 0.6446\n",
      "Attack Accuracy: 48 %\n"
     ]
    }
   ],
   "source": [
    "# TODO:\n",
    "device=\"cpu\"\n",
    "# 步骤1：在干净的训练数据上训练模型，并保存训练好的参数\n",
    "model = ConvNet().to(device)\n",
    "optimizer = optim.Adam(model.parameters(), lr=0.001)\n",
    "criterion = nn.CrossEntropyLoss()\n",
    "\n",
    "train(model, train_dataloader, test_dataloader, optimizer, criterion, device=device, epochs=5)\n",
    "\n",
    "# 保存训练好的模型参数\n",
    "torch.save(model.state_dict(), 'pretrained_model.pth')\n",
    "\n",
    "# 步骤2：使用预训练好的参数初始化模型\n",
    "pretrained_model = ConvNet().to(device)\n",
    "pretrained_model.load_state_dict(torch.load('pretrained_model.pth'))\n",
    "\n",
    "# 步骤3：对测试数据进行PGD对抗攻击，生成对抗样本\n",
    "pgd_attack = PGD(pretrained_model, eps=8 / 255, alpha=2 / 255, steps=4)\n",
    "adv_test_loader = DataLoader(Adversarial_examples_test_dataset, batch_size=64, shuffle=False)\n",
    "\n",
    "# 步骤4：使用预训练的模型对干净测试数据和对抗样本进行预测，计算攻击成功率\n",
    "evaluate(pretrained_model, test_dataloader, adv_test_loader, device=device)\n"
   ]
  }
 ],
 "metadata": {
  "kernelspec": {
   "display_name": "Python 3.9.15 ('base')",
   "language": "python",
   "name": "python3"
  },
  "language_info": {
   "codemirror_mode": {
    "name": "ipython",
    "version": 3
   },
   "file_extension": ".py",
   "mimetype": "text/x-python",
   "name": "python",
   "nbconvert_exporter": "python",
   "pygments_lexer": "ipython3",
   "version": "3.9.15"
  },
  "orig_nbformat": 4,
  "vscode": {
   "interpreter": {
    "hash": "e3088de3960acd46056fbdd3913a22297cbcceb7274202512f4b511f7eda05a2"
   }
  }
 },
 "nbformat": 4,
 "nbformat_minor": 2
}
