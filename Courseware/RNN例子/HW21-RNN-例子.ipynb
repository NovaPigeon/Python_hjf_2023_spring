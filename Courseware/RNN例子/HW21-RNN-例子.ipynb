{
 "cells": [
  {
   "cell_type": "markdown",
   "metadata": {},
   "source": [
    "# RNN例子2\n",
    "使用PyTorch搭建RNN模型，完成简单的文本分类任务。本次作业的选做题难度较大，仅供有自然语言处理基础且时间充裕的同学完成。\n"
   ]
  },
  {
   "cell_type": "markdown",
   "metadata": {},
   "source": [
    "## 一、数据处理\n",
    "\n",
    "首先导入常用软件包。"
   ]
  },
  {
   "cell_type": "code",
   "execution_count": 2,
   "metadata": {},
   "outputs": [
    {
     "ename": "ModuleNotFoundError",
     "evalue": "No module named 'torchtext.legacy'",
     "output_type": "error",
     "traceback": [
      "\u001b[0;31m---------------------------------------------------------------------------\u001b[0m",
      "\u001b[0;31mModuleNotFoundError\u001b[0m                       Traceback (most recent call last)",
      "Cell \u001b[0;32mIn[2], line 10\u001b[0m\n\u001b[1;32m      7\u001b[0m \u001b[38;5;28;01mimport\u001b[39;00m \u001b[38;5;21;01mspacy\u001b[39;00m\n\u001b[1;32m      8\u001b[0m \u001b[38;5;28;01mimport\u001b[39;00m \u001b[38;5;21;01mnumpy\u001b[39;00m \u001b[38;5;28;01mas\u001b[39;00m \u001b[38;5;21;01mnp\u001b[39;00m\n\u001b[0;32m---> 10\u001b[0m \u001b[38;5;28;01mfrom\u001b[39;00m \u001b[38;5;21;01mtorchtext\u001b[39;00m\u001b[38;5;21;01m.\u001b[39;00m\u001b[38;5;21;01mlegacy\u001b[39;00m \u001b[38;5;28;01mimport\u001b[39;00m data\n\u001b[1;32m     11\u001b[0m \u001b[38;5;28;01mfrom\u001b[39;00m \u001b[38;5;21;01mtqdm\u001b[39;00m \u001b[38;5;28;01mimport\u001b[39;00m tqdm\n",
      "\u001b[0;31mModuleNotFoundError\u001b[0m: No module named 'torchtext.legacy'"
     ]
    }
   ],
   "source": [
    "import torch\n",
    "import torch.nn as nn\n",
    "from matplotlib import pyplot as plt \n",
    "import os\n",
    "import glob\n",
    "from sklearn.model_selection import train_test_split\n",
    "import spacy\n",
    "import numpy as np\n",
    "\n",
    "from torchtext.legacy import data\n",
    "from tqdm import tqdm"
   ]
  },
  {
   "cell_type": "markdown",
   "metadata": {},
   "source": [
    "本次作业使用的数据为torchtext.data中的AG_NEWS，每一行代表一个样本，三列数据分别代表：“类别”，“标题”，“正文”。该数据集中的类别有四种：“World”, “Sports”, “Business”, “Sci/Tech”，分别用数字1-4表示。\n",
    "\n",
    "因为原始数据集较大，截取了其中一部分作为训练集和测试集，train.csv中包含6600条数据，test.csv中包含1000条数据。\n",
    "\n",
    "使用torchtext完成数据的加载，主要使用以下三个组件：\n",
    "\n",
    "1. Field : 主要包含以下数据预处理的配置信息，比如指定分词方法，是否转成小写，起始字符，结束字符，补全字符以及词典等等\n",
    "\n",
    "2. Dataset : 继承自pytorch的Dataset，用于加载数据，提供了TabularDataset可以指点路径，格式，Field信息就可以方便的完成数据加载。同时torchtext还提供预先构建的常用数据集的Dataset对象，可以直接加载使用，splits方法可以同时加载训练集，验证集和测试集。\n",
    "\n",
    "3. Iterator : 主要是数据输出的模型的迭代器，可以支持batch定制\n",
    "\n",
    "如果在使用torchtext的过程中出现报错的情况，一种可能是由于版本问题，相关的类被移动到torchtext.legacy当中"
   ]
  },
  {
   "cell_type": "code",
   "execution_count": 19,
   "metadata": {},
   "outputs": [
    {
     "name": "stdout",
     "output_type": "stream",
     "text": [
      "{'label': '3', 'title': ['Fears', 'for', 'T', 'N', 'pension', 'after', 'talks'], 'text': ['Unions', 'representing', 'workers', 'at', 'Turner', 'Newall', 'say', 'they', 'are', \"'disappointed'\", 'after', 'talks', 'with', 'stricken', 'parent', 'firm', 'Federal', 'Mogul.']}\n",
      "{'label': '2', 'title': ['Six', 'players', 'suspended', 'for', 'one', 'game'], 'text': ['Six', 'players', 'from', 'both', 'Clemson', 'and', 'South', 'Carolina', 'will', 'be', 'suspended', 'for', 'one', 'game', 'next', 'season', 'for', 'their', 'participation', 'in', 'a', 'brawl', 'near', 'the', 'end', 'of', 'the', 'rivalry', 'game', 'November', '20th.']}\n"
     ]
    }
   ],
   "source": [
    "TEXT = data.Field(sequential=True, batch_first=True, include_lengths=True)\n",
    "TITLE = data.Field(sequential=True, batch_first=True, include_lengths=True)\n",
    "LABEL = data.Field(sequential=False, batch_first=True, use_vocab=False)\n",
    "\n",
    "fields = [('label', LABEL), ('title', TITLE), ('text',TEXT)]  # 通过定义fields可以方便地读取数据，这里第一列为label，第三列为需要分类的text，标题暂时不需要\n",
    "\n",
    "train_data = data.TabularDataset(path='train.csv', format='csv', fields=fields, skip_header=False)\n",
    "test_data = data.TabularDataset(path='test.csv', format='csv', fields=fields, skip_header=False)\n",
    "#print preprocessed text\n",
    "print(vars(train_data.examples[0]))\n",
    "print(vars(test_data.examples[0]))"
   ]
  },
  {
   "cell_type": "markdown",
   "metadata": {},
   "source": [
    "torchtext提供了构建词表的功能：我们使用50维的预训练词向量，建立词典、索引以及对应的词向量映射关系。\n",
    "\n",
    "下载后的预训练词向量会默认存储在“.vector_cache”文件夹中。"
   ]
  },
  {
   "cell_type": "code",
   "execution_count": 23,
   "metadata": {},
   "outputs": [],
   "source": [
    "#initialize glove embeddings\n",
    "TEXT.build_vocab(train_data, min_freq=3, vectors=\"glove.6B.50d\")  # 去除低频词，使用50维的预训练词向量\n",
    "TITLE.build_vocab(train_data, min_freq=3, vectors=\"glove.6B.50d\")\n",
    "LABEL.build_vocab(train_data)\n",
    "\n"
   ]
  },
  {
   "cell_type": "code",
   "execution_count": 24,
   "metadata": {},
   "outputs": [
    {
     "name": "stdout",
     "output_type": "stream",
     "text": [
      "Size of TEXT vocabulary: 8463\n",
      "Size of TITLE vocabulary: 3273\n",
      "Size of LABEL vocabulary: 5\n",
      "[('the', 9539), ('a', 5240), ('to', 5228), ('of', 4857), ('in', 4099), ('and', 3620), ('on', 2477), ('-', 2062), ('for', 2026), ('that', 1500)]\n"
     ]
    }
   ],
   "source": [
    "#No. of unique tokens in text\n",
    "print(\"Size of TEXT vocabulary:\", len(TEXT.vocab))\n",
    "print(\"Size of TITLE vocabulary:\", len(TITLE.vocab))\n",
    "\n",
    "#No. of unique tokens in label\n",
    "print(\"Size of LABEL vocabulary:\", len(LABEL.vocab))  # 这里长度为5是因为build_vocabulary默认会添加一个<unk> token\n",
    "\n",
    "#Commonly used words\n",
    "print(TEXT.vocab.freqs.most_common(10))  # tuple中第一个元素为单词，第二个元素为对应的索引\n",
    "\n",
    "#Word dictionary\n",
    "#print(TEXT.vocab.stoi)   # stoi可以将单词转换为数字索引"
   ]
  },
  {
   "cell_type": "code",
   "execution_count": 25,
   "metadata": {},
   "outputs": [
    {
     "data": {
      "text/plain": [
       "device(type='cpu')"
      ]
     },
     "execution_count": 25,
     "metadata": {},
     "output_type": "execute_result"
    }
   ],
   "source": [
    "device = torch.device('cuda' if torch.cuda.is_available() else 'cpu')  # 有条件的同学可以使用gpu加速训练\n",
    "\n",
    "device "
   ]
  },
  {
   "cell_type": "code",
   "execution_count": 26,
   "metadata": {},
   "outputs": [],
   "source": [
    "batch_size = 64\n",
    "\n",
    "# 划分之后的数据集，每个batch中有64个样本\n",
    "train_iterator, test_iterator = data.BucketIterator.splits(\n",
    "    (train_data, test_data),\n",
    "    batch_size=batch_size,\n",
    "    sort_key=lambda x: len(x.text),\n",
    "    sort_within_batch=True,\n",
    "    device=device)"
   ]
  },
  {
   "cell_type": "markdown",
   "metadata": {},
   "source": [
    "### 词向量小练习\n",
    "\n",
    "glove.6B.50d.txt中每一行表示：单词 50维词向量\n",
    "\n",
    "gensim支持word2vec格式，因此需要先转换glove格式的词向量文件"
   ]
  },
  {
   "cell_type": "code",
   "execution_count": 27,
   "metadata": {},
   "outputs": [
    {
     "name": "stderr",
     "output_type": "stream",
     "text": [
      "<ipython-input-27-ba80ecbaec4f>:8: DeprecationWarning: Call to deprecated `glove2word2vec` (KeyedVectors.load_word2vec_format(.., binary=False, no_header=True) loads GLoVE text vectors.).\n",
      "  (count, dimensions) = glove2word2vec(glove_input_file, word2vec_output_file)\n"
     ]
    }
   ],
   "source": [
    "import gensim\n",
    "from gensim.models import KeyedVectors\n",
    "from gensim.scripts.glove2word2vec import glove2word2vec\n",
    "\n",
    "# 格式转换\n",
    "glove_input_file = '.vector_cache/glove.6B.50d.txt'\n",
    "word2vec_output_file = '.vector_cache/glove.6B.50d.word2vec.txt'\n",
    "(count, dimensions) = glove2word2vec(glove_input_file, word2vec_output_file)\n",
    "\n",
    "# 加载词向量\n",
    "glove_model = KeyedVectors.load_word2vec_format(word2vec_output_file, binary=False)"
   ]
  },
  {
   "cell_type": "markdown",
   "metadata": {},
   "source": [
    "词向量的加减可以得到有趣的结果，一个著名例子是公式：king - man + woman"
   ]
  },
  {
   "cell_type": "code",
   "execution_count": 28,
   "metadata": {},
   "outputs": [
    {
     "name": "stdout",
     "output_type": "stream",
     "text": [
      "[('queen', 0.8523604273796082), ('throne', 0.7664334177970886), ('prince', 0.759214460849762), ('daughter', 0.7473882436752319), ('elizabeth', 0.7460219860076904), ('princess', 0.7424570322036743), ('kingdom', 0.7337411642074585), ('monarch', 0.721449077129364), ('eldest', 0.7184861898422241), ('widow', 0.7099431157112122)]\n"
     ]
    }
   ],
   "source": [
    "result = glove_model.most_similar(positive=['woman', 'king'], negative=['man']) \n",
    "print(result)"
   ]
  },
  {
   "cell_type": "markdown",
   "metadata": {},
   "source": [
    "**请自由尝试几个其他的词向量加减例子**"
   ]
  },
  {
   "cell_type": "code",
   "execution_count": 3,
   "metadata": {},
   "outputs": [
    {
     "name": "stdout",
     "output_type": "stream",
     "text": [
      "[('japan', 0.7802004218101501), ('china', 0.7683160901069641), ('domestic', 0.7585546374320984), ('asian', 0.7354557514190674), ('asia', 0.7289562821388245), ('u.s.', 0.7251277565956116), ('taiwan', 0.7245966792106628), ('states', 0.721280574798584), ('kong', 0.7186021208763123), ('biggest', 0.7148484587669373)]\n",
      "[('hospital', 0.6625596284866333), ('surgeon', 0.6420620679855347), ('dentist', 0.6127005815505981), ('sick', 0.6047527194023132), ('surgery', 0.5822544693946838), ('pregnant', 0.5819782018661499), ('veterinarian', 0.5811264514923096), ('sleeping', 0.5784093737602234), ('ambulance', 0.5779232382774353), ('baby', 0.5739707350730896)]\n"
     ]
    }
   ],
   "source": [
    "# TODO\n",
    "\n"
   ]
  },
  {
   "cell_type": "markdown",
   "metadata": {},
   "source": [
    "**请通过合适的方法将词向量降至2或3维，在空间坐标中显示出下列单词的位置，进行词向量可视化**"
   ]
  },
  {
   "cell_type": "code",
   "execution_count": 9,
   "metadata": {},
   "outputs": [
    {
     "data": {
      "image/png": "[encoded data removed]",
      "text/plain": [
       "<Figure size 432x288 with 1 Axes>"
      ]
     },
     "metadata": {
      "needs_background": "light"
     },
     "output_type": "display_data"
    },
    {
     "data": {
      "image/png": "[encoded data removed]",
      "text/plain": [
       "<Figure size 432x288 with 1 Axes>"
      ]
     },
     "metadata": {
      "needs_background": "light"
     },
     "output_type": "display_data"
    },
    {
     "data": {
      "image/png": "[encoded data removed]",
      "text/plain": [
       "<Figure size 432x288 with 1 Axes>"
      ]
     },
     "metadata": {
      "needs_background": "light"
     },
     "output_type": "display_data"
    }
   ],
   "source": [
    "words = [\"cat\", \"dog\", \"fish\", \"kitten\", \"man\", \"woman\",\n",
    "         \"king\", \"queen\", \"doctor\", \"nurse\"]\n",
    "\n",
    "# TODO\n",
    "\n",
    "# PCA降维\n",
    "from sklearn.decomposition import PCA\n",
    "vec = glove_model[words]\n",
    "vec_pca = PCA(n_components=2).fit_transform(vec)\n",
    "fig, ax = plt.subplots()\n",
    "for i in range(len(words)):\n",
    "    ax.scatter(vec_pca[i][0], vec_pca[i][1], color='blue')\n",
    "    ax.annotate(words[i], xy=(vec_pca[i,0], vec_pca[i,1]), xytext=(10, 0), textcoords='offset points', fontsize=10)\n",
    "plt.show()\n",
    "\n",
    "# SVD降维\n",
    "from sklearn.decomposition import TruncatedSVD\n",
    "vec = glove_model[words]\n",
    "vec_pca = TruncatedSVD(n_components=2).fit_transform(vec)\n",
    "fig, ax = plt.subplots()\n",
    "for i in range(len(words)):\n",
    "    ax.scatter(vec_pca[i][0], vec_pca[i][1], color='blue')\n",
    "    ax.annotate(words[i], xy=(vec_pca[i,0], vec_pca[i,1]), xytext=(10, 0), textcoords='offset points', fontsize=10)\n",
    "plt.show()\n",
    "\n",
    "# TSNE降维\n",
    "from sklearn.manifold import TSNE\n",
    "vec = glove_model[words]\n",
    "vec_pca = TSNE(n_components=2).fit_transform(vec)\n",
    "fig, ax = plt.subplots()\n",
    "for i in range(len(words)):\n",
    "    ax.scatter(vec_pca[i][0], vec_pca[i][1], color='blue')\n",
    "    ax.annotate(words[i], xy=(vec_pca[i,0], vec_pca[i,1]), xytext=(10, 0), textcoords='offset points', fontsize=10)\n",
    "plt.show()"
   ]
  },
  {
   "cell_type": "markdown",
   "metadata": {},
   "source": [
    "## 二、RNN模型搭建\n",
    "\n",
    "这里参考课件上的代码搭建了一个简单的RNN模型\n",
    "\n",
    "1. 每次读取一个单词，因此RNN的输入维度为50（即词向量的维度）再加上hidden_size\n",
    "2. 最终的输出维度为4（对应四个类别）\n",
    "3. 初始隐状态可以用零向量\n",
    "\n",
    "有需要的话可以自由修改"
   ]
  },
  {
   "cell_type": "code",
   "execution_count": 29,
   "metadata": {},
   "outputs": [],
   "source": [
    "class RNN(nn.Module):\n",
    "    def __init__(self, embedding_dim, hidden_size, output_size):\n",
    "        super(RNN, self).__init__()\n",
    "        self.hidden_size = hidden_size\n",
    "        self.i2h = nn.Linear(embedding_dim + hidden_size, hidden_size)\n",
    "        #self.i2o = nn.Linear(embedding_dim + hidden_size, output_size)\n",
    "        self.h2o = nn.Linear(hidden_size, output_size)\n",
    "        self.softmax = nn.LogSoftmax(dim=1)\n",
    "        \n",
    "    def forward(self, input_, hidden):\n",
    "        combined = torch.cat((input_, hidden), 1)\n",
    "        hidden = self.i2h(combined)\n",
    "        #output = self.i2o(combined)\n",
    "        output = self.h2o(hidden)\n",
    "        output = self.softmax(output)\n",
    "        return output, hidden\n",
    "        \n",
    "    def init_hidden(self):\n",
    "        return torch.zeros(1, self.hidden_size)  # 初始化全0的隐状态向量"
   ]
  },
  {
   "cell_type": "markdown",
   "metadata": {},
   "source": [
    "## 三、模型训练"
   ]
  },
  {
   "cell_type": "code",
   "execution_count": 33,
   "metadata": {},
   "outputs": [],
   "source": [
    "def train_step(model, batch_data, optimizer, criterion):\n",
    "    optimizer.zero_grad()\n",
    "    total_loss = 0\n",
    "    total_acc = 0\n",
    "\n",
    "    # 载入数据\n",
    "    texts, text_lengths = batch_data.text  # texts当中存储的是单词的数字索引\n",
    "    labels = batch_data.label\n",
    "    titles = batch_data.title    \n",
    "    #print(labels)\n",
    "    #print(texts, text_lengths)\n",
    "    #print(len(text_lengths))\n",
    "    \n",
    "    for text, label, title in zip(texts, labels, titles):\n",
    "        hidden = model.init_hidden().to(device)  # 创建一个初始隐状态\n",
    "        # 每次输入batch中的一个样本\n",
    "        \n",
    "        for i in range(len(text)):\n",
    "            embedding = TEXT.vocab.vectors[text[i]]  # 根据text中的数字索引获得对应的词向量\n",
    "            embedding = embedding.to(device)\n",
    "            # print(embedding)\n",
    "            output, hidden = model(embedding.reshape(1, -1), hidden)  # 变换词向量的维度，使其能和hidden tensor拼接起来\n",
    "        target = (label - 1).unsqueeze(0)  # 原始label是1~4，减1之后对应下标0~3\n",
    "        loss = criterion(output, target)   # 计算loss\n",
    "        loss.backward(retain_graph=True)\n",
    "        \n",
    "        total_loss += loss.item()\n",
    "        \n",
    "        if output.argmax(1) == label - 1:  # 判断模型预测的概率最大的类是否正确\n",
    "            total_acc += 1\n",
    "    \n",
    "    optimizer.step()\n",
    "    \n",
    "    return total_loss / len(batch_data), total_acc / len(batch_data)"
   ]
  },
  {
   "cell_type": "markdown",
   "metadata": {},
   "source": [
    "在训练过程中，我们希望能够保存效果最好的模型，使用save()和load()函数可以实现模型的保存和加载。\n",
    "\n",
    "参考文档：https://pytorch.org/tutorials/beginner/saving_loading_models.html\n",
    "\n",
    "**请实现：保存训练过程中loss最小的模型**\n",
    "\n",
    "考虑到训练阶段运行时间可能比较长，同学们可以自行选择合适的epoch数。本次作业旨在让大家熟悉基本模型结构，模型最终的表现效果不会成为评分指标。"
   ]
  },
  {
   "cell_type": "code",
   "execution_count": 34,
   "metadata": {},
   "outputs": [],
   "source": [
    "def train(model, iterator, lr=0.01, num_epoch=10):\n",
    "    criterion = nn.CrossEntropyLoss()\n",
    "    optimizer = torch.optim.Adam(model.parameters(), lr=lr)\n",
    "\n",
    "    loss_arr = []\n",
    "    epoch_acc = 0\n",
    "    \n",
    "    # set the model in training phase\n",
    "    model.train()\n",
    "    \n",
    "    min_loss = 1e9\n",
    "    for epoch in tqdm(range(num_epoch)):\n",
    "        mean_acc = []\n",
    "        mean_loss = []\n",
    "        for i, batch_data in enumerate(iterator):\n",
    "            batch_loss, batch_acc = train_step(model, batch_data, optimizer, criterion)\n",
    "            loss_arr.append(batch_loss)\n",
    "            mean_loss.append(batch_loss)\n",
    "            if (i + 1) % 10 == 0:\n",
    "                print(\"Iteration number:\", i + 1,'Loss:', batch_loss, \"Acc:\", batch_acc)\n",
    "            mean_acc.append(batch_acc)\n",
    "        print(\"Epoch Acc:\", np.mean(mean_acc), \"Epoch loss\", np.mean(mean_loss))\n",
    "        \n",
    "        # TODO: 保存loss最小的模型\n",
    "        if np.mean(mean_loss) < min_loss:\n",
    "            min_loss = np.mean(mean_loss)\n",
    "            torch.save(model, 'best.pt')\n",
    "            # torch.save(model.state_dict(), 'best.pt')\n",
    "        \n",
    "    \n",
    "    # 绘制loss曲线\n",
    "    plt.figure()\n",
    "    plt.plot(loss_arr, \"-*\")\n",
    "    plt.xlabel(\"Iteration\")\n",
    "    plt.ylabel(\"Loss\")\n",
    "    plt.show()"
   ]
  },
  {
   "cell_type": "code",
   "execution_count": 35,
   "metadata": {},
   "outputs": [
    {
     "name": "stderr",
     "output_type": "stream",
     "text": [
      "\r\n",
      "  0%|                                                                                           | 0/10 [00:00<?, ?it/s]"
     ]
    },
    {
     "name": "stdout",
     "output_type": "stream",
     "text": [
      "Iteration number: 10 Loss: 0.04387255758047104 Acc: 0.0\n",
      "Iteration number: 20 Loss: 0.04366613179445267 Acc: 0.0\n",
      "Iteration number: 30 Loss: 0.038737738505005836 Acc: 0.015625\n",
      "Iteration number: 40 Loss: 0.04885859228670597 Acc: 0.0\n",
      "Iteration number: 50 Loss: 0.03759835101664066 Acc: 0.015625\n",
      "Iteration number: 60 Loss: 0.03398815169930458 Acc: 0.03125\n",
      "Iteration number: 70 Loss: 0.04505119286477566 Acc: 0.0\n",
      "Iteration number: 80 Loss: 0.048263970762491226 Acc: 0.0\n",
      "Iteration number: 90 Loss: 0.03583473525941372 Acc: 0.015625\n",
      "Iteration number: 100 Loss: 0.02639049105346203 Acc: 0.03125\n",
      "Epoch Acc: 0.009314903846153846 Epoch loss "
     ]
    },
    {
     "name": "stderr",
     "output_type": "stream",
     "text": [
      "\r\n",
      " 10%|████████▎                                                                          | 1/10 [00:01<00:12,  1.37s/it]"
     ]
    },
    {
     "name": "stdout",
     "output_type": "stream",
     "text": [
      "0.04566940328536125\n",
      "Iteration number: 10 Loss: 0.046844881027936935 Acc: 0.015625\n",
      "Iteration number: 20 Loss: 0.041101573035120964 Acc: 0.015625\n",
      "Iteration number: 30 Loss: 0.03544234484434128 Acc: 0.03125\n",
      "Iteration number: 40 Loss: 0.0342024527490139 Acc: 0.015625\n",
      "Iteration number: 50 Loss: 0.027332902420312166 Acc: 0.015625\n",
      "Iteration number: 60 Loss: 0.03467985149472952 Acc: 0.015625\n",
      "Iteration number: 70 Loss: 0.046323904767632484 Acc: 0.015625\n",
      "Iteration number: 80 Loss: 0.03384748473763466 Acc: 0.015625\n",
      "Iteration number: 90 Loss: 0.04891413636505604 Acc: 0.015625\n"
     ]
    },
    {
     "name": "stderr",
     "output_type": "stream",
     "text": [
      "\r\n",
      " 20%|████████████████▌                                                                  | 2/10 [00:02<00:10,  1.35s/it]"
     ]
    },
    {
     "name": "stdout",
     "output_type": "stream",
     "text": [
      "Iteration number: 100 Loss: 0.030247762799263 Acc: 0.015625\n",
      "Epoch Acc: 0.014723557692307692 Epoch loss 0.04376455122613921\n",
      "Iteration number: 10 Loss: 0.029039332643151283 Acc: 0.015625\n",
      "Iteration number: 20 Loss: 0.028838735073804855 Acc: 0.015625\n",
      "Iteration number: 30 Loss: 0.05137506127357483 Acc: 0.0\n",
      "Iteration number: 40 Loss: 0.04272022843360901 Acc: 0.0\n",
      "Iteration number: 50 Loss: 0.05175697896629572 Acc: 0.015625\n",
      "Iteration number: 60 Loss: 0.04798996075987816 Acc: 0.0\n",
      "Iteration number: 70 Loss: 0.04652024619281292 Acc: 0.0\n",
      "Iteration number: 80 Loss: 0.03333781659603119 Acc: 0.015625\n",
      "Iteration number: 90 Loss: 0.03951288387179375 Acc: 0.0\n",
      "Iteration number: 100 Loss: 0.039192214608192444 Acc: 0.0\n"
     ]
    },
    {
     "name": "stderr",
     "output_type": "stream",
     "text": [
      "\r\n",
      " 30%|████████████████████████▉                                                          | 3/10 [00:04<00:09,  1.38s/it]"
     ]
    },
    {
     "name": "stdout",
     "output_type": "stream",
     "text": [
      "Epoch Acc: 0.013070913461538462 Epoch loss 0.04306403194809368\n",
      "Iteration number: 10 Loss: 0.053316228091716766 Acc: 0.0\n",
      "Iteration number: 20 Loss: 0.06259190663695335 Acc: 0.0\n",
      "Iteration number: 30 Loss: 0.013124437537044287 Acc: 0.03125\n",
      "Iteration number: 40 Loss: 0.0178776104003191 Acc: 0.03125\n",
      "Iteration number: 50 Loss: 0.030964010395109653 Acc: 0.015625\n",
      "Iteration number: 60 Loss: 0.04096990078687668 Acc: 0.0\n",
      "Iteration number: 70 Loss: 0.03902390878647566 Acc: 0.015625\n",
      "Iteration number: 80 Loss: 0.04034937918186188 Acc: 0.015625\n",
      "Iteration number: 90 Loss: 0.04851875081658363 Acc: 0.0\n"
     ]
    },
    {
     "name": "stderr",
     "output_type": "stream",
     "text": [
      "\r\n",
      " 40%|█████████████████████████████████▏                                                 | 4/10 [00:05<00:08,  1.38s/it]"
     ]
    },
    {
     "name": "stdout",
     "output_type": "stream",
     "text": [
      "Iteration number: 100 Loss: 0.04484296217560768 Acc: 0.0\n",
      "Epoch Acc: 0.012319711538461538 Epoch loss 0.04098081335066057\n",
      "Iteration number: 10 Loss: 0.03724759630858898 Acc: 0.015625\n",
      "Iteration number: 20 Loss: 0.042373744770884514 Acc: 0.015625\n",
      "Iteration number: 30 Loss: 0.04147172160446644 Acc: 0.0\n",
      "Iteration number: 40 Loss: 0.03195241745561361 Acc: 0.015625\n",
      "Iteration number: 50 Loss: 0.04612627997994423 Acc: 0.0\n",
      "Iteration number: 60 Loss: 0.03500481881201267 Acc: 0.015625\n",
      "Iteration number: 70 Loss: 0.03604310005903244 Acc: 0.03125\n",
      "Iteration number: 80 Loss: 0.008093115058727562 Acc: 0.03125\n",
      "Iteration number: 90 Loss: 0.025212913285940886 Acc: 0.03125\n",
      "Iteration number: 100 Loss: 0.02999995881691575 Acc: 0.015625\n"
     ]
    },
    {
     "name": "stderr",
     "output_type": "stream",
     "text": [
      "\r\n",
      " 50%|█████████████████████████████████████████▌                                         | 5/10 [00:06<00:06,  1.38s/it]"
     ]
    },
    {
     "name": "stdout",
     "output_type": "stream",
     "text": [
      "Epoch Acc: 0.018329326923076924 Epoch loss 0.03869066988520969\n",
      "Iteration number: 10 Loss: 0.017750555998645723 Acc: 0.03125\n",
      "Iteration number: 20 Loss: 0.0019797070999629796 Acc: 0.03125\n",
      "Iteration number: 30 Loss: 0.035072389990091324 Acc: 0.015625\n",
      "Iteration number: 40 Loss: 0.031143423169851303 Acc: 0.015625\n",
      "Iteration number: 50 Loss: 0.025811084546148777 Acc: 0.015625\n",
      "Iteration number: 60 Loss: 0.036287023685872555 Acc: 0.015625\n",
      "Iteration number: 70 Loss: 0.0381858479231596 Acc: 0.015625\n",
      "Iteration number: 80 Loss: 0.03519196715205908 Acc: 0.0\n",
      "Iteration number: 90 Loss: 0.05195692367851734 Acc: 0.0\n"
     ]
    },
    {
     "name": "stderr",
     "output_type": "stream",
     "text": [
      "\r\n",
      " 60%|█████████████████████████████████████████████████▊                                 | 6/10 [00:08<00:05,  1.37s/it]"
     ]
    },
    {
     "name": "stdout",
     "output_type": "stream",
     "text": [
      "Iteration number: 100 Loss: 0.020240797195583582 Acc: 0.015625\n",
      "Epoch Acc: 0.014723557692307692 Epoch loss 0.0350898236159852\n",
      "Iteration number: 10 Loss: 0.005096597480587661 Acc: 0.03125\n",
      "Iteration number: 20 Loss: 0.052426936104893684 Acc: 0.0\n",
      "Iteration number: 30 Loss: 0.03525853622704744 Acc: 0.015625\n",
      "Iteration number: 40 Loss: 0.047583818435668945 Acc: 0.0\n",
      "Iteration number: 50 Loss: 0.020569838816300035 Acc: 0.015625\n",
      "Iteration number: 60 Loss: 0.020578829338774085 Acc: 0.015625\n",
      "Iteration number: 70 Loss: 0.04690556414425373 Acc: 0.0\n",
      "Iteration number: 80 Loss: 0.02676716446876526 Acc: 0.03125\n",
      "Iteration number: 90 Loss: 0.03389227204024792 Acc: 0.015625\n"
     ]
    },
    {
     "name": "stderr",
     "output_type": "stream",
     "text": [
      "\r\n",
      " 70%|██████████████████████████████████████████████████████████                         | 7/10 [00:09<00:04,  1.36s/it]"
     ]
    },
    {
     "name": "stdout",
     "output_type": "stream",
     "text": [
      "Iteration number: 100 Loss: 0.05086190812289715 Acc: 0.0\n",
      "Epoch Acc: 0.018629807692307692 Epoch loss 0.03488186408293796\n",
      "Iteration number: 10 Loss: 0.02796877548098564 Acc: 0.015625\n",
      "Iteration number: 20 Loss: 0.04176526807714254 Acc: 0.015625\n",
      "Iteration number: 30 Loss: 0.0007469833944924176 Acc: 0.03125\n",
      "Iteration number: 40 Loss: 0.021324344926142658 Acc: 0.015625\n",
      "Iteration number: 50 Loss: 0.15221666544675827 Acc: 0.0\n",
      "Iteration number: 60 Loss: 0.04542853496968746 Acc: 0.0\n",
      "Iteration number: 70 Loss: 0.027060010470449924 Acc: 0.03125\n",
      "Iteration number: 80 Loss: 0.012140627368353307 Acc: 0.03125\n"
     ]
    },
    {
     "name": "stderr",
     "output_type": "stream",
     "text": [
      "\r\n",
      " 80%|██████████████████████████████████████████████████████████████████▍                | 8/10 [00:10<00:02,  1.37s/it]"
     ]
    },
    {
     "name": "stdout",
     "output_type": "stream",
     "text": [
      "Iteration number: 90 Loss: 0.04028541222214699 Acc: 0.0\n",
      "Iteration number: 100 Loss: 0.033707182854413986 Acc: 0.015625\n",
      "Epoch Acc: 0.018028846153846152 Epoch loss 0.03550832775729873\n",
      "Iteration number: 10 Loss: 0.039710067212581635 Acc: 0.0\n",
      "Iteration number: 20 Loss: 0.05932071432471275 Acc: 0.015625\n",
      "Iteration number: 30 Loss: 0.03129049204289913 Acc: 0.015625\n",
      "Iteration number: 40 Loss: 0.026578410528600216 Acc: 0.015625\n",
      "Iteration number: 50 Loss: 0.043804594315588474 Acc: 0.015625\n",
      "Iteration number: 60 Loss: 0.038539002649486065 Acc: 0.015625\n",
      "Iteration number: 70 Loss: 0.02438630536198616 Acc: 0.03125\n",
      "Iteration number: 80 Loss: 0.02648872137069702 Acc: 0.03125\n",
      "Iteration number: 90 Loss: 0.027384410612285137 Acc: 0.015625\n",
      "Iteration number: 100 Loss: 0.04097380489110947 Acc: 0.0\n"
     ]
    },
    {
     "name": "stderr",
     "output_type": "stream",
     "text": [
      "\r\n",
      " 90%|██████████████████████████████████████████████████████████████████████████▋        | 9/10 [00:12<00:01,  1.37s/it]"
     ]
    },
    {
     "name": "stdout",
     "output_type": "stream",
     "text": [
      "Epoch Acc: 0.01697716346153846 Epoch loss 0.04321660874792052\n",
      "Iteration number: 10 Loss: 0.03755640983581543 Acc: 0.015625\n",
      "Iteration number: 20 Loss: 0.058164479210972786 Acc: 0.015625\n",
      "Iteration number: 30 Loss: 0.05139309540390968 Acc: 0.0\n",
      "Iteration number: 40 Loss: 0.049696728587150574 Acc: 0.015625\n",
      "Iteration number: 50 Loss: 0.03862922638654709 Acc: 0.015625\n",
      "Iteration number: 60 Loss: 0.02857875917106867 Acc: 0.015625\n",
      "Iteration number: 70 Loss: 0.019229765981435776 Acc: 0.03125\n",
      "Iteration number: 80 Loss: 0.02743646502494812 Acc: 0.03125\n",
      "Iteration number: 90 Loss: 0.01644351566210389 Acc: 0.03125\n"
     ]
    },
    {
     "name": "stderr",
     "output_type": "stream",
     "text": [
      "100%|██████████████████████████████████████████████████████████████████████████████████| 10/10 [00:13<00:00,  1.37s/it]"
     ]
    },
    {
     "name": "stdout",
     "output_type": "stream",
     "text": [
      "Iteration number: 100 Loss: 0.027088424190878868 Acc: 0.015625\n",
      "Epoch Acc: 0.016075721153846152 Epoch loss 0.037920589469229944\n"
     ]
    },
    {
     "name": "stderr",
     "output_type": "stream",
     "text": [
      "\n"
     ]
    },
    {
     "data": {
      "image/png": "[encoded data removed]",
      "text/plain": [
       "<Figure size 432x288 with 1 Axes>"
      ]
     },
     "metadata": {
      "needs_background": "light"
     },
     "output_type": "display_data"
    }
   ],
   "source": [
    "# RNN训练 具体的参数可以自行调整\n",
    "n_hidden = 128\n",
    "n_input = 50\n",
    "n_output = 4\n",
    "rnn = RNN(n_input, n_hidden, n_output)\n",
    "rnn.to(device)\n",
    "train(rnn, train_iterator, lr=0.0005, num_epoch=10)"
   ]
  },
  {
   "cell_type": "markdown",
   "metadata": {},
   "source": [
    "## 四、结果评测"
   ]
  },
  {
   "cell_type": "markdown",
   "metadata": {},
   "source": [
    "计算RNN模型在测试集上的准确率："
   ]
  },
  {
   "cell_type": "code",
   "execution_count": 36,
   "metadata": {},
   "outputs": [],
   "source": [
    "def eval_test(model, iterator):\n",
    "    total_cnt = 0\n",
    "    total_acc = 0\n",
    "    \n",
    "    model.eval()\n",
    "    \n",
    "    for batch_data in iterator:\n",
    "        texts, text_lengths = batch_data.text\n",
    "        labels = batch_data.label\n",
    "        \n",
    "        for text, label in zip(texts, labels):\n",
    "            hidden = model.init_hidden().to(device)\n",
    "            for i in range(len(text)):\n",
    "                embedding = TEXT.vocab.vectors[text[i]]\n",
    "                embedding = embedding.to(device)\n",
    "                output, hidden = model(embedding.reshape(1, -1), hidden)\n",
    "            \n",
    "            if output.argmax(1) == label - 1:  # 判断预测概率最大的类是否正确\n",
    "                total_acc += 1\n",
    "            total_cnt += 1\n",
    "\n",
    "    print(\"Test Acc:\", total_acc / total_cnt)"
   ]
  },
  {
   "cell_type": "markdown",
   "metadata": {},
   "source": [
    "**请加载效果最好的模型，输出模型在测试集上的准确率**"
   ]
  },
  {
   "cell_type": "code",
   "execution_count": 37,
   "metadata": {},
   "outputs": [
    {
     "name": "stdout",
     "output_type": "stream",
     "text": [
      "Test Acc: 0.556\n"
     ]
    }
   ],
   "source": [
    "# TODO\n",
    "rnn = torch.load('best.pt')\n",
    "# rnn.load_state_dict(torch.load('best.pt'))\n",
    "rnn.eval()\n",
    "eval_test(rnn, test_iterator)"
   ]
  },
  {
   "cell_type": "markdown",
   "metadata": {},
   "source": [
    "## 五、附加部分（1'）"
   ]
  },
  {
   "cell_type": "markdown",
   "metadata": {},
   "source": [
    "**可选1 模型优化**：在上述文本分类任务中，只使用了文章的正文内容，没有利用标题中的信息。请尝试加入标题内容，修改模型，以优化模型的分类能力。"
   ]
  },
  {
   "cell_type": "code",
   "execution_count": 38,
   "metadata": {},
   "outputs": [],
   "source": [
    "# 在处理数据时增加title的部分\n",
    "TEXT = data.Field(sequential=True, batch_first=True, include_lengths=True)\n",
    "TITLE = data.Field(sequential=True, batch_first=True, include_lengths=True)\n",
    "LABEL = data.Field(sequential=False, batch_first=True, use_vocab=False)\n",
    "\n",
    "fields = [('label', LABEL), ('title', TITLE), ('text',TEXT)]  # 通过定义fields可以方便地读取数据，这里第一列为label，第三列为需要分类的text，标题暂时不需要\n",
    "\n",
    "train_data = data.TabularDataset(path='train.csv', format='csv', fields=fields, skip_header=False)\n",
    "test_data = data.TabularDataset(path='test.csv', format='csv', fields=fields, skip_header=False)\n",
    "\n",
    "#initialize glove embeddings\n",
    "TEXT.build_vocab(train_data, min_freq=3, vectors=\"glove.6B.50d\")  # 去除低频词，使用50维的预训练词向量\n",
    "TITLE.build_vocab(train_data, min_freq=1, vectors=\"glove.6B.50d\")  # 去除低频词，使用50维的预训练词向量\n",
    "LABEL.build_vocab(train_data)"
   ]
  },
  {
   "cell_type": "code",
   "execution_count": 39,
   "metadata": {},
   "outputs": [],
   "source": [
    " "
   ]
  }
 ],
 "metadata": {
  "kernelspec": {
   "display_name": "Python 3.9.15 ('base')",
   "language": "python",
   "name": "python3"
  },
  "language_info": {
   "codemirror_mode": {
    "name": "ipython",
    "version": 3
   },
   "file_extension": ".py",
   "mimetype": "text/x-python",
   "name": "python",
   "nbconvert_exporter": "python",
   "pygments_lexer": "ipython3",
   "version": "3.9.15"
  },
  "vscode": {
   "interpreter": {
    "hash": "e3088de3960acd46056fbdd3913a22297cbcceb7274202512f4b511f7eda05a2"
   }
  }
 },
 "nbformat": 4,
 "nbformat_minor": 4
}
