{
 "cells": [
  {
   "cell_type": "markdown",
   "metadata": {},
   "source": [
    "## HW11 数据分析及贝叶斯模型分类器\n",
    "指导教师：胡俊峰\n",
    "\n",
    "负责助教：苏亚鲁，李浩然\n",
    "\n",
    "注意：仅需要提交.ipynb文件，请**不要**将下发压缩包中的其他文件一并交上。\n",
    "\n",
    "截止日期：4月12日24点"
   ]
  },
  {
   "cell_type": "markdown",
   "metadata": {},
   "source": [
    "### 第一部分：基础练习:用户观影数据分析（3分）\n",
    "\n",
    "#### 1.1 用户偏好分析（3分）\n",
    "    仿照课件中对pop_junk_movie的用户分析，分析pop_golden_movie的用户偏好情况，绘制图像并找到其中的非偏好人群的前3名。\n",
    "    注：用户偏好通过根据用户数据中occ_desc项划分的不同用户群体的平均观影频率来反映，非偏好人群即平均观影频率较低的人群。"
   ]
  },
  {
   "cell_type": "code",
   "execution_count": null,
   "metadata": {},
   "outputs": [],
   "source": []
  },
  {
   "cell_type": "markdown",
   "metadata": {},
   "source": [
    "#### 1.2 对特定类型电影进行用户偏好分析（附加题，不占分）\n",
    "    按照电影的类型进行拆分，并分析Comedy和Action两种类型电影的用户偏好。"
   ]
  },
  {
   "cell_type": "code",
   "execution_count": null,
   "metadata": {},
   "outputs": [],
   "source": []
  },
  {
   "cell_type": "markdown",
   "metadata": {},
   "source": [
    "### 第二部分：进阶练习（7分）\n",
    "    使用贝叶斯模型来为用户推荐电影。"
   ]
  },
  {
   "cell_type": "code",
   "execution_count": null,
   "metadata": {},
   "outputs": [],
   "source": [
    "import numpy as np\n",
    "import pandas as pd\n",
    "\n",
    "# 读取 ratings 文件\n",
    "ratings = pd.read_csv('data/ratings2.csv',  encoding='latin-1', usecols=['user_id', 'movie_id', 'rating', 'timestamp'])\n",
    "# 使用全部数据填写数据矩阵，避免造成用户/电影的缺省\n",
    "user_movie_matrix = ratings.pivot_table('rating', index='user_id', columns='movie_id', aggfunc='mean').fillna(0)\n",
    "user_movie_matrix.shape"
   ]
  },
  {
   "cell_type": "code",
   "execution_count": null,
   "metadata": {},
   "outputs": [],
   "source": [
    "import random\n",
    "def transform(x):\n",
    "    if x>2:\n",
    "        return 1\n",
    "    else:\n",
    "        return 0\n",
    "def mask(x):\n",
    "    if x>0 and random.random() > 0.2:\n",
    "        return x\n",
    "    else:\n",
    "        return 0\n",
    "\n",
    "user_movie_matrix = user_movie_matrix.iloc[:,:].applymap(transform)  # 只有2分以上才认为有推荐的必要\n",
    "train_data_matrix = user_movie_matrix.iloc[:,:].applymap(mask)  # 随机mask掉0.2的观影记录作为测试集\n",
    "test_data_matrix = user_movie_matrix.subtract(train_data_matrix)  # 测试集\n",
    "\n",
    "assert user_movie_matrix.values.reshape(1,-1).sum() == train_data_matrix.values.reshape(1,-1).sum() + test_data_matrix.values.reshape(1,-1).sum()"
   ]
  },
  {
   "cell_type": "code",
   "execution_count": null,
   "metadata": {},
   "outputs": [],
   "source": [
    "train_x = train_data_matrix.iloc[:,:]\n",
    "train_y = train_data_matrix.iloc[:,:50]  # 由于电影数据过多，考虑时间问题，这里选取50部电影进行评测。\n",
    "print(train_x.shape)\n",
    "print(train_y.shape)\n",
    "train_y.head()"
   ]
  },
  {
   "cell_type": "code",
   "execution_count": null,
   "metadata": {},
   "outputs": [],
   "source": [
    "test_y = test_data_matrix.iloc[:,:50] # 由于电影数据过多，考虑时间问题，这里选取50部电影进行评测。\n",
    "print(test_y.shape)\n",
    "test_y.head()"
   ]
  },
  {
   "cell_type": "markdown",
   "metadata": {},
   "source": [
    "#### 2.1 贝叶斯模型训练（3分）\n",
    "    请根据朴素贝叶斯的后验概率公式分别计算先验概率和似然概率，并进行拉普拉斯平滑化。函数需要返回先验概率P和条件概率E。\n",
    "    注：E[i]表示待预测电影有评分的前提下，其他各电影观看过的概率，即 P(x_i=1|c=1)"
   ]
  },
  {
   "cell_type": "code",
   "execution_count": null,
   "metadata": {},
   "outputs": [],
   "source": [
    "def train(X, Y):\n",
    "    P,E = None,None\n",
    "    # TODO\n",
    "    return P,E"
   ]
  },
  {
   "cell_type": "markdown",
   "metadata": {},
   "source": [
    "#### 2.2 贝叶斯模型预测（4分）\n",
    "    请根据2.1计算出的结果，使用train_x作为输入特征，计算待预测电影的后验概率，并为每个用户筛选出top-3电影和实际的观影记录比较，使用提供的代码进行评测。\n",
    "    注：对于当前输入的特征（即观影记录），仅使用数值为1的特征值（即看过的电影）对应的条件概率和待预测电影的先验概率一起计算后验概率，数值为0的特征值不予考虑。"
   ]
  },
  {
   "cell_type": "code",
   "execution_count": null,
   "metadata": {},
   "outputs": [],
   "source": [
    "def predict(X,P,E):\n",
    "    # TODO\n",
    "    pass"
   ]
  },
  {
   "cell_type": "code",
   "execution_count": null,
   "metadata": {},
   "outputs": [],
   "source": [
    "pre_list = []\n",
    "# TODO"
   ]
  },
  {
   "cell_type": "code",
   "execution_count": null,
   "metadata": {},
   "outputs": [],
   "source": [
    "y = (train_y+test_y).values.reshape(1,-1).tolist()[0]  # 实际观影记录\n",
    "print(len(pre_list))\n",
    "print(len(y))\n",
    "assert len(pre_list) == len(y)"
   ]
  },
  {
   "cell_type": "code",
   "execution_count": null,
   "metadata": {},
   "outputs": [],
   "source": [
    "from sklearn.metrics import accuracy_score,classification_report\n",
    "print(classification_report(y,pre_list))"
   ]
  }
 ],
 "metadata": {
  "kernelspec": {
   "display_name": "Python 3.10.6 64-bit",
   "language": "python",
   "name": "python3"
  },
  "language_info": {
   "codemirror_mode": {
    "name": "ipython",
    "version": 3
   },
   "file_extension": ".py",
   "mimetype": "text/x-python",
   "name": "python",
   "nbconvert_exporter": "python",
   "pygments_lexer": "ipython3",
   "version": "3.10.6"
  },
  "vscode": {
   "interpreter": {
    "hash": "6891761e72bd517fc75ef79bbfbd44fa55381d267274edf38a396be6b565a3c5"
   }
  }
 },
 "nbformat": 4,
 "nbformat_minor": 4
}
